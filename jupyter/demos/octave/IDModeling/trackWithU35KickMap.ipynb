{
 "cells": [
  {
   "cell_type": "markdown",
   "metadata": {},
   "source": [
    "# [trackWithU35KickMap](https://github.com/atcollab/at/blob/master/atmat/atdemos/IDModeling/trackWithU35KickMap.m) example"
   ]
  },
  {
   "cell_type": "markdown",
   "metadata": {},
   "source": [
    "read in ESRF lattice"
   ]
  },
  {
   "cell_type": "code",
   "execution_count": null,
   "metadata": {},
   "outputs": [],
   "source": [
    "r=atradoff(esrf);"
   ]
  },
  {
   "cell_type": "markdown",
   "metadata": {},
   "source": [
    "create element from kick map and plot kick map"
   ]
  },
  {
   "cell_type": "code",
   "execution_count": null,
   "metadata": {},
   "outputs": [],
   "source": [
    "U35elem=atidtable('U35',1,'U35.mat',6.04,'IdTablePass');\n",
    "xtable=U35elem.xtable;\n",
    "ytable=U35elem.ytable;\n",
    "xkick=U35elem.xkick;\n",
    "ykick=U35elem.ykick;\n",
    "surf(xtable,ytable,xkick)\n",
    "figure\n",
    "surf(xtable,ytable,ykick)"
   ]
  },
  {
   "cell_type": "markdown",
   "metadata": {},
   "source": [
    "add kick map to lattice"
   ]
  },
  {
   "cell_type": "code",
   "execution_count": null,
   "metadata": {},
   "outputs": [],
   "source": [
    "esrf_U35 = add_ID(r,U35elem);"
   ]
  },
  {
   "cell_type": "markdown",
   "metadata": {},
   "source": [
    "compute optics with and without kick map"
   ]
  },
  {
   "cell_type": "code",
   "execution_count": null,
   "metadata": {},
   "outputs": [],
   "source": [
    "[p0,t0]=atlinopt(r,0,1);\n",
    "[pU35,tU35]=atlinopt(esrf_U35,0,1);"
   ]
  },
  {
   "cell_type": "markdown",
   "metadata": {},
   "source": [
    "write out tune change due to undulator"
   ]
  },
  {
   "cell_type": "code",
   "execution_count": null,
   "metadata": {},
   "outputs": [],
   "source": [
    "t0-tU35"
   ]
  }
 ],
 "metadata": {
  "kernelspec": {
   "display_name": "Octave",
   "language": "octave",
   "name": "octave"
  },
  "language_info": {
   "file_extension": ".m",
   "help_links": [
    {
     "text": "GNU Octave",
     "url": "https://www.gnu.org/software/octave/support.html"
    },
    {
     "text": "Octave Kernel",
     "url": "https://github.com/Calysto/octave_kernel"
    },
    {
     "text": "MetaKernel Magics",
     "url": "https://metakernel.readthedocs.io/en/latest/source/README.html"
    }
   ],
   "mimetype": "text/x-octave",
   "name": "octave",
   "version": "6.2.0"
  }
 },
 "nbformat": 4,
 "nbformat_minor": 4
}
