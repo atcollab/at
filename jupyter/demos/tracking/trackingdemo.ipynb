{
 "cells": [
  {
   "cell_type": "markdown",
   "metadata": {},
   "source": [
    "# [trackingdemo](https://github.com/atcollab/at/blob/master/atmat/atdemos/tracking/trackingdemo.m) example"
   ]
  },
  {
   "cell_type": "markdown",
   "metadata": {},
   "source": [
    "`TRACKINGDEMO` self-running tutorial\n",
    "\n",
    "1. Phase-Space tracking variables\n",
    "2. Tracking through individual elements\n",
    "3. Method - Element consistencyclear all"
   ]
  },
  {
   "cell_type": "markdown",
   "metadata": {},
   "source": [
    "The term `tracking` in Accelerator Physics refers to numerical simulation\n",
    "of particle motion in phase-space as it passes through an accelerator \n",
    "  \n",
    "Octave Accelerator Toolbox uses 6-by-1 column vectors to represent\n",
    "Individual particles in phase space with components `[x px y py delta ct]`\n",
    "For example: "
   ]
  },
  {
   "cell_type": "code",
   "execution_count": null,
   "metadata": {},
   "outputs": [],
   "source": [
    "R = [0.01 0 0.01 0 0 0]'"
   ]
  },
  {
   "cell_type": "markdown",
   "metadata": {},
   "source": [
    "6-by-N matrixes are used to represent groups of N particles"
   ]
  },
  {
   "cell_type": "code",
   "execution_count": null,
   "metadata": {},
   "outputs": [],
   "source": [
    "RRR = [R 2*R 3*R]"
   ]
  },
  {
   "cell_type": "markdown",
   "metadata": {},
   "source": [
    "In Accelerator Toolbox tracking is built upon an open-ended \n",
    "collection of functions that track particles through\n",
    "individual accelerator elements\n",
    "\n",
    "Examle: Load `spear2` lattice"
   ]
  },
  {
   "cell_type": "code",
   "execution_count": null,
   "metadata": {},
   "outputs": [],
   "source": [
    "spear2"
   ]
  },
  {
   "cell_type": "markdown",
   "metadata": {},
   "source": [
    "Second element in `spear2` lattice is a drift space"
   ]
  },
  {
   "cell_type": "code",
   "execution_count": null,
   "metadata": {},
   "outputs": [],
   "source": [
    "SOMEDRIFT = THERING{2}\n",
    "whos SOMEDRIFT"
   ]
  },
  {
   "cell_type": "markdown",
   "metadata": {},
   "source": [
    "`SOMEDRIFT` is a Octave structure\n",
    "\n",
    "Now use function `DRIFTPASS` to track through `SOMEDRIFT`"
   ]
  },
  {
   "cell_type": "code",
   "execution_count": null,
   "metadata": {},
   "outputs": [],
   "source": [
    "DriftPass(SOMEDRIFT,R)"
   ]
  },
  {
   "cell_type": "markdown",
   "metadata": {},
   "source": [
    "`DRIFTPASS` and other tracking functions in accelerator Toolbox \n",
    "accept matrix input to simultaneously track many particles"
   ]
  },
  {
   "cell_type": "code",
   "execution_count": null,
   "metadata": {},
   "outputs": [],
   "source": [
    "DriftPass(SOMEDRIFT,RRR)  "
   ]
  },
  {
   "cell_type": "markdown",
   "metadata": {},
   "source": [
    "Obviously in a drift space particle momentums don't change\n",
    "\n",
    "Try this"
   ]
  },
  {
   "cell_type": "code",
   "execution_count": null,
   "metadata": {},
   "outputs": [],
   "source": [
    "DriftPass(SOMEDRIFT,[0 0.01 0 0.02 0 0]'),"
   ]
  },
  {
   "cell_type": "markdown",
   "metadata": {},
   "source": [
    "Accelerator Toolbox provides an open endeed collection\n",
    "of functions that track through elements using various\n",
    "field models.\n",
    "\n",
    "For example with a more interesting element `QUADRUPOLE`\n",
    "the user can  use different methods\n",
    "implemented as different pass-functions:"
   ]
  },
  {
   "cell_type": "code",
   "execution_count": null,
   "metadata": {},
   "outputs": [],
   "source": [
    "SOMEQUAD = THERING{5};"
   ]
  },
  {
   "cell_type": "code",
   "execution_count": null,
   "metadata": {},
   "outputs": [],
   "source": [
    "QuadLinearPass(SOMEQUAD,R)"
   ]
  },
  {
   "cell_type": "code",
   "execution_count": null,
   "metadata": {},
   "outputs": [],
   "source": [
    "StrMPoleSymplectic4Pass(SOMEQUAD,R)"
   ]
  },
  {
   "cell_type": "code",
   "execution_count": null,
   "metadata": {},
   "outputs": [],
   "source": [
    "StrMPoleSymplectic4RadPass(SOMEQUAD,R)"
   ]
  },
  {
   "cell_type": "markdown",
   "metadata": {},
   "source": [
    "The choice of a proper model depends on\n",
    "\n",
    "1. The problem \n",
    "2. Speed-accuracy trade-off \n",
    "\n",
    "     For example:\n",
    "     `StrMPoleSymplectic4Pass` (4-th order integrator)\n",
    "     is slower but more accurate\n",
    "     than `StrMPoleSymplectic2Pass` (2-nd order integrator)     \n",
    "3. Physical considerations\n",
    "\n",
    "     For example:\n",
    "     `DRIFTPASS` assumes a field-free region which is\n",
    "     NOT a good model for a quadrupole magnet\n",
    "4. Element-Method consistency\n",
    "\n",
    "     Element data gets passed to a pass-function as the first argument\n",
    "     Pass-function attempts to use the field with specific name:\n",
    "     For example:\n",
    "     `QUADLINEARPASS` needs fields `Length` and `K` ...\n",
    "     If the element is a drift it does not have `K` field\n",
    "     If in the above examples we tried `QUADLINEARPASS(SOMEDRIFT,R)`\n",
    "     Octave would ungracefully stop excecution\n",
    "\n",
    "     **!!! This feature puts responsibility for consistency between\n",
    "     Pass-functions used and elements ON THE USER. Small price to \n",
    "     pay for flexibility !!!**"
   ]
  },
  {
   "cell_type": "markdown",
   "metadata": {},
   "source": [
    "Available and extensively tested methods in Accelerator Toolbox 1.0 \n",
    "\n",
    "* AperturePass\n",
    "* BendLinearPass\n",
    "* BndMPoleSymplectic4Pass\n",
    "* BndMPoleSymplectic4RadPass\n",
    "* DriftPass\n",
    "* IdentityPass\n",
    "* QuadLinearPass        \n",
    "* StrMPoleSymplectic4Pass\n",
    "* StrMPoleSymplectic4RadPass\n",
    "* ThinCavityPass\n",
    "* ThinCorrectorPass\n",
    " \n",
    "The names were ment to be long and self-explanatory and end with `Pass`\n",
    "\n",
    "Calling syntax is allways for all element pass-functions is the same\n",
    "\n",
    "These files are originally written in C and converted to MATLAB mex-functions\n",
    "They are located (together with source codes and some with help files)\n",
    "in [`atintegrators`](https://github.com/atcollab/at/tree/master/atintegrators)"
   ]
  }
 ],
 "metadata": {
  "kernelspec": {
   "display_name": "Octave",
   "language": "octave",
   "name": "octave"
  },
  "language_info": {
   "file_extension": ".m",
   "help_links": [
    {
     "text": "GNU Octave",
     "url": "https://www.gnu.org/software/octave/support.html"
    },
    {
     "text": "Octave Kernel",
     "url": "https://github.com/Calysto/octave_kernel"
    },
    {
     "text": "MetaKernel Magics",
     "url": "https://metakernel.readthedocs.io/en/latest/source/README.html"
    }
   ],
   "mimetype": "text/x-octave",
   "name": "octave",
   "version": "6.1.0"
  }
 },
 "nbformat": 4,
 "nbformat_minor": 4
}
