{
 "cells": [
  {
   "cell_type": "markdown",
   "id": "addfb8d6-8b83-45b7-b3be-650fa0e5bed3",
   "metadata": {
    "editable": true,
    "slideshow": {
     "slide_type": ""
    },
    "tags": []
   },
   "source": [
    "# Response matrices"
   ]
  },
  {
   "cell_type": "code",
   "execution_count": 1,
   "id": "ce595103-f8d4-4425-9c16-c4f766cd11c6",
   "metadata": {
    "editable": true,
    "slideshow": {
     "slide_type": ""
    },
    "tags": []
   },
   "outputs": [],
   "source": [
    "import at\n",
    "import numpy as np\n",
    "import math\n",
    "from pathlib import Path\n",
    "from importlib.resources import files, as_file\n",
    "from timeit import timeit"
   ]
  },
  {
   "cell_type": "code",
   "execution_count": 2,
   "id": "f21dfcdb-1fc4-4ab2-a34f-48d1eb467c23",
   "metadata": {
    "editable": true,
    "slideshow": {
     "slide_type": ""
    },
    "tags": []
   },
   "outputs": [],
   "source": [
    "with as_file(files(\"machine_data\") / \"hmba.mat\") as path:\n",
    "    hmba_lattice = at.load_lattice(path)"
   ]
  },
  {
   "cell_type": "code",
   "execution_count": 3,
   "id": "f4b3676d-a5d3-4f16-9fd4-20788606b6b6",
   "metadata": {
    "editable": true,
    "slideshow": {
     "slide_type": ""
    },
    "tags": []
   },
   "outputs": [],
   "source": [
    "for sx in hmba_lattice.select(at.Sextupole):\n",
    "    sx.KickAngle=[0,0]\n",
    "hmba_lattice.enable_6d()"
   ]
  },
  {
   "cell_type": "code",
   "execution_count": 4,
   "id": "620def05-b2fe-4cce-8566-9bd10d2018af",
   "metadata": {
    "editable": true,
    "slideshow": {
     "slide_type": ""
    },
    "tags": []
   },
   "outputs": [],
   "source": [
    "ring = hmba_lattice.repeat(8)"
   ]
  },
  {
   "cell_type": "markdown",
   "id": "2c39fa13-5669-4e84-9d4a-0d87f5e40bf1",
   "metadata": {
    "editable": true,
    "slideshow": {
     "slide_type": ""
    },
    "tags": []
   },
   "source": [
    "A {py:class}`.ResponseMatrix` object defines a general-purpose response matrix, based\n",
    "on a {py:class}`.VariableList` of attributes which will be independently varied, and an\n",
    "{py:class}`.ObservableList` of attributes which will be recorded for each\n",
    "variable step.\n",
    "\n",
    "{py:class}`.ResponseMatrix` objects can be combined with the \"+\" operator to define\n",
    "combined responses. This concatenates the variables and the observables.\n",
    "\n",
    "This module also defines two commonly used response matrices:\n",
    "{py:class}`.OrbitResponseMatrix` for circular machines and\n",
    "{py:class}`.TrajectoryResponseMatrix` for beam lines. Other matrices can be easily\n",
    "defined by providing the desired Observables and Variables to the\n",
    "{py:class}`.ResponseMatrix` base class.\n",
    "\n",
    "## Instantiation\n",
    "\n",
    "The simplest orbit response matrix can be instantiated with:"
   ]
  },
  {
   "cell_type": "code",
   "execution_count": null,
   "id": "2d64d87b-ba18-4c22-921f-f6765f74080d",
   "metadata": {
    "editable": true,
    "slideshow": {
     "slide_type": ""
    },
    "tags": []
   },
   "outputs": [],
   "source": [
    "resp_v = at.OrbitResponseMatrix(ring, \"v\")"
   ]
  },
  {
   "attachments": {},
   "cell_type": "markdown",
   "id": "3adac5dd-307a-425d-b327-0df6fb9ad863",
   "metadata": {
    "editable": true,
    "slideshow": {
     "slide_type": ""
    },
    "tags": []
   },
   "source": [
    "By default, the observables are all the {py:class}`.Monitor` elements, and the\n",
    "variables are all the elements having a *KickAngle* attribute. This is equivalent to:\n",
    "```python\n",
    "resp_v = at.OrbitResponseMatrix(ring, \"v\", bpmrefs = at.Monitor,\n",
    "                             steerrefs = at.checkattr(\"KickAngle\"))\n",
    "```\n",
    "If correction is desired, the variable elements must have the *KickAngle* attribute\n",
    "used for correction. It's available for all magnets, though not present by default\n",
    "except in {py:class}`.Corrector` magnets. For other magnets, the attribute should be\n",
    "explicitly created.\n",
    "\n",
    "There are options to include the RF frequency in the variable list, and the sum of\n",
    "correction angles in the list of observables:"
   ]
  },
  {
   "cell_type": "code",
   "execution_count": null,
   "id": "8e703ee8-0aba-452c-808d-0621ef4e5f1e",
   "metadata": {
    "editable": true,
    "slideshow": {
     "slide_type": ""
    },
    "tags": []
   },
   "outputs": [],
   "source": [
    "resp_h = at.OrbitResponseMatrix(ring, \"h\", cavrefs=at.RFCavity, steersum=True)\n",
    "print(resp_h.shape)"
   ]
  },
  {
   "cell_type": "markdown",
   "id": "fe4795c3-169d-4bbd-b753-fb8903ba5c08",
   "metadata": {
    "editable": true,
    "slideshow": {
     "slide_type": ""
    },
    "tags": []
   },
   "source": [
    "A combined horizontal+vertical response matrix can be obtained with:\n",
    "```python\n",
    "resp_hv = resp_h + resp_v\n",
    "```"
   ]
  },
  {
   "cell_type": "markdown",
   "id": "9f283b27-6898-4c00-9ac5-ec9ba48bd9f5",
   "metadata": {
    "editable": true,
    "slideshow": {
     "slide_type": ""
    },
    "tags": []
   },
   "source": [
    "## Matrix Building\n",
    "\n",
    "The response matrix may be built by two methods:\n",
    "\n",
    "1. {py:meth}`~.ResponseMatrix.build` computes the matrix using tracking.\n",
    "2. {py:meth}`~.ResponseMatrix.load` loads data from a file containing previously\n",
    "   saved values or experimentally measured values"
   ]
  },
  {
   "cell_type": "code",
   "execution_count": null,
   "id": "23154d5d-bdf8-43ed-8b4a-cfc616d7e659",
   "metadata": {
    "editable": true,
    "slideshow": {
     "slide_type": ""
    },
    "tags": []
   },
   "outputs": [],
   "source": [
    "# resp_h.build(use_mp=True, start_method='fork')\n",
    "timeit(\"resp_h.build(use_mp=True, start_method='spawn')\", number=1, globals=globals())"
   ]
  },
  {
   "cell_type": "markdown",
   "id": "0b5e3c74-a11b-42eb-974e-c20d97323b42",
   "metadata": {
    "editable": true,
    "slideshow": {
     "slide_type": ""
    },
    "tags": []
   },
   "source": [
    "## Normalisation\n",
    "\n",
    "To be correctly inverted, the response matrix must be correctly normalised: the norms\n",
    "of its columns must be of the same order of magnitude, and similarly for the rows.\n",
    "This is done by adjusting the weights {math}`w_v` for the variables {math}`\\mathbf{V}`\n",
    "and {math}`w_o` for the observables {math}`\\mathbf{O}`.\n",
    "With {math}`\\mathbf{R}` the response matrix:\n",
    "\n",
    ":::{math}\n",
    "\n",
    "   \\mathbf{O} = \\mathbf{R} . \\mathbf{V}\n",
    ":::\n",
    "\n",
    "The weighted response matrix {math}`\\mathbf{R}_w` is:\n",
    "\n",
    ":::{math}\n",
    "\n",
    "   \\frac{\\mathbf{O}}{w_o} = \\mathbf{R}_w . \\frac{\\mathbf{V}}{w_v}\n",
    ":::\n",
    "The {math}`\\mathbf{R}_w` is dimensionless and should be normalised. This can be checked\n",
    "using:\n",
    "\n",
    "* {py:meth}`~.ResponseMatrix.check_norm` which prints the ratio of the maximum / minimum\n",
    "  norms for variables and observables. These should be less than 10.\n",
    "* {py:meth}`~.ResponseMatrix.plot_norm`\n",
    "\n",
    "Natural and weighted response matrices can be retrieved with the\n",
    "{py:meth}`~.ResponseMatrix.response` and {py:meth}`~.ResponseMatrix.weighted_response`\n",
    "properties."
   ]
  },
  {
   "cell_type": "code",
   "execution_count": null,
   "id": "58eed6ff-9eb2-40b9-841c-b5b4516a6b04",
   "metadata": {},
   "outputs": [],
   "source": [
    "resp_h.cavdelta = 400\n",
    "resp_h.stsumweight = 0.2"
   ]
  },
  {
   "cell_type": "code",
   "execution_count": null,
   "id": "4a399ab6-85f5-4620-b548-09967345afca",
   "metadata": {
    "editable": true,
    "slideshow": {
     "slide_type": ""
    },
    "tags": []
   },
   "outputs": [],
   "source": [
    "resp_h.plot_norm()"
   ]
  },
  {
   "cell_type": "markdown",
   "id": "c348df35-e03e-478e-8d03-8b7656015b45",
   "metadata": {
    "editable": true,
    "slideshow": {
     "slide_type": ""
    },
    "tags": []
   },
   "source": [
    "## Inversion\n",
    "\n",
    "The {py:meth}`~.ResponseMatrix.solve` method computes the singular values of the\n",
    "weighted response matrix."
   ]
  },
  {
   "cell_type": "code",
   "execution_count": null,
   "id": "64e02b6c-2b89-4f5a-b7e1-b9e4e8af0a8b",
   "metadata": {
    "editable": true,
    "slideshow": {
     "slide_type": ""
    },
    "tags": []
   },
   "outputs": [],
   "source": [
    "resp_h.solve()"
   ]
  },
  {
   "cell_type": "markdown",
   "id": "45546624-1884-4792-a9c1-d144a62488c9",
   "metadata": {
    "editable": true,
    "slideshow": {
     "slide_type": ""
    },
    "tags": []
   },
   "source": [
    "We can plot the singular values:"
   ]
  },
  {
   "cell_type": "code",
   "execution_count": null,
   "id": "bee36f70-ccab-4f5e-a746-c4d86cdbb3fc",
   "metadata": {
    "editable": true,
    "slideshow": {
     "slide_type": ""
    },
    "tags": []
   },
   "outputs": [],
   "source": [
    "resp_h.plot_singular_values()"
   ]
  },
  {
   "cell_type": "markdown",
   "id": "58d20efa-57a8-4675-8e55-2765b13f5836",
   "metadata": {
    "editable": true,
    "slideshow": {
     "slide_type": ""
    },
    "tags": []
   },
   "source": [
    "After solving, orbit correction is available, for instance with\n",
    "\n",
    "* {py:meth}`~.ResponseMatrix.get_correction` which returns the correction matrix,\n",
    "* {py:meth}`~.ResponseMatrix.correct` which computes and optionally applies a correction\n",
    "  for the provided {py:class}`.Lattice`."
   ]
  },
  {
   "cell_type": "code",
   "execution_count": 5,
   "id": "c2e57e78-603d-4823-8077-34aaeb7989fd",
   "metadata": {
    "editable": true,
    "slideshow": {
     "slide_type": ""
    },
    "tags": []
   },
   "outputs": [],
   "source": [
    "from at import checkattr"
   ]
  },
  {
   "cell_type": "code",
   "execution_count": 6,
   "id": "91145b56-de6f-4e42-bbc3-22c266d20080",
   "metadata": {
    "editable": true,
    "slideshow": {
     "slide_type": ""
    },
    "tags": []
   },
   "outputs": [],
   "source": [
    "el=ring[11]"
   ]
  },
  {
   "cell_type": "code",
   "execution_count": null,
   "id": "46d5a9eb-fc85-497c-8455-b519fb1ac831",
   "metadata": {},
   "outputs": [],
   "source": []
  },
  {
   "cell_type": "code",
   "execution_count": null,
   "id": "d3017490-ac04-4bde-8ec6-a148958de573",
   "metadata": {},
   "outputs": [],
   "source": []
  },
  {
   "cell_type": "code",
   "execution_count": 9,
   "id": "586290cc-c087-4d65-9d18-6b59de552e47",
   "metadata": {},
   "outputs": [
    {
     "data": {
      "text/plain": [
       "0.12655795097816736"
      ]
     },
     "execution_count": 9,
     "metadata": {},
     "output_type": "execute_result"
    }
   ],
   "source": [
    "timeit(\"f1(el)\", globals=globals())"
   ]
  },
  {
   "cell_type": "code",
   "execution_count": null,
   "id": "65a35b0d-711e-4415-8368-efaee29360ce",
   "metadata": {},
   "outputs": [],
   "source": [
    "timeit(\"f2(el)\", globals=globals())"
   ]
  },
  {
   "cell_type": "code",
   "execution_count": 7,
   "id": "acbcf553-f15a-4f69-84ec-42102c1639c9",
   "metadata": {},
   "outputs": [],
   "source": [
    "f1=checkattr(\"KickAngle\")"
   ]
  },
  {
   "cell_type": "code",
   "execution_count": null,
   "id": "40d14fea-e74f-4a2d-b7b2-045222a77bb8",
   "metadata": {},
   "outputs": [],
   "source": [
    "checkattr?"
   ]
  },
  {
   "cell_type": "code",
   "execution_count": null,
   "id": "4826083a-19d2-4457-aff1-3bfa104b2a54",
   "metadata": {},
   "outputs": [],
   "source": [
    "checkat?"
   ]
  },
  {
   "cell_type": "code",
   "execution_count": null,
   "id": "da3b89ff-d03d-4695-9ff0-8ab9686552f0",
   "metadata": {},
   "outputs": [],
   "source": [
    "help(checkat)"
   ]
  },
  {
   "cell_type": "code",
   "execution_count": null,
   "id": "4e2b0b4a-8363-42b9-94b4-f3431461c0af",
   "metadata": {},
   "outputs": [],
   "source": []
  }
 ],
 "metadata": {
  "kernelspec": {
   "display_name": "Python 3 (ipykernel)",
   "language": "python",
   "name": "python3"
  },
  "language_info": {
   "codemirror_mode": {
    "name": "ipython",
    "version": 3
   },
   "file_extension": ".py",
   "mimetype": "text/x-python",
   "name": "python",
   "nbconvert_exporter": "python",
   "pygments_lexer": "ipython3",
   "version": "3.11.10"
  }
 },
 "nbformat": 4,
 "nbformat_minor": 5
}
