{
 "cells": [
  {
   "cell_type": "markdown",
   "id": "addfb8d6-8b83-45b7-b3be-650fa0e5bed3",
   "metadata": {
    "editable": true,
    "slideshow": {
     "slide_type": ""
    },
    "tags": []
   },
   "source": [
    "# Response matrices"
   ]
  },
  {
   "cell_type": "code",
   "execution_count": 1,
   "id": "ce595103-f8d4-4425-9c16-c4f766cd11c6",
   "metadata": {
    "ExecuteTime": {
     "end_time": "2025-08-16T13:52:44.297813Z",
     "start_time": "2025-08-16T13:52:43.766258Z"
    },
    "editable": true,
    "slideshow": {
     "slide_type": ""
    },
    "tags": []
   },
   "outputs": [],
   "source": [
    "import at\n",
    "import numpy as np\n",
    "import math\n",
    "from pathlib import Path\n",
    "from importlib.resources import files, as_file\n",
    "from timeit import timeit\n",
    "from at.future import VariableList, RefptsVariable"
   ]
  },
  {
   "cell_type": "code",
   "execution_count": 2,
   "id": "f21dfcdb-1fc4-4ab2-a34f-48d1eb467c23",
   "metadata": {
    "ExecuteTime": {
     "end_time": "2025-08-16T13:52:45.044909Z",
     "start_time": "2025-08-16T13:52:45.027216Z"
    },
    "editable": true,
    "slideshow": {
     "slide_type": ""
    },
    "tags": []
   },
   "outputs": [],
   "source": [
    "with as_file(files(\"machine_data\") / \"hmba.mat\") as path:\n",
    "    hmba_lattice = at.load_lattice(path)"
   ]
  },
  {
   "cell_type": "code",
   "execution_count": 3,
   "id": "f4b3676d-a5d3-4f16-9fd4-20788606b6b6",
   "metadata": {
    "ExecuteTime": {
     "end_time": "2025-08-16T13:52:45.530334Z",
     "start_time": "2025-08-16T13:52:45.526217Z"
    },
    "editable": true,
    "slideshow": {
     "slide_type": ""
    },
    "tags": []
   },
   "outputs": [],
   "source": [
    "for sx in hmba_lattice.select(at.Sextupole):\n",
    "    sx.KickAngle=[0,0]\n",
    "hmba_lattice.enable_6d()"
   ]
  },
  {
   "cell_type": "code",
   "execution_count": 4,
   "id": "620def05-b2fe-4cce-8566-9bd10d2018af",
   "metadata": {
    "ExecuteTime": {
     "end_time": "2025-08-16T13:52:45.961339Z",
     "start_time": "2025-08-16T13:52:45.947218Z"
    },
    "editable": true,
    "slideshow": {
     "slide_type": ""
    },
    "tags": []
   },
   "outputs": [],
   "source": [
    "ring = hmba_lattice.repeat(8)"
   ]
  },
  {
   "cell_type": "markdown",
   "id": "64d73aed-8e8b-4be7-9489-0e0d4c70fd95",
   "metadata": {
    "editable": true,
    "slideshow": {
     "slide_type": ""
    },
    "tags": []
   },
   "source": [
    "A {py:class}`.ResponseMatrix` object defines a general-purpose response matrix, based\n",
    "on a {py:class}`.VariableList` of attributes which will be independently varied, and an\n",
    "{py:class}`.ObservableList` of attributes which will be recorded for each\n",
    "variable step.\n",
    "\n",
    "{py:class}`.ResponseMatrix` objects can be combined with the \"+\" operator to define\n",
    "combined responses. This concatenates the variables and the observables.\n",
    "\n",
    "The module also defines two commonly used response matrices:\n",
    "{py:class}`.OrbitResponseMatrix` for circular machines and\n",
    "{py:class}`.TrajectoryResponseMatrix` for beam lines. Other matrices can be easily\n",
    "defined by providing the desired Observables and Variables to the\n",
    "{py:class}`.ResponseMatrix` base class."
   ]
  },
  {
   "cell_type": "markdown",
   "id": "08ae06fa-dea3-4542-acbc-4e59a14c66a7",
   "metadata": {
    "editable": true,
    "slideshow": {
     "slide_type": ""
    },
    "tags": []
   },
   "source": [
    "## General purpose response matrix\n",
    "\n",
    "Let's take the horizontal displacements of all quadrupoles as variables:"
   ]
  },
  {
   "cell_type": "code",
   "execution_count": 5,
   "id": "68a54c6d-be1d-41a9-90f8-f496b22d076c",
   "metadata": {
    "ExecuteTime": {
     "end_time": "2025-08-16T13:52:47.195961Z",
     "start_time": "2025-08-16T13:52:47.190312Z"
    },
    "editable": true,
    "slideshow": {
     "slide_type": ""
    },
    "tags": []
   },
   "outputs": [],
   "source": [
    "variables = VariableList(RefptsVariable(ik, \"dx\", name=f\"dx_{ik}\", delta=.0001)\n",
    "                        for ik in ring.get_uint32_index(at.Quadrupole))"
   ]
  },
  {
   "cell_type": "markdown",
   "id": "2f70b1b0-bfc0-4e01-8ada-d7d76b77f406",
   "metadata": {
    "editable": true,
    "slideshow": {
     "slide_type": ""
    },
    "tags": []
   },
   "source": [
    "Variable names are set to _dx\\_nnnn_ where _nnnn_ is the index of the quadrupole in the ring.\n",
    "\n",
    "Let's take the horizontal positions at all beam position monitors as observables:"
   ]
  },
  {
   "cell_type": "code",
   "execution_count": 6,
   "id": "8490caa3-14c1-4c7f-ba1e-f4e64078b6a5",
   "metadata": {
    "ExecuteTime": {
     "end_time": "2025-08-16T13:52:48.118249Z",
     "start_time": "2025-08-16T13:52:48.115007Z"
    },
    "editable": true,
    "slideshow": {
     "slide_type": ""
    },
    "tags": []
   },
   "outputs": [],
   "source": [
    "observables = at.ObservableList([at.OrbitObservable(at.Monitor, axis='x')])"
   ]
  },
  {
   "cell_type": "markdown",
   "id": "fee7a274-979c-4503-90b1-b69d248bc317",
   "metadata": {
    "editable": true,
    "slideshow": {
     "slide_type": ""
    },
    "tags": []
   },
   "source": [
    "We have a single Observable named _orbit[x]_ by default, with multiple values.\n",
    "\n",
    "### Instantiation"
   ]
  },
  {
   "cell_type": "code",
   "execution_count": 7,
   "id": "2d64d87b-ba18-4c22-921f-f6765f74080d",
   "metadata": {
    "ExecuteTime": {
     "end_time": "2025-08-16T13:52:49.090453Z",
     "start_time": "2025-08-16T13:52:49.041124Z"
    },
    "editable": true,
    "slideshow": {
     "slide_type": ""
    },
    "tags": []
   },
   "outputs": [],
   "source": [
    "resp_dx = at.ResponseMatrix(variables, observables, ring=ring)"
   ]
  },
  {
   "cell_type": "markdown",
   "id": "9f283b27-6898-4c00-9ac5-ec9ba48bd9f5",
   "metadata": {
    "editable": true,
    "slideshow": {
     "slide_type": ""
    },
    "tags": []
   },
   "source": [
    "At that point, the response matrix is empty.\n",
    "\n",
    "### Matrix Building\n",
    "\n",
    "A general purpose response matrix may be filled by several methods:\n",
    "\n",
    "1. Direct assignment of an array to the {py:attr}`~.ResponseMatrix.response` property.\n",
    "   The shape of the array is checked,\n",
    "2. {py:meth}`~.ResponseMatrix.load` loads data from a file containing previously\n",
    "   saved values or experimentally measured values,\n",
    "3. {py:meth}`~.ResponseMatrix.build_tracking` computes the matrix using tracking,\n",
    "4. For some specialized response matrices\n",
    "   {py:meth}`~OrbitResponseMatrix.build_analytical` is available.\n"
   ]
  },
  {
   "cell_type": "code",
   "execution_count": 8,
   "id": "23154d5d-bdf8-43ed-8b4a-cfc616d7e659",
   "metadata": {
    "ExecuteTime": {
     "end_time": "2025-08-16T13:53:00.180228Z",
     "start_time": "2025-08-16T13:52:59.008220Z"
    },
    "editable": true,
    "slideshow": {
     "slide_type": ""
    },
    "tags": []
   },
   "outputs": [
    {
     "name": "stdout",
     "output_type": "stream",
     "text": [
      "Saving variables\n",
      "Restoring variables\n"
     ]
    },
    {
     "data": {
      "text/plain": [
       "array([[ 16.94897864,  -7.67022307,   2.50968594, ...,   5.3125638 ,\n",
       "         -5.57239476,  14.39501938],\n",
       "       [-10.6549627 ,   3.59085167,  -6.21666755, ...,  -2.46632948,\n",
       "          8.42841189, -18.50171186],\n",
       "       [-10.99744814,   3.91741643,  -5.60080281, ...,  -2.73604877,\n",
       "          7.61448343, -17.01886021],\n",
       "       ...,\n",
       "       [-17.0182359 ,   7.61358522,  -2.73824047, ...,  -5.60018031,\n",
       "          3.92050176, -11.00305834],\n",
       "       [-18.50166601,   8.42772786,  -2.46888914, ...,  -6.21619686,\n",
       "          3.59444354, -10.66160249],\n",
       "       [ 14.38971545,  -5.56943704,   5.31320321, ...,   2.50757509,\n",
       "         -7.6711941 ,  16.94982252]], shape=(80, 128))"
      ]
     },
     "execution_count": 8,
     "metadata": {},
     "output_type": "execute_result"
    }
   ],
   "source": [
    "resp_dx.build(use_mp=True)"
   ]
  },
  {
   "cell_type": "markdown",
   "id": "6ac09735-b15f-49a4-b44e-4051889e0bae",
   "metadata": {
    "editable": true,
    "slideshow": {
     "slide_type": ""
    },
    "tags": []
   },
   "source": [
    "### Matrix normalisation\n",
    "\n",
    "To be correctly inverted, the response matrix must be correctly normalised: the norms\n",
    "of its columns must be of the same order of magnitude, and similarly for the rows.\n",
    "\n",
    "Normalisation is done by adjusting the weights {math}`w_v` for the variables {math}`\\mathbf{V}`\n",
    "and {math}`w_o` for the observables {math}`\\mathbf{O}`.\n",
    "With {math}`\\mathbf{R}` the response matrix:\n",
    "\n",
    ":::{math}\n",
    "\n",
    "   \\mathbf{O} = \\mathbf{R} . \\mathbf{V}\n",
    ":::\n",
    "\n",
    "The weighted response matrix {math}`\\mathbf{R}_w` is:\n",
    "\n",
    ":::{math}\n",
    "\n",
    "   \\frac{\\mathbf{O}}{w_o} = \\mathbf{R}_w . \\frac{\\mathbf{V}}{w_v}\n",
    ":::\n",
    "The {math}`\\mathbf{R}_w` is dimensionless and should be normalised. This can be checked\n",
    "using:\n",
    "\n",
    "* {py:meth}`~.ResponseMatrix.check_norm` which prints the ratio of the maximum / minimum\n",
    "  norms for variables and observables. These should be less than 10.\n",
    "* {py:meth}`~.ResponseMatrix.plot_norm`\n",
    "\n",
    "Both natural and weighted response matrices can be retrieved with the\n",
    "{py:meth}`~.ResponseMatrix.response` and {py:meth}`~.ResponseMatrix.weighted_response`\n",
    "properties."
   ]
  },
  {
   "cell_type": "code",
   "execution_count": 9,
   "id": "f74e856f-0c6f-4a89-9493-255c1cc3f03f",
   "metadata": {
    "ExecuteTime": {
     "end_time": "2025-08-16T13:29:33.701870Z",
     "start_time": "2025-08-16T13:29:33.534176Z"
    },
    "editable": true,
    "jp-MarkdownHeadingCollapsed": true,
    "slideshow": {
     "slide_type": ""
    },
    "tags": []
   },
   "outputs": [
    {
     "name": "stdout",
     "output_type": "stream",
     "text": [
      "max/min Observables: 2.8352796928877786\n",
      "max/min Variables: 4.768846272299542\n"
     ]
    },
    {
     "data": {
      "image/png": "[encoded data removed]",
      "text/plain": [
       "<Figure size 640x480 with 2 Axes>"
      ]
     },
     "metadata": {},
     "output_type": "display_data"
    }
   ],
   "source": [
    "resp_dx.plot_norm()"
   ]
  },
  {
   "cell_type": "markdown",
   "id": "c348df35-e03e-478e-8d03-8b7656015b45",
   "metadata": {
    "editable": true,
    "slideshow": {
     "slide_type": ""
    },
    "tags": []
   },
   "source": [
    "### Matrix pseudo-inversion\n",
    "\n",
    "The {py:meth}`~.ResponseMatrix.solve` method computes the singular values of the\n",
    "weighted response matrix and its pseudo-inverse."
   ]
  },
  {
   "cell_type": "code",
   "execution_count": 10,
   "id": "64e02b6c-2b89-4f5a-b7e1-b9e4e8af0a8b",
   "metadata": {
    "ExecuteTime": {
     "end_time": "2025-08-16T13:29:49.923188Z",
     "start_time": "2025-08-16T13:29:49.917176Z"
    },
    "editable": true,
    "slideshow": {
     "slide_type": ""
    },
    "tags": []
   },
   "outputs": [],
   "source": [
    "resp_dx.solve()"
   ]
  },
  {
   "cell_type": "markdown",
   "id": "45546624-1884-4792-a9c1-d144a62488c9",
   "metadata": {
    "editable": true,
    "slideshow": {
     "slide_type": ""
    },
    "tags": []
   },
   "source": [
    "We can plot the singular values:"
   ]
  },
  {
   "cell_type": "code",
   "execution_count": 11,
   "id": "bee36f70-ccab-4f5e-a746-c4d86cdbb3fc",
   "metadata": {
    "ExecuteTime": {
     "end_time": "2025-08-16T13:29:51.091517Z",
     "start_time": "2025-08-16T13:29:50.888061Z"
    },
    "editable": true,
    "slideshow": {
     "slide_type": ""
    },
    "tags": []
   },
   "outputs": [
    {
     "data": {
      "image/png": "[encoded data removed]",
      "text/plain": [
       "<Figure size 640x480 with 1 Axes>"
      ]
     },
     "metadata": {},
     "output_type": "display_data"
    }
   ],
   "source": [
    "resp_dx.plot_singular_values()"
   ]
  },
  {
   "cell_type": "markdown",
   "id": "5ceff349-0253-40c8-ae08-4a03aa935913",
   "metadata": {
    "editable": true,
    "slideshow": {
     "slide_type": ""
    },
    "tags": []
   },
   "source": [
    "After solving, correction is available, for instance with\n",
    "\n",
    "* {py:meth}`~.ResponseMatrix.correction_matrix` which returns the correction matrix (pseudo-inverse of\n",
    "  the response matrix),\n",
    "* {py:meth}`~.ResponseMatrix.get_correction` which returns a correction vector when given observed values,\n",
    "* {py:meth}`~.ResponseMatrix.correct` which computes and optionally applies a correction\n",
    "  for the provided {py:class}`.Lattice`.\n",
    "\n",
    "### Exclusion of variables and observables\n",
    "\n",
    "Variables may be added to a set of excluded values, and similarly for observables.\n",
    "Excluding an item does not change the response matrix. The values are excluded from the\n",
    "pseudo-inversion of the response, possibly reducing the number of singular values.\n",
    "After inversion, the correction matrix is expanded to its original size by inserting\n",
    "zero lines and columns at the location of excluded items. This way:\n",
    "\n",
    "- error and correction vectors keep the same size independently of excluded values,\n",
    "- excluded error values are ignored,\n",
    "- excluded corrections are set to zero.\n",
    "\n",
    "#### Exclusion of variables\n",
    "\n",
    "Excluded variables are selected by their name or their index in the variable list:"
   ]
  },
  {
   "cell_type": "code",
   "execution_count": 12,
   "id": "317e2a0f-0e81-479e-89fb-71c49fe03d70",
   "metadata": {
    "ExecuteTime": {
     "end_time": "2025-08-16T13:29:55.499309Z",
     "start_time": "2025-08-16T13:29:55.495661Z"
    },
    "editable": true,
    "slideshow": {
     "slide_type": ""
    },
    "tags": []
   },
   "outputs": [],
   "source": [
    "resp_dx.exclude_vars(0, \"dx_9\", \"dx_47\", -1)"
   ]
  },
  {
   "cell_type": "markdown",
   "id": "d2a5eddb-56ec-4009-a7e8-d748214ee90c",
   "metadata": {
    "editable": true,
    "slideshow": {
     "slide_type": ""
    },
    "tags": []
   },
   "source": [
    "Where *-1* refers to the last variable.\n",
    "\n",
    "#### Exclusion of observables\n",
    "\n",
    "Observables are selected by their name or their index in the observable list. In addition, for\n",
    "{py:class}`.ElementObservable` observables, we need to specify a _refpts_ to identify which item\n",
    "in the array will be excluded.\n",
    "\n",
    "Let's exclude all Monitors with name _BPM\\_07_:"
   ]
  },
  {
   "cell_type": "code",
   "execution_count": 13,
   "id": "4223c1bf-0108-4068-b938-4d9313c48684",
   "metadata": {
    "ExecuteTime": {
     "end_time": "2025-08-16T13:29:56.732139Z",
     "start_time": "2025-08-16T13:29:56.726792Z"
    },
    "editable": true,
    "slideshow": {
     "slide_type": ""
    },
    "tags": []
   },
   "outputs": [],
   "source": [
    "resp_dx.exclude_obs(obsid=\"orbit[x]\", refpts=\"BPM_07\")"
   ]
  },
  {
   "cell_type": "markdown",
   "id": "d09b2106-ee9b-4171-8c4c-36e855fb4958",
   "metadata": {
    "editable": true,
    "slideshow": {
     "slide_type": ""
    },
    "tags": []
   },
   "source": [
    "Or by using the observable index:"
   ]
  },
  {
   "cell_type": "code",
   "execution_count": 14,
   "id": "6ab3809a-86e3-486f-a688-544c875c9550",
   "metadata": {
    "ExecuteTime": {
     "end_time": "2025-08-16T13:29:57.999977Z",
     "start_time": "2025-08-16T13:29:57.994985Z"
    },
    "editable": true,
    "slideshow": {
     "slide_type": ""
    },
    "tags": [
     "remove-output"
    ]
   },
   "outputs": [
    {
     "name": "stderr",
     "output_type": "stream",
     "text": [
      "/var/folders/9d/tcctx2j125xd3nzkr5bp1zq4000103/T/ipykernel_96646/1399543609.py:1: AtWarning: No new excluded value\n",
      "  resp_dx.exclude_obs(obsid=0, refpts=\"BPM_07\")\n"
     ]
    }
   ],
   "source": [
    "resp_dx.exclude_obs(obsid=0, refpts=\"BPM_07\")"
   ]
  },
  {
   "cell_type": "markdown",
   "id": "9402e021-90b2-442a-9d7e-a1c02a1ec235",
   "metadata": {
    "editable": true,
    "slideshow": {
     "slide_type": ""
    },
    "tags": []
   },
   "source": [
    "Or even, since there is a single observable and *obsid* defaults to *0*:"
   ]
  },
  {
   "cell_type": "code",
   "execution_count": 15,
   "id": "7acb0cf6-118b-4157-8bc1-6e464ffdaa71",
   "metadata": {
    "ExecuteTime": {
     "end_time": "2025-08-16T09:43:20.342724Z",
     "start_time": "2025-08-16T09:43:20.338559Z"
    },
    "editable": true,
    "slideshow": {
     "slide_type": ""
    },
    "tags": [
     "remove-output"
    ]
   },
   "outputs": [
    {
     "name": "stderr",
     "output_type": "stream",
     "text": [
      "/var/folders/9d/tcctx2j125xd3nzkr5bp1zq4000103/T/ipykernel_96646/3319419291.py:1: AtWarning: No new excluded value\n",
      "  resp_dx.exclude_obs(refpts=\"BPM_07\")\n"
     ]
    }
   ],
   "source": [
    "resp_dx.exclude_obs(refpts=\"BPM_07\")"
   ]
  },
  {
   "cell_type": "markdown",
   "id": "2e806ea3-3edc-4265-9a6f-558720f0befb",
   "metadata": {
    "editable": true,
    "slideshow": {
     "slide_type": ""
    },
    "tags": []
   },
   "source": [
    "After excluding items, the pseudo-inverse is discarded so one must recompute it again:"
   ]
  },
  {
   "cell_type": "code",
   "execution_count": 16,
   "id": "208f3e79-7ab5-4647-95bd-bb4d8787bea0",
   "metadata": {
    "ExecuteTime": {
     "end_time": "2025-08-16T09:43:22.906589Z",
     "start_time": "2025-08-16T09:43:22.745862Z"
    },
    "editable": true,
    "slideshow": {
     "slide_type": ""
    },
    "tags": []
   },
   "outputs": [
    {
     "data": {
      "image/png": "[encoded data removed]",
      "text/plain": [
       "<Figure size 640x480 with 1 Axes>"
      ]
     },
     "metadata": {},
     "output_type": "display_data"
    }
   ],
   "source": [
    "resp_dx.solve()\n",
    "resp_dx.plot_singular_values()"
   ]
  },
  {
   "cell_type": "markdown",
   "id": "47f6baaa-1d3d-45c4-829d-0a129d849c5b",
   "metadata": {
    "editable": true,
    "slideshow": {
     "slide_type": ""
    },
    "tags": []
   },
   "source": [
    "There are now only 72 singular values instead of 80 (number of active monitors).\n",
    "\n",
    "The excluded items can be retrieved with the {py:attr}`~.ResponseMatrix.excluded_obs` and\n",
    "{py:attr}`~.ResponseMatrix.excluded_vars` properties:"
   ]
  },
  {
   "cell_type": "code",
   "execution_count": 17,
   "id": "1cb0b249-8cca-4409-9277-217ba1442a78",
   "metadata": {
    "ExecuteTime": {
     "end_time": "2025-08-16T09:43:28.951300Z",
     "start_time": "2025-08-16T09:43:28.948150Z"
    },
    "editable": true,
    "slideshow": {
     "slide_type": ""
    },
    "tags": []
   },
   "outputs": [
    {
     "name": "stdout",
     "output_type": "stream",
     "text": [
      "{'orbit[x]': array([ 79, 200, 321, 442, 563, 684, 805, 926], dtype=uint32)}\n",
      "['dx_5', 'dx_9', 'dx_47', 'dx_964']\n"
     ]
    }
   ],
   "source": [
    "print(resp_dx.excluded_obs)\n",
    "print(resp_dx.excluded_vars)"
   ]
  },
  {
   "attachments": {},
   "cell_type": "markdown",
   "id": "29c9fde1-cc6d-4f62-8dba-cff7645a473f",
   "metadata": {
    "editable": true,
    "slideshow": {
     "slide_type": ""
    },
    "tags": []
   },
   "source": [
    "The exclusion masks can be reset using {py:meth}`~.ResponseMatrix.reset_vars` and\n",
    "{py:meth}`~.ResponseMatrix.reset_obs`.\n",
    "\n",
    "## Orbit response matrix\n",
    "\n",
    "An {py:class}`.OrbitResponseMatrix` defines its observables as instances of\n",
    "{py:class}`.OrbitObservable` and its variables as _KickAngle_ attributes of elements.\n",
    "\n",
    "### Instantiation\n",
    "\n",
    "By default, the observables are all the {py:class}`.Monitor` elements, and the\n",
    "variables are all the elements having a *KickAngle* attribute. This is equivalent to:\n",
    "```python\n",
    "resp_v = at.OrbitResponseMatrix(ring, \"v\", bpmrefs = at.Monitor,\n",
    "                                steerrefs = at.checkattr(\"KickAngle\"))\n",
    "```\n",
    "The variable elements must have the *KickAngle* attribute used for correction.\n",
    "It's available for all magnets, though not present by default except in\n",
    "{py:class}`.Corrector` magnets. For other magnets, the attribute should be\n",
    "explicitly created.\n",
    "\n",
    "There are options in {py:class}`.OrbitResponseMatrix` to include the RF frequency in the\n",
    "variable list, and the sum of correction angles in the list of observables:"
   ]
  },
  {
   "cell_type": "code",
   "execution_count": 18,
   "id": "8e703ee8-0aba-452c-808d-0621ef4e5f1e",
   "metadata": {
    "ExecuteTime": {
     "end_time": "2025-08-16T09:43:33.589280Z",
     "start_time": "2025-08-16T09:43:33.459508Z"
    },
    "editable": true,
    "slideshow": {
     "slide_type": ""
    },
    "tags": []
   },
   "outputs": [
    {
     "name": "stdout",
     "output_type": "stream",
     "text": [
      "(81, 49)\n"
     ]
    }
   ],
   "source": [
    "resp_h = at.OrbitResponseMatrix(ring, \"h\", cavrefs=at.RFCavity, steersum=True)\n",
    "print(resp_h.shape)"
   ]
  },
  {
   "cell_type": "markdown",
   "id": "ca0dca48-4b0d-4aa4-96c7-b5ed24280ec2",
   "metadata": {
    "editable": true,
    "slideshow": {
     "slide_type": ""
    },
    "tags": []
   },
   "source": [
    "### Matrix building\n",
    "\n",
    "{py:class}`.OrbitResponseMatrix` has a {py:meth}`~.OrbitResponseMatrix.build_analytical` build method,\n",
    "using formulas from [^Franchi].\n",
    "\n",
    "[^Franchi]: A. Franchi, S.M. Liuzzo, Z. Marti, _\"Analytic formulas for the rapid evaluation of the orbit\n",
    "response matrix and chromatic functions from lattice parameters in circular accelerators\"_,\n",
    "arXiv:1711.06589 [physics.acc-ph]"
   ]
  },
  {
   "cell_type": "code",
   "execution_count": 19,
   "id": "65a21d36-6d0d-46f0-ba72-5092fec3ab17",
   "metadata": {
    "ExecuteTime": {
     "end_time": "2025-08-16T09:43:36.587835Z",
     "start_time": "2025-08-16T09:43:36.493739Z"
    },
    "editable": true,
    "slideshow": {
     "slide_type": ""
    },
    "tags": []
   },
   "outputs": [
    {
     "data": {
      "text/plain": [
       "array([[-8.54870374e+00, -1.81104969e+01, -1.21497454e+01, ...,\n",
       "        -2.85830326e+01, -1.60772960e+01, -5.75838151e-08],\n",
       "       [ 1.85290756e+01,  3.16574224e+01,  1.82799745e+01, ...,\n",
       "         1.90656557e+01,  8.85865108e+00, -2.68128309e-06],\n",
       "       [ 1.68213604e+01,  2.87634523e+01,  1.65301788e+01, ...,\n",
       "         1.94726063e+01,  9.44097149e+00, -2.44436213e-06],\n",
       "       ...,\n",
       "       [ 8.84897619e+00,  1.90656922e+01,  1.29411619e+01, ...,\n",
       "         3.16578009e+01,  1.85390265e+01, -2.68138514e-06],\n",
       "       [-1.60775574e+01, -2.85833742e+01, -1.65903209e+01, ...,\n",
       "        -1.81113028e+01, -8.54900471e+00, -5.76356367e-08],\n",
       "       [ 1.00000000e+00,  1.00000000e+00,  1.00000000e+00, ...,\n",
       "         1.00000000e+00,  1.00000000e+00,  0.00000000e+00]],\n",
       "      shape=(81, 49))"
      ]
     },
     "execution_count": 19,
     "metadata": {},
     "output_type": "execute_result"
    }
   ],
   "source": [
    "resp_h.build_analytical()"
   ]
  },
  {
   "cell_type": "markdown",
   "id": "538b8409-99f1-4f9c-9f00-861a0bdb3ac4",
   "metadata": {
    "editable": true,
    "slideshow": {
     "slide_type": ""
    },
    "tags": []
   },
   "source": [
    "### Matrix normalisation\n",
    "\n",
    "This is critical when including the RF frequency response which is not commensurate\n",
    "with steerer responses. Similarly for rows, the sum of steerers is not commensurate with\n",
    "monitor readings.\n",
    "\n",
    "By default, the normalisation is done automatically by adjusting the RF frequency step\n",
    "and the weight of the steerer sum based on an approximate analytical response matrix.\n",
    "Explicitly specifying the *cavdelta* and *stsumweight* prevents this automatic normalisation.\n",
    "\n",
    "After building the response matrix, and before solving, normalisation may be applied\n",
    "with the {py:meth}`~.OrbitResponseMatrix.normalise` method. The default normalisation\n",
    "gives a higher priority to RF response and steerer sum."
   ]
  },
  {
   "cell_type": "markdown",
   "id": "eb624b1d-1624-4196-909e-35c055f3aa34",
   "metadata": {
    "editable": true,
    "raw_mimetype": "",
    "slideshow": {
     "slide_type": ""
    },
    "tags": []
   },
   "source": [
    "## Trajectory response matrix\n",
    "\n",
    "A {py:class}`.TrajectoryResponseMatrix` defines its observables as instances of\n",
    "{py:class}`.TrajectoryObservable` and its variables as _KickAngle_ attributes of elements.\n",
    "\n",
    "### Instantiation\n",
    "\n",
    "By default, the observables are all the {py:class}`.Monitor` elements, and the\n",
    "variables are all the elements having a *KickAngle* attribute. This is equivalent to:\n",
    "```python\n",
    "resp_v = at.TrajectoryResponseMatrix(lattice, \"v\", bpmrefs = at.Monitor,\n",
    "                                     steerrefs = at.checkattr(\"KickAngle\"))\n",
    "```\n",
    "The variable elements must have the *KickAngle* attribute used for correction.\n",
    "It's available for all magnets, though not present by default except in\n",
    "{py:class}`.Corrector` magnets. For other magnets, the attribute should be\n",
    "explicitly created."
   ]
  },
  {
   "cell_type": "code",
   "execution_count": 20,
   "id": "8c7de11a-d8e5-4fd9-9784-25a9244a0305",
   "metadata": {
    "ExecuteTime": {
     "end_time": "2025-08-16T09:43:40.993263Z",
     "start_time": "2025-08-16T09:43:40.976487Z"
    },
    "editable": true,
    "slideshow": {
     "slide_type": ""
    },
    "tags": []
   },
   "outputs": [
    {
     "name": "stdout",
     "output_type": "stream",
     "text": [
      "(80, 48)\n"
     ]
    }
   ],
   "source": [
    "resp_h = at.TrajectoryResponseMatrix(ring, \"h\")\n",
    "print(resp_h.shape)"
   ]
  },
  {
   "cell_type": "markdown",
   "id": "896f42fa-6c67-44b4-8e54-3ff39589949a",
   "metadata": {
    "editable": true,
    "slideshow": {
     "slide_type": ""
    },
    "tags": []
   },
   "source": [
    "## References"
   ]
  },
  {
   "cell_type": "code",
   "execution_count": null,
   "id": "1dc59a218b94d380",
   "metadata": {},
   "outputs": [],
   "source": []
  }
 ],
 "metadata": {
  "kernelspec": {
   "display_name": "Python 3 (ipykernel)",
   "language": "python",
   "name": "python3"
  },
  "language_info": {
   "codemirror_mode": {
    "name": "ipython",
    "version": 3
   },
   "file_extension": ".py",
   "mimetype": "text/x-python",
   "name": "python",
   "nbconvert_exporter": "python",
   "pygments_lexer": "ipython3",
   "version": "3.11.13"
  },
  "toc": {
   "base_numbering": 2
  }
 },
 "nbformat": 4,
 "nbformat_minor": 5
}
