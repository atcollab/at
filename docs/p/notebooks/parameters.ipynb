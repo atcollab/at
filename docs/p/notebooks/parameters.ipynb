{
 "cells": [
  {
   "cell_type": "code",
   "execution_count": 1,
   "id": "bc479f4a-a609-468f-a430-d71ad22b5cf2",
   "metadata": {
    "editable": true,
    "slideshow": {
     "slide_type": ""
    },
    "tags": [
     "remove-cell"
    ]
   },
   "outputs": [],
   "source": [
    "import at\n",
    "import sys\n",
    "from at import Param, ParamArray\n",
    "from importlib.resources import files, as_file\n",
    "from timeit import timeit"
   ]
  },
  {
   "cell_type": "code",
   "execution_count": 2,
   "id": "3399ebbe-81d6-453f-80d4-fe4832d0543e",
   "metadata": {
    "editable": true,
    "slideshow": {
     "slide_type": ""
    },
    "tags": [
     "remove-cell"
    ]
   },
   "outputs": [],
   "source": [
    "fname = 'hmba.mat'\n",
    "with as_file(files('machine_data') / fname) as path:\n",
    "    ring = at.load_lattice(path)"
   ]
  },
  {
   "cell_type": "markdown",
   "id": "ba73f6c0-aa60-4ced-8158-dfddcade4bd9",
   "metadata": {
    "editable": true,
    "slideshow": {
     "slide_type": ""
    },
    "tags": []
   },
   "source": [
    "# Parameters\n",
    "\n",
    "Parameters are objects of class {py:class}`.Param` which can be used instead of numeric values as {py:class}`.Element` attributes.\n",
    "\n",
    "Parameters are initialised with a **scalar** numeric value. They have an optional name, only used to identify them in printed output:"
   ]
  },
  {
   "cell_type": "code",
   "execution_count": 3,
   "id": "27f3abc6-7cfe-4632-82a1-dc17038983a2",
   "metadata": {
    "editable": true,
    "slideshow": {
     "slide_type": ""
    },
    "tags": []
   },
   "outputs": [
    {
     "name": "stdout",
     "output_type": "stream",
     "text": [
      "total_length: 2.5\n",
      "dlength: 1.0\n"
     ]
    }
   ],
   "source": [
    "total_length = Param(2.5, name=\"total_length\")\n",
    "dlength = Param(1.0, name=\"dlength\")\n",
    "print(f\"{total_length}: {total_length!r}\")\n",
    "print(f\"{dlength}: {dlength!r}\")"
   ]
  },
  {
   "cell_type": "markdown",
   "id": "c61cb66b-2e98-4f1b-9d6d-9d896085f6b4",
   "metadata": {
    "editable": true,
    "slideshow": {
     "slide_type": ""
    },
    "tags": []
   },
   "source": [
    "The value of a parameter can be read or modified through its {py:attr}`~.variables.Variable.value` property. {py:meth}`~.variables.Variable.set` and {py:meth}`~.variables.Variable.get` methods are also available:"
   ]
  },
  {
   "cell_type": "code",
   "execution_count": 4,
   "id": "772a79ce-91ee-47fd-80bf-a7a76e935339",
   "metadata": {
    "editable": true,
    "slideshow": {
     "slide_type": ""
    },
    "tags": []
   },
   "outputs": [
    {
     "name": "stdout",
     "output_type": "stream",
     "text": [
      "2.5\n",
      "total_length: 2.4\n",
      "2.3\n"
     ]
    }
   ],
   "source": [
    "print(total_length.value)\n",
    "total_length.value = 2.4\n",
    "print(f\"{total_length}: {total_length!r}\")\n",
    "total_length.set(2.3)\n",
    "print(total_length.get())"
   ]
  },
  {
   "cell_type": "markdown",
   "id": "fa523242-3579-4e0f-aca8-2ecd230cd93c",
   "metadata": {
    "editable": true,
    "slideshow": {
     "slide_type": ""
    },
    "tags": []
   },
   "source": [
    "Arithmetic combinations of parameters create new read-only parameters of class {py:class}`.ParamBase`, whose value is permanently kept up-to-date:"
   ]
  },
  {
   "cell_type": "code",
   "execution_count": 5,
   "id": "a229555f-cbb2-4e36-b9d8-0ca3c0c7cf76",
   "metadata": {
    "editable": true,
    "slideshow": {
     "slide_type": ""
    },
    "tags": []
   },
   "outputs": [
    {
     "name": "stdout",
     "output_type": "stream",
     "text": [
      "total_length-dlength: 1.2999999999999998\n",
      "total_length-dlength: 1.4\n"
     ]
    }
   ],
   "source": [
    "qlength = total_length - dlength\n",
    "print(f\"{qlength}: {qlength!r}\")\n",
    "dlength.value = 0.9\n",
    "print(f\"{qlength}: {qlength!r}\")"
   ]
  },
  {
   "cell_type": "markdown",
   "id": "57eff2ca-87af-4667-84e8-4e86e5b2db74",
   "metadata": {
    "editable": true,
    "slideshow": {
     "slide_type": ""
    },
    "tags": []
   },
   "source": [
    "Parameters may be assigned to {py:class}`.Element` attributes, for instance on initialisation:"
   ]
  },
  {
   "cell_type": "code",
   "execution_count": 6,
   "id": "c49dc3e7-78ea-4e40-9e82-438674b5ba7e",
   "metadata": {
    "editable": true,
    "slideshow": {
     "slide_type": ""
    },
    "tags": []
   },
   "outputs": [
    {
     "name": "stdout",
     "output_type": "stream",
     "text": [
      "Drift:\n",
      "       FamName: DR1\n",
      "        Length: dlength\n",
      "    PassMethod: DriftPass\n",
      "Quadrupole:\n",
      "       FamName: QF1\n",
      "        Length: total_length-dlength\n",
      "    PassMethod: StrMPoleSymplectic4Pass\n",
      "      MaxOrder: 1\n",
      "   NumIntSteps: 10\n",
      "      PolynomA: [0. 0.]\n",
      "      PolynomB: [0.  0.6]\n",
      "             K: 0.6\n"
     ]
    }
   ],
   "source": [
    "dr1 = at.Drift('DR1', dlength)\n",
    "qf1 = at.Quadrupole('QF1', qlength, 0.6)\n",
    "print(dr1)\n",
    "print(qf1)"
   ]
  },
  {
   "cell_type": "markdown",
   "id": "6c0f9595-9abc-4fee-967e-195dc1db0030",
   "metadata": {
    "editable": true,
    "slideshow": {
     "slide_type": ""
    },
    "tags": []
   },
   "source": [
    "The {py:class}`.Element` attributes keep their type so that all the processing of elements either in python functions or in C integrators is unchanged:"
   ]
  },
  {
   "cell_type": "code",
   "execution_count": 7,
   "id": "63baa52e-c1f1-4d0d-8470-fc80116239ec",
   "metadata": {
    "editable": true,
    "slideshow": {
     "slide_type": ""
    },
    "tags": []
   },
   "outputs": [
    {
     "name": "stdout",
     "output_type": "stream",
     "text": [
      "0.9 <class 'float'>\n"
     ]
    }
   ],
   "source": [
    "print(dr1.Length, type(dr1.Length))"
   ]
  },
  {
   "cell_type": "markdown",
   "id": "ca1a092d-2773-41bb-b5ac-65c4005593be",
   "metadata": {
    "editable": true,
    "slideshow": {
     "slide_type": ""
    },
    "tags": []
   },
   "source": [
    "## Assigning parameters\n",
    "\n",
    "### To a single element\n",
    "Parameters may be assigned to {py:class}`.Element` attributes in several ways:\n",
    "\n",
    "**At element creation:**"
   ]
  },
  {
   "cell_type": "code",
   "execution_count": 8,
   "id": "07e9ced4-f048-46ec-b187-3eb60314ee92",
   "metadata": {
    "editable": true,
    "slideshow": {
     "slide_type": ""
    },
    "tags": []
   },
   "outputs": [],
   "source": [
    "dr2 = at.Drift('DR2', dlength)"
   ]
  },
  {
   "cell_type": "markdown",
   "id": "a7846d65-d686-4496-94fa-16f18dd564e6",
   "metadata": {
    "editable": true,
    "slideshow": {
     "slide_type": ""
    },
    "tags": []
   },
   "source": [
    "**By converting a numeric attribute into a parameter:**"
   ]
  },
  {
   "cell_type": "code",
   "execution_count": 9,
   "id": "24db8abd-6b85-4196-b1ae-a316e0ddd8ea",
   "metadata": {
    "editable": true,
    "slideshow": {
     "slide_type": ""
    },
    "tags": []
   },
   "outputs": [
    {
     "name": "stdout",
     "output_type": "stream",
     "text": [
      "param3\n"
     ]
    }
   ],
   "source": [
    "qd1 = at.Quadrupole('QD1', 0.5, -0.4)\n",
    "ql = qd1.parameterise('Length')\n",
    "print(ql)"
   ]
  },
  {
   "cell_type": "markdown",
   "id": "71a08731-9aed-497c-8084-15d6de0e8215",
   "metadata": {
    "editable": true,
    "slideshow": {
     "slide_type": ""
    },
    "tags": []
   },
   "source": [
    "**By normal assignment, only for scalar parameters:**"
   ]
  },
  {
   "cell_type": "code",
   "execution_count": 10,
   "id": "90b0b580-16cb-4d4b-a80b-a6262fe3dad5",
   "metadata": {
    "editable": true,
    "slideshow": {
     "slide_type": ""
    },
    "tags": []
   },
   "outputs": [
    {
     "name": "stdout",
     "output_type": "stream",
     "text": [
      "Quadrupole:\n",
      "       FamName: QD1\n",
      "        Length: param4\n",
      "    PassMethod: StrMPoleSymplectic4Pass\n",
      "      MaxOrder: 1\n",
      "   NumIntSteps: 10\n",
      "      PolynomA: [0. 0.]\n",
      "      PolynomB: [ 0.  -0.4]\n",
      "             K: -0.4\n"
     ]
    }
   ],
   "source": [
    "qd1.Length = Param(0.2)\n",
    "print(qd1)"
   ]
  },
  {
   "cell_type": "markdown",
   "id": "3064a2f2-b913-4982-978c-268b8e76b1c1",
   "metadata": {
    "editable": true,
    "slideshow": {
     "slide_type": ""
    },
    "tags": []
   },
   "source": [
    "**With the {py:meth}`~.Element.set_parameter` method:**"
   ]
  },
  {
   "cell_type": "code",
   "execution_count": 11,
   "id": "43c18e94-cd26-4639-98a9-bf93c736115d",
   "metadata": {
    "editable": true,
    "slideshow": {
     "slide_type": ""
    },
    "tags": []
   },
   "outputs": [
    {
     "name": "stdout",
     "output_type": "stream",
     "text": [
      "Quadrupole:\n",
      "       FamName: QD1\n",
      "        Length: param4\n",
      "    PassMethod: StrMPoleSymplectic4Pass\n",
      "      MaxOrder: 1\n",
      "   NumIntSteps: 10\n",
      "      PolynomA: [0. 0.]\n",
      "      PolynomB: [0.0 quad_strength]\n",
      "             K: -0.5\n"
     ]
    }
   ],
   "source": [
    "qstrength = Param(-0.5, name='quad_strength')\n",
    "qd1.set_parameter('PolynomB', qstrength, index=1)\n",
    "print(qd1)"
   ]
  },
  {
   "cell_type": "markdown",
   "id": "6318ac4e-332e-44cb-b77f-d5efc4d4e799",
   "metadata": {
    "editable": true,
    "slideshow": {
     "slide_type": ""
    },
    "tags": []
   },
   "source": [
    "### To selected elements of a {py:class}`.Lattice`\n",
    "To act on several elements in a single step, {py:class}`.Lattice` methods similar to {py:class}`.Element` methods are available\n",
    "\n",
    "**Convert numeric attributes into parameters:**\n",
    "\n",
    "The attribute of all the selected elements is replaced by a single parameter whose initial value is the average of the original values."
   ]
  },
  {
   "cell_type": "code",
   "execution_count": 12,
   "id": "07b4603f-8089-451a-a53f-fb462729b79e",
   "metadata": {
    "editable": true,
    "slideshow": {
     "slide_type": ""
    },
    "tags": []
   },
   "outputs": [
    {
     "name": "stdout",
     "output_type": "stream",
     "text": [
      "kf1: np.float64(2.5394599781303304)\n",
      "Quadrupole:\n",
      "       FamName: QF1A\n",
      "        Length: 0.311896\n",
      "    PassMethod: StrMPoleSymplectic4Pass\n",
      "FringeQuadEntrance: 1\n",
      "FringeQuadExit: 1\n",
      "      MaxOrder: 1\n",
      "   NumIntSteps: 20\n",
      "      PolynomA: [0. 0.]\n",
      "      PolynomB: [0.0 kf1]\n",
      "             K: 2.5394599781303304\n"
     ]
    }
   ],
   "source": [
    "kf1 = ring.parameterise('QF1[AE]', 'PolynomB', index=1, name='kf1')\n",
    "print(f\"{kf1}: {kf1!r}\")\n",
    "print(ring[5])"
   ]
  },
  {
   "cell_type": "markdown",
   "id": "b8931812-b5e8-4b0d-9561-bd2b4a1506e4",
   "metadata": {
    "editable": true,
    "slideshow": {
     "slide_type": ""
    },
    "tags": []
   },
   "source": [
    "**Use the {py:meth}`~.Lattice.set_parameter` method:**\n",
    "\n",
    "The attribute of all the selected elements is replaced by the provided parameter,"
   ]
  },
  {
   "cell_type": "code",
   "execution_count": 13,
   "id": "276e2b71-ff91-4f55-a459-cc62d8bcc2d3",
   "metadata": {
    "editable": true,
    "slideshow": {
     "slide_type": ""
    },
    "tags": []
   },
   "outputs": [
    {
     "name": "stdout",
     "output_type": "stream",
     "text": [
      "Quadrupole:\n",
      "       FamName: QF1E\n",
      "        Length: lf1\n",
      "    PassMethod: StrMPoleSymplectic4Pass\n",
      "FringeQuadEntrance: 1\n",
      "FringeQuadExit: 1\n",
      "      MaxOrder: 1\n",
      "   NumIntSteps: 20\n",
      "      PolynomA: [0. 0.]\n",
      "      PolynomB: [0.0 kf1]\n",
      "             K: 2.5394599781303304\n"
     ]
    }
   ],
   "source": [
    "lf1 = Param(0.311896, name='lf1')\n",
    "ring.set_parameter('QF1[AE]', 'Length', lf1)\n",
    "print(ring[117])"
   ]
  },
  {
   "cell_type": "markdown",
   "id": "619e9168-a58a-48ca-95ab-631a53543475",
   "metadata": {},
   "source": [
    "Once a Parameter is assigned to an attribute, it acquires the type and the constraints of\n",
    "the attribute. For instance:"
   ]
  },
  {
   "cell_type": "code",
   "execution_count": 14,
   "id": "eebc8b1a-71a9-4e0d-b4d9-000c366c99aa",
   "metadata": {},
   "outputs": [
    {
     "name": "stdout",
     "output_type": "stream",
     "text": [
      "14 <class 'int'>\n"
     ]
    }
   ],
   "source": [
    "num_int_steps = Param(14.4, name=\"num_int_steps\")\n",
    "ring.set_parameter(at.Multipole, 'NumIntSteps', num_int_steps)\n",
    "print(ring[5].NumIntSteps, type(ring[5].NumIntSteps))"
   ]
  },
  {
   "cell_type": "code",
   "execution_count": 15,
   "id": "bec9d7c3-08f4-4088-826b-e0c8903134d4",
   "metadata": {
    "editable": true,
    "slideshow": {
     "slide_type": ""
    },
    "tags": [
     "raises-exception"
    ]
   },
   "outputs": [
    {
     "ename": "ValueError",
     "evalue": "Value must be greater of equal to 0",
     "output_type": "error",
     "traceback": [
      "\u001b[31m---------------------------------------------------------------------------\u001b[39m",
      "\u001b[31mValueError\u001b[39m                                Traceback (most recent call last)",
      "\u001b[36mCell\u001b[39m\u001b[36m \u001b[39m\u001b[32mIn[15]\u001b[39m\u001b[32m, line 1\u001b[39m\n\u001b[32m----> \u001b[39m\u001b[32m1\u001b[39m \u001b[43mnum_int_steps\u001b[49m\u001b[43m.\u001b[49m\u001b[43mvalue\u001b[49m = -\u001b[32m5\u001b[39m\n",
      "\u001b[36mFile \u001b[39m\u001b[32m~/dev/libraries/at/pyat/at/lattice/variables.py:321\u001b[39m, in \u001b[36mVariableBase.set\u001b[39m\u001b[34m(self, value, ring)\u001b[39m\n\u001b[32m    313\u001b[39m \u001b[38;5;250m\u001b[39m\u001b[33;03m\"\"\"Set the variable value\u001b[39;00m\n\u001b[32m    314\u001b[39m \n\u001b[32m    315\u001b[39m \u001b[33;03mArgs:\u001b[39;00m\n\u001b[32m   (...)\u001b[39m\u001b[32m    318\u001b[39m \u001b[33;03m      may be necessary to set the variable.\u001b[39;00m\n\u001b[32m    319\u001b[39m \u001b[33;03m\"\"\"\u001b[39;00m\n\u001b[32m    320\u001b[39m \u001b[38;5;28mself\u001b[39m._check_bounds(value)\n\u001b[32m--> \u001b[39m\u001b[32m321\u001b[39m \u001b[38;5;28;43mself\u001b[39;49m\u001b[43m.\u001b[49m\u001b[43m_setfun\u001b[49m\u001b[43m(\u001b[49m\u001b[43mvalue\u001b[49m\u001b[43m,\u001b[49m\u001b[43m \u001b[49m\u001b[43mring\u001b[49m\u001b[43m=\u001b[49m\u001b[43mring\u001b[49m\u001b[43m)\u001b[49m\n\u001b[32m    322\u001b[39m \u001b[38;5;28;01mif\u001b[39;00m np.isnan(\u001b[38;5;28mself\u001b[39m._initial):\n\u001b[32m    323\u001b[39m     \u001b[38;5;28mself\u001b[39m._initial = value\n",
      "\u001b[36mFile \u001b[39m\u001b[32m~/dev/libraries/at/pyat/at/lattice/parameters.py:58\u001b[39m, in \u001b[36mParam._setfun\u001b[39m\u001b[34m(self, value, ring)\u001b[39m\n\u001b[32m     57\u001b[39m \u001b[38;5;28;01mdef\u001b[39;00m\u001b[38;5;250m \u001b[39m\u001b[34m_setfun\u001b[39m(\u001b[38;5;28mself\u001b[39m, value, ring=\u001b[38;5;28;01mNone\u001b[39;00m) -> \u001b[38;5;28;01mNone\u001b[39;00m:\n\u001b[32m---> \u001b[39m\u001b[32m58\u001b[39m     \u001b[38;5;28mself\u001b[39m._evaluator = _Constant(\u001b[38;5;28;43mself\u001b[39;49m\u001b[43m.\u001b[49m\u001b[43m_conversion\u001b[49m\u001b[43m(\u001b[49m\u001b[43mvalue\u001b[49m\u001b[43m)\u001b[49m)\n",
      "\u001b[36mFile \u001b[39m\u001b[32m~/dev/libraries/at/pyat/at/lattice/elements/element_object.py:39\u001b[39m, in \u001b[36mElement.<lambda>\u001b[39m\u001b[34m(v)\u001b[39m\n\u001b[32m     21\u001b[39m \u001b[38;5;250m\u001b[39m\u001b[33;03m\"\"\"Base class for AT elements\"\"\"\u001b[39;00m\n\u001b[32m     23\u001b[39m _BUILD_ATTRIBUTES = [\u001b[33m\"\u001b[39m\u001b[33mFamName\u001b[39m\u001b[33m\"\u001b[39m]\n\u001b[32m     24\u001b[39m _conversions = {\n\u001b[32m     25\u001b[39m     \u001b[33m\"\u001b[39m\u001b[33mFamName\u001b[39m\u001b[33m\"\u001b[39m: \u001b[38;5;28mstr\u001b[39m,\n\u001b[32m     26\u001b[39m     \u001b[33m\"\u001b[39m\u001b[33mPassMethod\u001b[39m\u001b[33m\"\u001b[39m: \u001b[38;5;28mstr\u001b[39m,\n\u001b[32m     27\u001b[39m     \u001b[33m\"\u001b[39m\u001b[33mLength\u001b[39m\u001b[33m\"\u001b[39m: _float,\n\u001b[32m     28\u001b[39m     \u001b[33m\"\u001b[39m\u001b[33mR1\u001b[39m\u001b[33m\"\u001b[39m: _array66,\n\u001b[32m     29\u001b[39m     \u001b[33m\"\u001b[39m\u001b[33mR2\u001b[39m\u001b[33m\"\u001b[39m: _array66,\n\u001b[32m     30\u001b[39m     \u001b[33m\"\u001b[39m\u001b[33mT1\u001b[39m\u001b[33m\"\u001b[39m: \u001b[38;5;28;01mlambda\u001b[39;00m v: _array(v, (\u001b[32m6\u001b[39m,)),\n\u001b[32m     31\u001b[39m     \u001b[33m\"\u001b[39m\u001b[33mT2\u001b[39m\u001b[33m\"\u001b[39m: \u001b[38;5;28;01mlambda\u001b[39;00m v: _array(v, (\u001b[32m6\u001b[39m,)),\n\u001b[32m     32\u001b[39m     \u001b[33m\"\u001b[39m\u001b[33mRApertures\u001b[39m\u001b[33m\"\u001b[39m: \u001b[38;5;28;01mlambda\u001b[39;00m v: _array(v, (\u001b[32m4\u001b[39m,)),\n\u001b[32m     33\u001b[39m     \u001b[33m\"\u001b[39m\u001b[33mEApertures\u001b[39m\u001b[33m\"\u001b[39m: \u001b[38;5;28;01mlambda\u001b[39;00m v: _array(v, (\u001b[32m2\u001b[39m,)),\n\u001b[32m     34\u001b[39m     \u001b[33m\"\u001b[39m\u001b[33mKickAngle\u001b[39m\u001b[33m\"\u001b[39m: \u001b[38;5;28;01mlambda\u001b[39;00m v: _array(v, (\u001b[32m2\u001b[39m,)),\n\u001b[32m     35\u001b[39m     \u001b[33m\"\u001b[39m\u001b[33mPolynomB\u001b[39m\u001b[33m\"\u001b[39m: _array,\n\u001b[32m     36\u001b[39m     \u001b[33m\"\u001b[39m\u001b[33mPolynomA\u001b[39m\u001b[33m\"\u001b[39m: _array,\n\u001b[32m     37\u001b[39m     \u001b[33m\"\u001b[39m\u001b[33mBendingAngle\u001b[39m\u001b[33m\"\u001b[39m: _float,\n\u001b[32m     38\u001b[39m     \u001b[33m\"\u001b[39m\u001b[33mMaxOrder\u001b[39m\u001b[33m\"\u001b[39m: _int,\n\u001b[32m---> \u001b[39m\u001b[32m39\u001b[39m     \u001b[33m\"\u001b[39m\u001b[33mNumIntSteps\u001b[39m\u001b[33m\"\u001b[39m: \u001b[38;5;28;01mlambda\u001b[39;00m v: \u001b[43m_int\u001b[49m\u001b[43m(\u001b[49m\u001b[43mv\u001b[49m\u001b[43m,\u001b[49m\u001b[43m \u001b[49m\u001b[43mvmin\u001b[49m\u001b[43m=\u001b[49m\u001b[32;43m0\u001b[39;49m\u001b[43m)\u001b[49m,\n\u001b[32m     40\u001b[39m     \u001b[33m\"\u001b[39m\u001b[33mEnergy\u001b[39m\u001b[33m\"\u001b[39m: _float,\n\u001b[32m     41\u001b[39m }\n\u001b[32m     43\u001b[39m _entrance_fields = [\u001b[33m\"\u001b[39m\u001b[33mT1\u001b[39m\u001b[33m\"\u001b[39m, \u001b[33m\"\u001b[39m\u001b[33mR1\u001b[39m\u001b[33m\"\u001b[39m]\n\u001b[32m     44\u001b[39m _exit_fields = [\u001b[33m\"\u001b[39m\u001b[33mT2\u001b[39m\u001b[33m\"\u001b[39m, \u001b[33m\"\u001b[39m\u001b[33mR2\u001b[39m\u001b[33m\"\u001b[39m]\n",
      "\u001b[36mFile \u001b[39m\u001b[32m~/dev/libraries/at/pyat/at/lattice/elements/conversions.py:22\u001b[39m, in \u001b[36m_int\u001b[39m\u001b[34m(value, vmin, vmax)\u001b[39m\n\u001b[32m     20\u001b[39m intv = \u001b[38;5;28mint\u001b[39m(value)\n\u001b[32m     21\u001b[39m \u001b[38;5;28;01mif\u001b[39;00m vmin \u001b[38;5;129;01mis\u001b[39;00m \u001b[38;5;129;01mnot\u001b[39;00m \u001b[38;5;28;01mNone\u001b[39;00m \u001b[38;5;129;01mand\u001b[39;00m intv < vmin:\n\u001b[32m---> \u001b[39m\u001b[32m22\u001b[39m     \u001b[38;5;28;01mraise\u001b[39;00m \u001b[38;5;167;01mValueError\u001b[39;00m(\u001b[33mf\u001b[39m\u001b[33m\"\u001b[39m\u001b[33mValue must be greater of equal to \u001b[39m\u001b[38;5;132;01m{\u001b[39;00mvmin\u001b[38;5;132;01m}\u001b[39;00m\u001b[33m\"\u001b[39m)\n\u001b[32m     23\u001b[39m \u001b[38;5;28;01mif\u001b[39;00m vmax \u001b[38;5;129;01mis\u001b[39;00m \u001b[38;5;129;01mnot\u001b[39;00m \u001b[38;5;28;01mNone\u001b[39;00m \u001b[38;5;129;01mand\u001b[39;00m intv > vmax:\n\u001b[32m     24\u001b[39m     \u001b[38;5;28;01mraise\u001b[39;00m \u001b[38;5;167;01mValueError\u001b[39;00m(\u001b[33mf\u001b[39m\u001b[33m\"\u001b[39m\u001b[33mValue must be smaller of equal to \u001b[39m\u001b[38;5;132;01m{\u001b[39;00mvmax\u001b[38;5;132;01m}\u001b[39;00m\u001b[33m\"\u001b[39m)\n",
      "\u001b[31mValueError\u001b[39m: Value must be greater of equal to 0"
     ]
    }
   ],
   "source": [
    "num_int_steps.value = -5"
   ]
  },
  {
   "cell_type": "markdown",
   "id": "bca705f4-3074-4476-9c32-81075152cdd7",
   "metadata": {
    "editable": true,
    "slideshow": {
     "slide_type": ""
    },
    "tags": []
   },
   "source": [
    "The parameter behaves as the attribute."
   ]
  },
  {
   "cell_type": "markdown",
   "id": "a60a830b-9ade-47ce-89ed-1e4d4a000c4e",
   "metadata": {
    "editable": true,
    "slideshow": {
     "slide_type": ""
    },
    "tags": []
   },
   "source": [
    "## Retrieving parameters\n",
    "\n",
    "Since the values of {py:class}`.Element` attributes keep their original type, they cannot be used to access the underlying parameter. The only way to retrieve it is to use the {py:meth}`~.Element.get_parameter` method. a {py:obj}`TypeError` is raised if the attribute is not\n",
    "a Parameter."
   ]
  },
  {
   "cell_type": "code",
   "execution_count": 16,
   "id": "a4bea7d9-59c3-4af3-a96d-f2e4ee4c2c14",
   "metadata": {
    "editable": true,
    "slideshow": {
     "slide_type": ""
    },
    "tags": []
   },
   "outputs": [
    {
     "name": "stdout",
     "output_type": "stream",
     "text": [
      "total_length-dlength: 1.4\n",
      "ql is qlength: True\n"
     ]
    }
   ],
   "source": [
    "ql = qf1.get_parameter('Length')\n",
    "print(f\"{ql}: {ql!r}\")\n",
    "print(\"ql is qlength:\", ql is qlength)"
   ]
  },
  {
   "cell_type": "markdown",
   "id": "2ba193a5-5d84-4d7a-95e3-11dfeb7241fa",
   "metadata": {
    "editable": true,
    "slideshow": {
     "slide_type": ""
    },
    "tags": []
   },
   "source": [
    "This also works for items in array attributes:"
   ]
  },
  {
   "cell_type": "code",
   "execution_count": 17,
   "id": "a4343df3-a2b7-4b4f-9b74-3bdd3e20cfb2",
   "metadata": {
    "editable": true,
    "slideshow": {
     "slide_type": ""
    },
    "tags": []
   },
   "outputs": [
    {
     "name": "stdout",
     "output_type": "stream",
     "text": [
      "quad_strength: -0.5\n",
      "qs is qstrength: True\n"
     ]
    }
   ],
   "source": [
    "qs = qd1.get_parameter('PolynomB', index=1)\n",
    "print(f\"{qs}: {qs!r}\")\n",
    "print(\"qs is qstrength:\", qs is qstrength)"
   ]
  },
  {
   "cell_type": "markdown",
   "id": "fe98da38-b39a-4e22-a009-16495ccfda58",
   "metadata": {
    "editable": true,
    "slideshow": {
     "slide_type": ""
    },
    "tags": []
   },
   "source": [
    "## Checking parametrisation\n",
    "\n",
    "The {py:meth}`~.Element.is_parameterised` method may be applied to:\n",
    "- a full element: it returns true is any of its attributes is a parameter,\n",
    "- an array attribute: it returns true if any of its items is a parameter,\n",
    "- a scalar attribute or an item of an array."
   ]
  },
  {
   "cell_type": "code",
   "execution_count": 18,
   "id": "8c0eab2f-4ed0-4441-9dd6-a2c81ecdb765",
   "metadata": {
    "editable": true,
    "slideshow": {
     "slide_type": ""
    },
    "tags": []
   },
   "outputs": [
    {
     "name": "stdout",
     "output_type": "stream",
     "text": [
      "True\n",
      "True\n",
      "False\n"
     ]
    }
   ],
   "source": [
    "print(qd1.is_parameterised())\n",
    "print(qd1.is_parameterised('PolynomB', index=1))\n",
    "print(qd1.is_parameterised('PolynomB', index=0))"
   ]
  },
  {
   "cell_type": "markdown",
   "id": "b62883e5-8dd4-42f2-9675-bdbe4d9be71c",
   "metadata": {
    "editable": true,
    "slideshow": {
     "slide_type": ""
    },
    "tags": []
   },
   "source": [
    "## Removing parameters\n",
    "Removing the parameters will \"freeze\" the element at its current value. The {py:meth}`~.Element.unparameterise` method is defined for both {py:class}`.Element` and {py:class}`.Lattice`, and may be applied to:\n",
    "- a full element: all the parameters are replaced by their value,\n",
    "- an array attribute: the whole {py:class}`.ParamArray` is replaced by a numpy array,\n",
    "- a scalar attribute or an item of an array.\n",
    "\n",
    "### In an Element"
   ]
  },
  {
   "cell_type": "code",
   "execution_count": 19,
   "id": "088bfb6e-1ede-4429-8f38-c179be2c0b9d",
   "metadata": {
    "editable": true,
    "slideshow": {
     "slide_type": ""
    },
    "tags": []
   },
   "outputs": [
    {
     "name": "stdout",
     "output_type": "stream",
     "text": [
      "Quadrupole:\n",
      "       FamName: QD1\n",
      "        Length: param4\n",
      "    PassMethod: StrMPoleSymplectic4Pass\n",
      "      MaxOrder: 1\n",
      "   NumIntSteps: 10\n",
      "      PolynomA: [0. 0.]\n",
      "      PolynomB: [0.0 quad_strength]\n",
      "             K: -0.5\n",
      "Quadrupole:\n",
      "       FamName: QD1\n",
      "        Length: 0.2\n",
      "    PassMethod: StrMPoleSymplectic4Pass\n",
      "      MaxOrder: 1\n",
      "   NumIntSteps: 10\n",
      "      PolynomA: [0. 0.]\n",
      "      PolynomB: [0.0 quad_strength]\n",
      "             K: -0.5\n",
      "Quadrupole:\n",
      "       FamName: QD1\n",
      "        Length: 0.2\n",
      "    PassMethod: StrMPoleSymplectic4Pass\n",
      "      MaxOrder: 1\n",
      "   NumIntSteps: 10\n",
      "      PolynomA: [0. 0.]\n",
      "      PolynomB: [ 0.  -0.5]\n",
      "             K: -0.5\n"
     ]
    }
   ],
   "source": [
    "print(qd1)\n",
    "qd1.unparameterise('Length')\n",
    "print(qd1)\n",
    "qd1.unparameterise('PolynomB', 1)\n",
    "print(qd1)"
   ]
  },
  {
   "cell_type": "markdown",
   "id": "295b9a0e-23a9-4321-9715-7a6197d2859e",
   "metadata": {
    "editable": true,
    "slideshow": {
     "slide_type": ""
    },
    "tags": []
   },
   "source": [
    "### In a Lattice"
   ]
  },
  {
   "cell_type": "code",
   "execution_count": 20,
   "id": "744f6754-e681-4db4-b80d-842eb0bcb124",
   "metadata": {
    "editable": true,
    "slideshow": {
     "slide_type": ""
    },
    "tags": []
   },
   "outputs": [
    {
     "name": "stdout",
     "output_type": "stream",
     "text": [
      "Quadrupole:\n",
      "       FamName: QF1A\n",
      "        Length: lf1\n",
      "    PassMethod: StrMPoleSymplectic4Pass\n",
      "FringeQuadEntrance: 1\n",
      "FringeQuadExit: 1\n",
      "      MaxOrder: 1\n",
      "   NumIntSteps: num_int_steps\n",
      "      PolynomA: [0. 0.]\n",
      "      PolynomB: [0.0 kf1]\n",
      "             K: 2.5394599781303304\n",
      "Quadrupole:\n",
      "       FamName: QF1A\n",
      "        Length: lf1\n",
      "    PassMethod: StrMPoleSymplectic4Pass\n",
      "FringeQuadEntrance: 1\n",
      "FringeQuadExit: 1\n",
      "      MaxOrder: 1\n",
      "   NumIntSteps: num_int_steps\n",
      "      PolynomA: [0. 0.]\n",
      "      PolynomB: [0.         2.53945998]\n",
      "             K: 2.5394599781303304\n",
      "Quadrupole:\n",
      "       FamName: QF1E\n",
      "        Length: 0.311896\n",
      "    PassMethod: StrMPoleSymplectic4Pass\n",
      "FringeQuadEntrance: 1\n",
      "FringeQuadExit: 1\n",
      "      MaxOrder: 1\n",
      "   NumIntSteps: 14\n",
      "      PolynomA: [0. 0.]\n",
      "      PolynomB: [0.         2.53945998]\n",
      "             K: 2.5394599781303304\n"
     ]
    }
   ],
   "source": [
    "print(ring[5])\n",
    "ring.unparameterise('QF1[AE]', 'PolynomB', index=1)\n",
    "print(ring[5])\n",
    "ring.unparameterise('QF1[AE]')\n",
    "print(ring[117])"
   ]
  },
  {
   "cell_type": "markdown",
   "id": "564674a3-0bf2-48b8-9978-8f2c9cdc4fd0",
   "metadata": {
    "editable": true,
    "slideshow": {
     "slide_type": ""
    },
    "tags": []
   },
   "source": [
    "## Parameter history\n",
    "Parameter values are kept in an {py:attr}`~.variables.Variable.history` buffer. The properties {py:attr}`~.variables.Variable.initial_value`, {py:attr}`~.variables.Variable.last_value` and {py:attr}`~.variables.Variable.previous_value` are also available:"
   ]
  },
  {
   "cell_type": "code",
   "execution_count": 21,
   "id": "7be2ebce-fe54-4060-8481-a344c4ebf25f",
   "metadata": {
    "editable": true,
    "slideshow": {
     "slide_type": ""
    },
    "tags": []
   },
   "outputs": [
    {
     "name": "stdout",
     "output_type": "stream",
     "text": [
      "[1.0, 1.0, 0.9, 1.1]\n",
      "1.0\n",
      "0.9\n"
     ]
    }
   ],
   "source": [
    "dlength.value = 1.1\n",
    "print(dlength.history)\n",
    "print(dlength.initial_value)\n",
    "print(dlength.previous_value)"
   ]
  },
  {
   "cell_type": "markdown",
   "id": "d1898549-19dd-46a9-8e93-8356dfae6d8a",
   "metadata": {
    "editable": true,
    "slideshow": {
     "slide_type": ""
    },
    "tags": []
   },
   "source": [
    "After varying parameters, in matching for instance, the current status can be printed:"
   ]
  },
  {
   "cell_type": "code",
   "execution_count": 22,
   "id": "f191ea2a-997e-4547-b674-3e16ca2d629c",
   "metadata": {
    "editable": true,
    "slideshow": {
     "slide_type": ""
    },
    "tags": []
   },
   "outputs": [
    {
     "name": "stdout",
     "output_type": "stream",
     "text": [
      "\n",
      "        Name      Initial          Final        Variation\n",
      "\n",
      "     dlength    1.000000e+00    1.100000e+00    1.000000e-01\n"
     ]
    }
   ],
   "source": [
    "print(dlength.status())"
   ]
  },
  {
   "cell_type": "markdown",
   "id": "0d155699-1005-431f-a00a-74d6406f5c21",
   "metadata": {
    "editable": true,
    "slideshow": {
     "slide_type": ""
    },
    "tags": []
   },
   "source": [
    "Parameters may be reset to a previous history value with the {py:meth}`~.variables.Variable.reset` and {py:meth}`~.variables.Variable.set_previous` methods. The history is shortened accordingly."
   ]
  },
  {
   "cell_type": "code",
   "execution_count": 23,
   "id": "f92600ae-28da-439f-ae7c-6a787162c888",
   "metadata": {
    "editable": true,
    "slideshow": {
     "slide_type": ""
    },
    "tags": []
   },
   "outputs": [
    {
     "name": "stdout",
     "output_type": "stream",
     "text": [
      "dlength [1.0, 1.0, 0.9]\n",
      "dlength [1.0]\n"
     ]
    }
   ],
   "source": [
    "dlength.set_previous()\n",
    "print(dlength, dlength.history)\n",
    "dlength.reset()\n",
    "print(dlength, dlength.history)"
   ]
  },
  {
   "cell_type": "markdown",
   "id": "a6f096fe-6cf0-4470-9fcb-3c2e4d77b6e5",
   "metadata": {
    "editable": true,
    "slideshow": {
     "slide_type": ""
    },
    "tags": []
   },
   "source": [
    "## Copying and Saving\n",
    "\n",
    "Parameters cannot be copied. A shallow or deep copy of a parameter returns the parameter itself.\n",
    "\n",
    "So in a deep copy of an {py:class}`.Element`, the parameters are preserved.\n",
    "\n",
    "When saving a lattice with parameterised elements, as a `.mat`, a `.m` or `.repr` file, all parametrisation is removed, and a \"frozen\" state of the lattice is saved.\n",
    "\n",
    "In pickle dumps of an {py:class}`.Element`, parameters are preserved."
   ]
  },
  {
   "cell_type": "code",
   "execution_count": 24,
   "id": "bfecb0ec-e269-48e5-a173-b6821a2401ad",
   "metadata": {},
   "outputs": [
    {
     "name": "stdout",
     "output_type": "stream",
     "text": [
      "Scalar attribute, non-parameterised 0.0003796\n",
      "Scalar attribute,     parameterised 0.0004329 1.14\n",
      "Array attribute,  non-parameterised 0.001071\n",
      "Array attribute,      parameterised 0.001086 1.01\n"
     ]
    }
   ],
   "source": [
    "a=timeit(\"b=qd1.NumIntSteps\", globals=globals(), number=10000)\n",
    "print(f\"Scalar attribute, non-parameterised {a:.4}\")\n",
    "b=timeit(\"b=qd1.Length\", globals=globals(), number=10000)\n",
    "print(f\"Scalar attribute,     parameterised {b:.4} {b/a:.3}\")\n",
    "a=timeit(\"b=qd1.PolynomA[1]\", globals=globals(), number=10000)\n",
    "print(f\"Array attribute,  non-parameterised {a:.4}\")\n",
    "b=timeit(\"b=qd1.PolynomB[1]\", globals=globals(), number=10000)\n",
    "print(f\"Array attribute,      parameterised {b:.4} {b/a:.3}\")"
   ]
  }
 ],
 "metadata": {
  "kernelspec": {
   "display_name": "Python 3 (ipykernel)",
   "language": "python",
   "name": "python3"
  },
  "language_info": {
   "codemirror_mode": {
    "name": "ipython",
    "version": 3
   },
   "file_extension": ".py",
   "mimetype": "text/x-python",
   "name": "python",
   "nbconvert_exporter": "python",
   "pygments_lexer": "ipython3",
   "version": "3.11.13"
  }
 },
 "nbformat": 4,
 "nbformat_minor": 5
}
