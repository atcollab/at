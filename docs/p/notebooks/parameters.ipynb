{
 "cells": [
  {
   "cell_type": "code",
   "execution_count": 1,
   "id": "bc479f4a-a609-468f-a430-d71ad22b5cf2",
   "metadata": {
    "editable": true,
    "slideshow": {
     "slide_type": ""
    },
    "tags": [
     "remove-cell"
    ]
   },
   "outputs": [],
   "source": [
    "import at\n",
    "import sys\n",
    "from at import Param, ParamArray\n",
    "if sys.version_info.minor < 9:\n",
    "    from importlib_resources import files, as_file\n",
    "else:\n",
    "    from importlib.resources import files, as_file"
   ]
  },
  {
   "cell_type": "code",
   "execution_count": 2,
   "id": "3399ebbe-81d6-453f-80d4-fe4832d0543e",
   "metadata": {
    "editable": true,
    "slideshow": {
     "slide_type": ""
    },
    "tags": [
     "remove-cell"
    ]
   },
   "outputs": [],
   "source": [
    "fname = 'hmba.mat'\n",
    "with as_file(files('machine_data') / fname) as path:\n",
    "    ring = at.load_lattice(path)"
   ]
  },
  {
   "cell_type": "markdown",
   "id": "ba73f6c0-aa60-4ced-8158-dfddcade4bd9",
   "metadata": {},
   "source": [
    "# Parameters\n",
    "\n",
    "Parameters are objects of class {py:class}`.Param` which can be used instead of numeric values as {py:class}`.Element` attributes.\n",
    "\n",
    "Parameters are initialised with a **scalar** numeric value. They have an optional name, only used to identify them in printed output:"
   ]
  },
  {
   "cell_type": "code",
   "execution_count": 3,
   "id": "27f3abc6-7cfe-4632-82a1-dc17038983a2",
   "metadata": {},
   "outputs": [
    {
     "name": "stdout",
     "output_type": "stream",
     "text": [
      "Param(2.5, name='total length') Param(1.0, name='param2')\n"
     ]
    }
   ],
   "source": [
    "p1=Param(2.5, name='total length')\n",
    "p2=Param(1.0)\n",
    "print(p1, p2)"
   ]
  },
  {
   "cell_type": "markdown",
   "id": "c61cb66b-2e98-4f1b-9d6d-9d896085f6b4",
   "metadata": {},
   "source": [
    "The value of a parameter can be read or modified through its {py:attr}`~.variables.Variable.value` property. {py:meth}`~.variables.Variable.set` and {py:meth}`~.variables.Variable.get` methods are also available:"
   ]
  },
  {
   "cell_type": "code",
   "execution_count": 4,
   "id": "772a79ce-91ee-47fd-80bf-a7a76e935339",
   "metadata": {},
   "outputs": [
    {
     "name": "stdout",
     "output_type": "stream",
     "text": [
      "2.5\n",
      "Param(2.4, name='total length')\n"
     ]
    },
    {
     "data": {
      "text/plain": [
       "2.3"
      ]
     },
     "execution_count": 4,
     "metadata": {},
     "output_type": "execute_result"
    }
   ],
   "source": [
    "print(p1.value)\n",
    "p1.value = 2.4\n",
    "print(p1)\n",
    "p1.set(2.3)\n",
    "p1.get()"
   ]
  },
  {
   "cell_type": "markdown",
   "id": "fa523242-3579-4e0f-aca8-2ecd230cd93c",
   "metadata": {},
   "source": [
    "Arithmetic combinations of parameters create new read-only parameters of class {py:class}`.ParamBase`, whose value is permanently kept up-to-date:"
   ]
  },
  {
   "cell_type": "code",
   "execution_count": 5,
   "id": "a229555f-cbb2-4e36-b9d8-0ca3c0c7cf76",
   "metadata": {},
   "outputs": [
    {
     "name": "stdout",
     "output_type": "stream",
     "text": [
      "ParamBase(1.2999999999999998, name='calc1')\n",
      "ParamBase(1.4, name='calc1')\n"
     ]
    }
   ],
   "source": [
    "p3 = p1-p2\n",
    "print(p3)\n",
    "p2.value = 0.9\n",
    "print(p3)"
   ]
  },
  {
   "cell_type": "markdown",
   "id": "57eff2ca-87af-4667-84e8-4e86e5b2db74",
   "metadata": {},
   "source": [
    "Parameters may be assigned to {py:class}`.Element` attributes, for instance on initialisation:"
   ]
  },
  {
   "cell_type": "code",
   "execution_count": 6,
   "id": "c49dc3e7-78ea-4e40-9e82-438674b5ba7e",
   "metadata": {},
   "outputs": [
    {
     "name": "stdout",
     "output_type": "stream",
     "text": [
      "Drift:\n",
      "\tFamName : DR1\n",
      "\tLength : Param(0.9, name='param2')\n",
      "\tPassMethod : DriftPass\n",
      "Quadrupole:\n",
      "\tFamName : QF1\n",
      "\tLength : ParamBase(1.4, name='calc1')\n",
      "\tPassMethod : StrMPoleSymplectic4Pass\n",
      "\tNumIntSteps : 10\n",
      "\tMaxOrder : 1\n",
      "\tPolynomA : [0. 0.]\n",
      "\tPolynomB : [0.  0.6]\n",
      "\tK : 0.6\n"
     ]
    }
   ],
   "source": [
    "dr1 = at.Drift('DR1', p2)\n",
    "qf1 = at.Quadrupole('QF1', p3, 0.6)\n",
    "print(dr1)\n",
    "print(qf1)"
   ]
  },
  {
   "cell_type": "markdown",
   "id": "6c0f9595-9abc-4fee-967e-195dc1db0030",
   "metadata": {},
   "source": [
    "The {py:class}`.Element` attributes keep their type so that all the processing of elements either in python functions or in C integrators is unchanged:"
   ]
  },
  {
   "cell_type": "code",
   "execution_count": 7,
   "id": "63baa52e-c1f1-4d0d-8470-fc80116239ec",
   "metadata": {},
   "outputs": [
    {
     "name": "stdout",
     "output_type": "stream",
     "text": [
      "0.9 <class 'float'>\n"
     ]
    }
   ],
   "source": [
    "print(dr1.Length, type(dr1.Length))"
   ]
  },
  {
   "cell_type": "markdown",
   "id": "ca1a092d-2773-41bb-b5ac-65c4005593be",
   "metadata": {},
   "source": [
    "## Assigning parameters\n",
    "\n",
    "### To a single element\n",
    "Parameters may be assigned to {py:class}`.Element` attributes in several ways:\n",
    "\n",
    "**At element creation:**"
   ]
  },
  {
   "cell_type": "code",
   "execution_count": 8,
   "id": "07e9ced4-f048-46ec-b187-3eb60314ee92",
   "metadata": {},
   "outputs": [],
   "source": [
    "dr2 = at.Drift('DR2', p2)"
   ]
  },
  {
   "cell_type": "markdown",
   "id": "a7846d65-d686-4496-94fa-16f18dd564e6",
   "metadata": {},
   "source": [
    "**By converting a numeric attribute into a parameter:**"
   ]
  },
  {
   "cell_type": "code",
   "execution_count": 9,
   "id": "24db8abd-6b85-4196-b1ae-a316e0ddd8ea",
   "metadata": {},
   "outputs": [
    {
     "name": "stdout",
     "output_type": "stream",
     "text": [
      "Param(0.5, name='param3')\n"
     ]
    }
   ],
   "source": [
    "qd1 = at.Quadrupole('QD1', 0.5, -0.4)\n",
    "p4 = qd1.parametrise('Length')\n",
    "print(p4)"
   ]
  },
  {
   "cell_type": "markdown",
   "id": "71a08731-9aed-497c-8084-15d6de0e8215",
   "metadata": {},
   "source": [
    "**By normal assignment:**"
   ]
  },
  {
   "cell_type": "code",
   "execution_count": 10,
   "id": "946224b5-7c9b-4a5c-a665-fc516e548a15",
   "metadata": {},
   "outputs": [
    {
     "name": "stdout",
     "output_type": "stream",
     "text": [
      "Quadrupole:\n",
      "\tFamName : QD1\n",
      "\tLength : ParamBase(1.4, name='calc1')\n",
      "\tPassMethod : StrMPoleSymplectic4Pass\n",
      "\tNumIntSteps : 10\n",
      "\tMaxOrder : 1\n",
      "\tPolynomA : [0. 0.]\n",
      "\tPolynomB : [ 0.  -0.4]\n",
      "\tK : -0.4\n"
     ]
    }
   ],
   "source": [
    "qd1.Length = p3\n",
    "print(qd1)"
   ]
  },
  {
   "cell_type": "markdown",
   "id": "3064a2f2-b913-4982-978c-268b8e76b1c1",
   "metadata": {},
   "source": [
    "**With the {py:meth}`~.Element.set_parameter` method:**"
   ]
  },
  {
   "cell_type": "code",
   "execution_count": 11,
   "id": "43c18e94-cd26-4639-98a9-bf93c736115d",
   "metadata": {},
   "outputs": [
    {
     "name": "stdout",
     "output_type": "stream",
     "text": [
      "Quadrupole:\n",
      "\tFamName : QD1\n",
      "\tLength : Param(0.5, name='param3')\n",
      "\tPassMethod : StrMPoleSymplectic4Pass\n",
      "\tNumIntSteps : 10\n",
      "\tMaxOrder : 1\n",
      "\tPolynomA : [0. 0.]\n",
      "\tPolynomB : [ 0.  -0.4]\n",
      "\tK : -0.4\n"
     ]
    }
   ],
   "source": [
    "qd1.set_parameter('Length', p4)\n",
    "print(qd1)"
   ]
  },
  {
   "cell_type": "markdown",
   "id": "6318ac4e-332e-44cb-b77f-d5efc4d4e799",
   "metadata": {},
   "source": [
    "### To selected elements of a {py:class}`.Lattice`\n",
    "To act on several elements in a single step, {py:class}`.Lattice` methods similar to {py:class}`.Element` methods are available\n",
    "\n",
    "**Convert numeric attributes into parameters:**\n",
    "\n",
    "The attribute of all the selected elements is replaced by a single parameter whose initial value is the average of the original values."
   ]
  },
  {
   "cell_type": "code",
   "execution_count": 12,
   "id": "07b4603f-8089-451a-a53f-fb462729b79e",
   "metadata": {},
   "outputs": [
    {
     "name": "stdout",
     "output_type": "stream",
     "text": [
      "Param(2.5394599781303304, name='kf1')\n",
      "Quadrupole:\n",
      "\tFamName : QF1A\n",
      "\tLength : 0.311896\n",
      "\tPassMethod : StrMPoleSymplectic4Pass\n",
      "\tNumIntSteps : 20\n",
      "\tFringeQuadEntrance : 1\n",
      "\tFringeQuadExit : 1\n",
      "\tMaxOrder : 1\n",
      "\tPolynomA : [0. 0.]\n",
      "\tPolynomB : ParamArray([0.0, Param(2.5394599781303304, name='kf1')])\n",
      "\tK : Param(2.5394599781303304, name='kf1')\n"
     ]
    }
   ],
   "source": [
    "p5 = ring.parametrise('QF1[AE]', 'PolynomB', index=1, name='kf1')\n",
    "print(p5)\n",
    "print(ring[5])"
   ]
  },
  {
   "cell_type": "markdown",
   "id": "b8931812-b5e8-4b0d-9561-bd2b4a1506e4",
   "metadata": {},
   "source": [
    "**Use the {py:meth}`~.Lattice.set_parameter` method:**\n",
    "\n",
    "The attribute of all the selected elements is replaced by the provided parameter,"
   ]
  },
  {
   "cell_type": "code",
   "execution_count": 13,
   "id": "276e2b71-ff91-4f55-a459-cc62d8bcc2d3",
   "metadata": {},
   "outputs": [
    {
     "name": "stdout",
     "output_type": "stream",
     "text": [
      "Quadrupole:\n",
      "\tFamName : QF1E\n",
      "\tLength : Param(0.311896, name='lf1')\n",
      "\tPassMethod : StrMPoleSymplectic4Pass\n",
      "\tNumIntSteps : 20\n",
      "\tFringeQuadEntrance : 1\n",
      "\tFringeQuadExit : 1\n",
      "\tMaxOrder : 1\n",
      "\tPolynomA : [0. 0.]\n",
      "\tPolynomB : ParamArray([0.0, Param(2.5394599781303304, name='kf1')])\n",
      "\tK : Param(2.5394599781303304, name='kf1')\n"
     ]
    }
   ],
   "source": [
    "p6 = Param(0.311896, name='lf1')\n",
    "ring.set_parameter('QF1[AE]', 'Length', p6)\n",
    "print(ring[117])"
   ]
  },
  {
   "cell_type": "markdown",
   "id": "23aeb148-0aaa-49c1-a24f-c04128cf2397",
   "metadata": {},
   "source": [
    "### Special case of array attributes\n",
    "\n",
    "Normal {py:class}`.Element` array attributes are numeric numpy arrays, so they cannot be assigned objects. Attempting to assign a parameter to an item of an array attribute will assign the current parameter value instead of the parameter itself. Since this is not what is usually desired, a warning is emitted:"
   ]
  },
  {
   "cell_type": "code",
   "execution_count": 14,
   "id": "a62d3508-fd89-45e9-bc16-19b170cc5da9",
   "metadata": {},
   "outputs": [
    {
     "name": "stderr",
     "output_type": "stream",
     "text": [
      "/Users/famille/dev/libraries/at/pyat/at/lattice/elements.py:30: UserWarning: \n",
      "\n",
      "The Parameter 'QD strength' is ignored, instead its value '-0.3' is used.\n",
      "To set a parameter in an array, you must first parametrise the array itself.\n",
      "\n",
      "  warn(UserWarning(message))\n"
     ]
    }
   ],
   "source": [
    "p5 = Param(-0.3, name='QD strength')\n",
    "qd1.PolynomB[1] = p5"
   ]
  },
  {
   "cell_type": "markdown",
   "id": "9a257a54-1838-41eb-8d83-33fb9f339272",
   "metadata": {},
   "source": [
    "To accept parameters, the array attribute itself must be first replaced by a {py:class}`.ParamArray` object. The easiest way for that is to let the {py:meth}`~.Element.parametrise` or {py:meth}`~.Element.set_parameter` methods take care of it:"
   ]
  },
  {
   "cell_type": "code",
   "execution_count": 15,
   "id": "40c2b4c8-2533-4604-b6d3-af100d1da33b",
   "metadata": {},
   "outputs": [
    {
     "name": "stdout",
     "output_type": "stream",
     "text": [
      "Quadrupole:\n",
      "\tFamName : QD1\n",
      "\tLength : Param(0.5, name='param3')\n",
      "\tPassMethod : StrMPoleSymplectic4Pass\n",
      "\tNumIntSteps : 10\n",
      "\tMaxOrder : 1\n",
      "\tPolynomA : [0. 0.]\n",
      "\tPolynomB : ParamArray([0.0, Param(-0.3, name='QD strength')])\n",
      "\tK : Param(-0.3, name='QD strength')\n"
     ]
    }
   ],
   "source": [
    "qd1.set_parameter('PolynomB', p5, index=1)\n",
    "print(qd1)"
   ]
  },
  {
   "cell_type": "markdown",
   "id": "48d61183-7827-4807-ba12-25ba46e1fe19",
   "metadata": {},
   "source": [
    "Once the array attribute is a {py:class}`.ParamArray`, any of its items may be assigned a parameter. As with scalar attributes, the type of the attribute is unchanged.\n",
    "\n",
    "Another possiblility is to first convert the array attribute into a {py:class}`.ParamArray`, and then perform a standard assignment:"
   ]
  },
  {
   "cell_type": "code",
   "execution_count": 16,
   "id": "0be8546f-ed8d-4c97-835f-fa1f3f77def6",
   "metadata": {},
   "outputs": [
    {
     "name": "stdout",
     "output_type": "stream",
     "text": [
      "Quadrupole:\n",
      "\tFamName : QD1\n",
      "\tLength : ParamBase(1.4, name='calc1')\n",
      "\tPassMethod : StrMPoleSymplectic4Pass\n",
      "\tNumIntSteps : 10\n",
      "\tMaxOrder : 1\n",
      "\tPolynomA : [0. 0.]\n",
      "\tPolynomB : ParamArray([0.0, Param(-0.3, name='QD strength')])\n",
      "\tK : Param(-0.3, name='QD strength')\n"
     ]
    }
   ],
   "source": [
    "qd1 = at.Quadrupole('QD1', p3, -0.4)\n",
    "qd1.parametrise('PolynomB')\n",
    "qd1.PolynomB[1] = p5\n",
    "print(qd1)"
   ]
  },
  {
   "cell_type": "markdown",
   "id": "a60a830b-9ade-47ce-89ed-1e4d4a000c4e",
   "metadata": {},
   "source": [
    "## Retrieving parameters\n",
    "\n",
    "Since the values of {py:class}`.Element` attributes keep their original type, they cannot be used to access the underlying parameter. The only way to retrieve it is to use the {py:meth}`~.Element.get_parameter` method. When applied to a non-parameter attribute, the attribute is returned."
   ]
  },
  {
   "cell_type": "code",
   "execution_count": 17,
   "id": "a4bea7d9-59c3-4af3-a96d-f2e4ee4c2c14",
   "metadata": {},
   "outputs": [
    {
     "name": "stdout",
     "output_type": "stream",
     "text": [
      "ParamBase(1.4, name='calc1')\n",
      "pp is p3: True\n"
     ]
    }
   ],
   "source": [
    "pp = qd1.get_parameter('Length')\n",
    "print(pp)\n",
    "print(\"pp is p3:\", pp is p3)"
   ]
  },
  {
   "cell_type": "markdown",
   "id": "2ba193a5-5d84-4d7a-95e3-11dfeb7241fa",
   "metadata": {
    "editable": true,
    "slideshow": {
     "slide_type": ""
    },
    "tags": []
   },
   "source": [
    "This also works for items in array attributes:"
   ]
  },
  {
   "cell_type": "code",
   "execution_count": 18,
   "id": "a4343df3-a2b7-4b4f-9b74-3bdd3e20cfb2",
   "metadata": {},
   "outputs": [
    {
     "name": "stdout",
     "output_type": "stream",
     "text": [
      "Param(-0.3, name='QD strength')\n",
      "pp is p5: True\n"
     ]
    }
   ],
   "source": [
    "pp = qd1.get_parameter('PolynomB', index=1)\n",
    "print(pp)\n",
    "print(\"pp is p5:\", pp is p5)"
   ]
  },
  {
   "cell_type": "markdown",
   "id": "585739fc-6a3b-4e6d-8c52-08e43b2ff17e",
   "metadata": {},
   "source": [
    "Retrieving the whole array attribute returns a {py:class}`.ParamArray` object. It may contain either numbers or {py:class}`.Param` objects:"
   ]
  },
  {
   "cell_type": "code",
   "execution_count": 19,
   "id": "3aa4c9dc-2f8c-4742-a39a-13872adc88b8",
   "metadata": {},
   "outputs": [
    {
     "name": "stdout",
     "output_type": "stream",
     "text": [
      "ParamArray([0.0, Param(-0.3, name='QD strength')])\n"
     ]
    }
   ],
   "source": [
    "pp = qd1.get_parameter('PolynomB')\n",
    "print(pp)"
   ]
  },
  {
   "cell_type": "markdown",
   "id": "fe98da38-b39a-4e22-a009-16495ccfda58",
   "metadata": {},
   "source": [
    "## Checking parametrisation\n",
    "\n",
    "The {py:meth}`~.Element.is_parametrised` method may be applied to:\n",
    "- a full element: it returns true is any of its attributes is a parameter,\n",
    "- an array attribute: it returns true if any of its items is a parameter,\n",
    "- a scalar attribute or an item of an array."
   ]
  },
  {
   "cell_type": "code",
   "execution_count": 20,
   "id": "8c0eab2f-4ed0-4441-9dd6-a2c81ecdb765",
   "metadata": {},
   "outputs": [
    {
     "name": "stdout",
     "output_type": "stream",
     "text": [
      "True\n",
      "True\n",
      "False\n",
      "True\n",
      "False\n"
     ]
    }
   ],
   "source": [
    "print(qd1.is_parametrised())\n",
    "print(qd1.is_parametrised('PolynomB'))\n",
    "print(qd1.is_parametrised('PolynomA'))\n",
    "print(qd1.is_parametrised('PolynomB', index=1))\n",
    "print(qd1.is_parametrised('PolynomB', index=0))"
   ]
  },
  {
   "cell_type": "markdown",
   "id": "b62883e5-8dd4-42f2-9675-bdbe4d9be71c",
   "metadata": {},
   "source": [
    "## Removing parameters\n",
    "Removing the parameters will \"freeze\" the element at its current value. The {py:meth}`~.Element.unparametrise` method is defined for both {py:class}`.Element` and {py:class}`.Lattice`, and may be applied to:\n",
    "- a full element: all the parameters are replaced by their value,\n",
    "- an array attribute: the whole {py:class}`.ParamArray` is replaced by a numpy array,\n",
    "- a scalar attribute or an item of an array.\n",
    "\n",
    "### In an Element"
   ]
  },
  {
   "cell_type": "code",
   "execution_count": 21,
   "id": "088bfb6e-1ede-4429-8f38-c179be2c0b9d",
   "metadata": {},
   "outputs": [
    {
     "name": "stdout",
     "output_type": "stream",
     "text": [
      "Quadrupole:\n",
      "\tFamName : QD1\n",
      "\tLength : ParamBase(1.4, name='calc1')\n",
      "\tPassMethod : StrMPoleSymplectic4Pass\n",
      "\tNumIntSteps : 10\n",
      "\tMaxOrder : 1\n",
      "\tPolynomA : [0. 0.]\n",
      "\tPolynomB : ParamArray([0.0, Param(-0.3, name='QD strength')])\n",
      "\tK : Param(-0.3, name='QD strength')\n",
      "Quadrupole:\n",
      "\tFamName : QD1\n",
      "\tLength : 1.4\n",
      "\tPassMethod : StrMPoleSymplectic4Pass\n",
      "\tNumIntSteps : 10\n",
      "\tMaxOrder : 1\n",
      "\tPolynomA : [0. 0.]\n",
      "\tPolynomB : ParamArray([0.0, -0.3])\n",
      "\tK : -0.3\n",
      "Quadrupole:\n",
      "\tFamName : QD1\n",
      "\tLength : 1.4\n",
      "\tPassMethod : StrMPoleSymplectic4Pass\n",
      "\tNumIntSteps : 10\n",
      "\tMaxOrder : 1\n",
      "\tPolynomA : [0. 0.]\n",
      "\tPolynomB : [ 0.  -0.3]\n",
      "\tK : -0.3\n"
     ]
    }
   ],
   "source": [
    "print(qd1)\n",
    "qd1.unparametrise('Length')\n",
    "qd1.unparametrise('PolynomB', 1)\n",
    "print(qd1)\n",
    "qd1.unparametrise()\n",
    "print(qd1)"
   ]
  },
  {
   "cell_type": "markdown",
   "id": "295b9a0e-23a9-4321-9715-7a6197d2859e",
   "metadata": {},
   "source": [
    "### In a Lattice"
   ]
  },
  {
   "cell_type": "code",
   "execution_count": 22,
   "id": "744f6754-e681-4db4-b80d-842eb0bcb124",
   "metadata": {},
   "outputs": [
    {
     "name": "stdout",
     "output_type": "stream",
     "text": [
      "Quadrupole:\n",
      "\tFamName : QF1A\n",
      "\tLength : Param(0.311896, name='lf1')\n",
      "\tPassMethod : StrMPoleSymplectic4Pass\n",
      "\tNumIntSteps : 20\n",
      "\tFringeQuadEntrance : 1\n",
      "\tFringeQuadExit : 1\n",
      "\tMaxOrder : 1\n",
      "\tPolynomA : [0. 0.]\n",
      "\tPolynomB : ParamArray([0.0, Param(2.5394599781303304, name='kf1')])\n",
      "\tK : Param(2.5394599781303304, name='kf1')\n",
      "Quadrupole:\n",
      "\tFamName : QF1A\n",
      "\tLength : 0.311896\n",
      "\tPassMethod : StrMPoleSymplectic4Pass\n",
      "\tNumIntSteps : 20\n",
      "\tFringeQuadEntrance : 1\n",
      "\tFringeQuadExit : 1\n",
      "\tMaxOrder : 1\n",
      "\tPolynomA : [0. 0.]\n",
      "\tPolynomB : ParamArray([0.0, 2.5394599781303304])\n",
      "\tK : 2.5394599781303304\n",
      "Quadrupole:\n",
      "\tFamName : QF1E\n",
      "\tLength : 0.311896\n",
      "\tPassMethod : StrMPoleSymplectic4Pass\n",
      "\tNumIntSteps : 20\n",
      "\tFringeQuadEntrance : 1\n",
      "\tFringeQuadExit : 1\n",
      "\tMaxOrder : 1\n",
      "\tPolynomA : [0. 0.]\n",
      "\tPolynomB : [0.         2.53945998]\n",
      "\tK : 2.5394599781303304\n"
     ]
    }
   ],
   "source": [
    "print(ring[5])\n",
    "ring.unparametrise('QF1[AE]', 'Length')\n",
    "ring.unparametrise('QF1[AE]', 'PolynomB', index=1)\n",
    "print(ring[5])\n",
    "ring.unparametrise('QF1[AE]')\n",
    "print(ring[117])"
   ]
  },
  {
   "cell_type": "markdown",
   "id": "564674a3-0bf2-48b8-9978-8f2c9cdc4fd0",
   "metadata": {},
   "source": [
    "## Parameter history\n",
    "Parameter values are kept in an {py:attr}`~.variables.Variable.history` buffer. The properties {py:attr}`~.variables.Variable.initial_value`, {py:attr}`~.variables.Variable.last_value` and {py:attr}`~.variables.Variable.previous_value` are also available:"
   ]
  },
  {
   "cell_type": "code",
   "execution_count": 23,
   "id": "7be2ebce-fe54-4060-8481-a344c4ebf25f",
   "metadata": {},
   "outputs": [
    {
     "name": "stdout",
     "output_type": "stream",
     "text": [
      "[2.5, 2.4, 2.3, 2.2]\n",
      "2.5\n",
      "2.3\n"
     ]
    }
   ],
   "source": [
    "p1.value = 2.2\n",
    "print(p1.history)\n",
    "print(p1.initial_value)\n",
    "print(p1.previous_value)"
   ]
  },
  {
   "cell_type": "markdown",
   "id": "d1898549-19dd-46a9-8e93-8356dfae6d8a",
   "metadata": {},
   "source": [
    "After varying parameters, in matching for instance, the current status can be printed:"
   ]
  },
  {
   "cell_type": "code",
   "execution_count": 24,
   "id": "f191ea2a-997e-4547-b674-3e16ca2d629c",
   "metadata": {},
   "outputs": [
    {
     "name": "stdout",
     "output_type": "stream",
     "text": [
      "\n",
      "        Name      Initial          Final        Variation\n",
      "\n",
      "total length    2.500000e+00    2.200000e+00   -3.000000e-01\n"
     ]
    }
   ],
   "source": [
    "print(p1.status())"
   ]
  },
  {
   "cell_type": "markdown",
   "id": "0d155699-1005-431f-a00a-74d6406f5c21",
   "metadata": {},
   "source": [
    "Parameters may be reset to a previous history value with the {py:meth}`~.variables.Variable.set_initial` and {py:meth}`~.variables.Variable.set_previous` methods. The history is shortened accordingly."
   ]
  },
  {
   "cell_type": "code",
   "execution_count": 25,
   "id": "f92600ae-28da-439f-ae7c-6a787162c888",
   "metadata": {},
   "outputs": [
    {
     "name": "stdout",
     "output_type": "stream",
     "text": [
      "Param(2.3, name='total length') [2.5, 2.4, 2.3]\n",
      "Param(2.5, name='total length') [2.5]\n"
     ]
    }
   ],
   "source": [
    "p1.set_previous()\n",
    "print(p1, p1.history)\n",
    "p1.set_initial()\n",
    "print(p1, p1.history)"
   ]
  },
  {
   "cell_type": "markdown",
   "id": "a6f096fe-6cf0-4470-9fcb-3c2e4d77b6e5",
   "metadata": {
    "editable": true,
    "slideshow": {
     "slide_type": ""
    },
    "tags": []
   },
   "source": [
    "## Copying and Saving\n",
    "\n",
    "In a shallow copy of an {py:class}`.Element`, the parameter attributes are shared between the {py:class}`.Element` and its copy.\n",
    "\n",
    "In a deep copy of an {py:class}`.Element`, a copy of the original parameter is set in the {py:class}`.Element` copy.\n",
    "\n",
    "When saving a lattice with parametrised elements, as a `.mat`, a `.m` or `.repr` file, all parametrisation is removed, and a \"frozen\" state of the lattice is saved.\n",
    "\n",
    "In pickle dumps of an {py:class}`.Element`, parameters are preserved."
   ]
  }
 ],
 "metadata": {
  "kernelspec": {
   "display_name": "Python 3 (ipykernel)",
   "language": "python",
   "name": "python3"
  },
  "language_info": {
   "codemirror_mode": {
    "name": "ipython",
    "version": 3
   },
   "file_extension": ".py",
   "mimetype": "text/x-python",
   "name": "python",
   "nbconvert_exporter": "python",
   "pygments_lexer": "ipython3",
   "version": "3.9.18"
  }
 },
 "nbformat": 4,
 "nbformat_minor": 5
}
