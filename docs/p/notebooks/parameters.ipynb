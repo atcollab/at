{
 "cells": [
  {
   "cell_type": "code",
   "execution_count": null,
   "id": "bc479f4a-a609-468f-a430-d71ad22b5cf2",
   "metadata": {
    "editable": true,
    "slideshow": {
     "slide_type": ""
    },
    "tags": [
     "remove-cell"
    ]
   },
   "outputs": [],
   "source": [
    "import at\n",
    "import sys\n",
    "from at import Param, ParamArray\n",
    "from importlib.resources import files, as_file\n",
    "from timeit import timeit"
   ]
  },
  {
   "cell_type": "code",
   "execution_count": null,
   "id": "3399ebbe-81d6-453f-80d4-fe4832d0543e",
   "metadata": {
    "editable": true,
    "slideshow": {
     "slide_type": ""
    },
    "tags": [
     "remove-cell"
    ]
   },
   "outputs": [],
   "source": [
    "fname = 'hmba.mat'\n",
    "with as_file(files('machine_data') / fname) as path:\n",
    "    ring = at.load_lattice(path)"
   ]
  },
  {
   "cell_type": "markdown",
   "id": "ba73f6c0-aa60-4ced-8158-dfddcade4bd9",
   "metadata": {
    "editable": true,
    "slideshow": {
     "slide_type": ""
    },
    "tags": []
   },
   "source": [
    "# Parameters\n",
    "\n",
    "Parameters are objects of class {py:class}`.Param` which can be used instead of numeric values as {py:class}`.Element` attributes.\n",
    "\n",
    "Parameters are initialised with a **scalar** numeric value. They have an optional name, used when printtig the parameter. Optionally they can be bounded."
   ]
  },
  {
   "cell_type": "code",
   "execution_count": null,
   "id": "27f3abc6-7cfe-4632-82a1-dc17038983a2",
   "metadata": {
    "editable": true,
    "slideshow": {
     "slide_type": ""
    },
    "tags": []
   },
   "outputs": [],
   "source": [
    "total_length = Param(2.5, name=\"total_length\")\n",
    "dlength = Param(1.0, name=\"dlength\", bounds=(0.0, 5.0))\n",
    "print(f\"{total_length}: {total_length!r}\")\n",
    "print(f\"{dlength}: {dlength!r}\")"
   ]
  },
  {
   "cell_type": "markdown",
   "id": "c61cb66b-2e98-4f1b-9d6d-9d896085f6b4",
   "metadata": {
    "editable": true,
    "slideshow": {
     "slide_type": ""
    },
    "tags": []
   },
   "source": [
    "The value of a parameter can be read or modified through its {py:attr}`~.Param.value` property. {py:meth}`~.VariableBase.set` and {py:meth}`~.VariableBase.get` methods are also available:"
   ]
  },
  {
   "cell_type": "code",
   "execution_count": null,
   "id": "cbc5136e-0d67-4f58-9af9-833b3dcd000d",
   "metadata": {
    "editable": true,
    "slideshow": {
     "slide_type": ""
    },
    "tags": []
   },
   "outputs": [],
   "source": [
    "total_length.value = 2.4\n",
    "print(f\"{total_length}: {total_length!r}\")"
   ]
  },
  {
   "cell_type": "code",
   "execution_count": null,
   "id": "772a79ce-91ee-47fd-80bf-a7a76e935339",
   "metadata": {
    "editable": true,
    "slideshow": {
     "slide_type": ""
    },
    "tags": []
   },
   "outputs": [],
   "source": [
    "total_length.set(2.3)\n",
    "print(total_length.get())"
   ]
  },
  {
   "cell_type": "markdown",
   "id": "fa523242-3579-4e0f-aca8-2ecd230cd93c",
   "metadata": {
    "editable": true,
    "slideshow": {
     "slide_type": ""
    },
    "tags": []
   },
   "source": [
    "Arithmetic combinations of parameters create new read-only parameters of class {py:class}`.ParamBase`, whose value is permanently kept up-to-date:"
   ]
  },
  {
   "cell_type": "code",
   "execution_count": null,
   "id": "77b4f926-223e-4d2b-a387-5c87bb1b914e",
   "metadata": {
    "editable": true,
    "slideshow": {
     "slide_type": ""
    },
    "tags": []
   },
   "outputs": [],
   "source": [
    "qlength = total_length - dlength\n",
    "print(f\"{qlength}: {qlength!r}\")"
   ]
  },
  {
   "cell_type": "code",
   "execution_count": null,
   "id": "a229555f-cbb2-4e36-b9d8-0ca3c0c7cf76",
   "metadata": {
    "editable": true,
    "slideshow": {
     "slide_type": ""
    },
    "tags": []
   },
   "outputs": [],
   "source": [
    "dlength.value = 0.9\n",
    "print(f\"{qlength}: {qlength!r}\")"
   ]
  },
  {
   "cell_type": "markdown",
   "id": "57eff2ca-87af-4667-84e8-4e86e5b2db74",
   "metadata": {
    "editable": true,
    "slideshow": {
     "slide_type": ""
    },
    "tags": []
   },
   "source": [
    "Parameters may be assigned to {py:class}`.Element` attributes, for instance on initialisation:"
   ]
  },
  {
   "cell_type": "code",
   "execution_count": null,
   "id": "c49dc3e7-78ea-4e40-9e82-438674b5ba7e",
   "metadata": {
    "editable": true,
    "slideshow": {
     "slide_type": ""
    },
    "tags": []
   },
   "outputs": [],
   "source": [
    "dr1 = at.Drift('DR1', dlength)\n",
    "qf1 = at.Quadrupole('QF1', qlength, 0.6)\n",
    "print(dr1)\n",
    "print(qf1)"
   ]
  },
  {
   "cell_type": "markdown",
   "id": "6c0f9595-9abc-4fee-967e-195dc1db0030",
   "metadata": {
    "editable": true,
    "slideshow": {
     "slide_type": ""
    },
    "tags": []
   },
   "source": [
    "The {py:class}`.Element` attributes keep their type so that all the processing of elements either in python functions or in C integrators is unchanged:"
   ]
  },
  {
   "cell_type": "code",
   "execution_count": null,
   "id": "63baa52e-c1f1-4d0d-8470-fc80116239ec",
   "metadata": {
    "editable": true,
    "slideshow": {
     "slide_type": ""
    },
    "tags": []
   },
   "outputs": [],
   "source": [
    "print(dr1.Length, type(dr1.Length))"
   ]
  },
  {
   "cell_type": "markdown",
   "id": "ca1a092d-2773-41bb-b5ac-65c4005593be",
   "metadata": {
    "editable": true,
    "slideshow": {
     "slide_type": ""
    },
    "tags": []
   },
   "source": [
    "## Assigning parameters\n",
    "\n",
    "### To a single element\n",
    "Parameters may be assigned to {py:class}`.Element` attributes in several ways:\n",
    "\n",
    "**At element creation:**"
   ]
  },
  {
   "cell_type": "code",
   "execution_count": null,
   "id": "07e9ced4-f048-46ec-b187-3eb60314ee92",
   "metadata": {
    "editable": true,
    "slideshow": {
     "slide_type": ""
    },
    "tags": []
   },
   "outputs": [],
   "source": [
    "dr2 = at.Drift('DR2', dlength)"
   ]
  },
  {
   "cell_type": "markdown",
   "id": "a7846d65-d686-4496-94fa-16f18dd564e6",
   "metadata": {
    "editable": true,
    "slideshow": {
     "slide_type": ""
    },
    "tags": []
   },
   "source": [
    "**By converting a numeric attribute into a parameter:**"
   ]
  },
  {
   "cell_type": "code",
   "execution_count": null,
   "id": "24db8abd-6b85-4196-b1ae-a316e0ddd8ea",
   "metadata": {
    "editable": true,
    "slideshow": {
     "slide_type": ""
    },
    "tags": []
   },
   "outputs": [],
   "source": [
    "qd1 = at.Quadrupole('QD1', 0.5, -0.4)\n",
    "ql = qd1.parameterise('Length')\n",
    "vkick = qd1.parameterise(\"PolynomA\", index=0, name=\"vkick\")\n",
    "print(f\"{ql}: {ql!r}\")"
   ]
  },
  {
   "cell_type": "markdown",
   "id": "71a08731-9aed-497c-8084-15d6de0e8215",
   "metadata": {
    "editable": true,
    "slideshow": {
     "slide_type": ""
    },
    "tags": []
   },
   "source": [
    "**By normal assignment, only for scalar parameters:**"
   ]
  },
  {
   "cell_type": "code",
   "execution_count": null,
   "id": "90b0b580-16cb-4d4b-a80b-a6262fe3dad5",
   "metadata": {
    "editable": true,
    "slideshow": {
     "slide_type": ""
    },
    "tags": []
   },
   "outputs": [],
   "source": [
    "qd1.Length = Param(0.2)\n",
    "print(qd1)"
   ]
  },
  {
   "cell_type": "markdown",
   "id": "3064a2f2-b913-4982-978c-268b8e76b1c1",
   "metadata": {
    "editable": true,
    "slideshow": {
     "slide_type": ""
    },
    "tags": []
   },
   "source": [
    "**With the {py:meth}`~.Element.set_parameter` method:**"
   ]
  },
  {
   "cell_type": "code",
   "execution_count": null,
   "id": "43c18e94-cd26-4639-98a9-bf93c736115d",
   "metadata": {
    "editable": true,
    "slideshow": {
     "slide_type": ""
    },
    "tags": []
   },
   "outputs": [],
   "source": [
    "qstrength = Param(-0.5, name='quad_strength')\n",
    "qd1.set_parameter('PolynomB', qstrength, index=1)\n",
    "print(qd1)"
   ]
  },
  {
   "cell_type": "markdown",
   "id": "6318ac4e-332e-44cb-b77f-d5efc4d4e799",
   "metadata": {
    "editable": true,
    "slideshow": {
     "slide_type": ""
    },
    "tags": []
   },
   "source": [
    "### To selected elements of a {py:class}`.Lattice`\n",
    "To act on several elements in a single step, {py:class}`.Lattice` methods similar to {py:class}`.Element` methods are available.\n",
    "\n",
    "**Convert numeric attributes into parameters:**\n",
    "\n",
    "The attribute of all the selected elements is replaced by a single parameter whose initial value is the average of the original values."
   ]
  },
  {
   "cell_type": "code",
   "execution_count": null,
   "id": "07b4603f-8089-451a-a53f-fb462729b79e",
   "metadata": {
    "editable": true,
    "slideshow": {
     "slide_type": ""
    },
    "tags": []
   },
   "outputs": [],
   "source": [
    "kf1 = ring.parameterise('QF1[AE]', 'PolynomB', index=1, name='kf1')\n",
    "print(f\"{kf1}: {kf1!r}\")\n",
    "print(ring[5])"
   ]
  },
  {
   "cell_type": "markdown",
   "id": "b8931812-b5e8-4b0d-9561-bd2b4a1506e4",
   "metadata": {
    "editable": true,
    "slideshow": {
     "slide_type": ""
    },
    "tags": []
   },
   "source": [
    "**Use the {py:meth}`~.Lattice.set_parameter` method:**\n",
    "\n",
    "The attribute of all the selected elements is replaced by the provided parameter,"
   ]
  },
  {
   "cell_type": "code",
   "execution_count": null,
   "id": "276e2b71-ff91-4f55-a459-cc62d8bcc2d3",
   "metadata": {
    "editable": true,
    "slideshow": {
     "slide_type": ""
    },
    "tags": []
   },
   "outputs": [],
   "source": [
    "lf1 = Param(0.311896, name='lf1')\n",
    "ring.set_parameter('QF1[AE]', 'Length', lf1)\n",
    "print(ring[117])"
   ]
  },
  {
   "cell_type": "markdown",
   "id": "619e9168-a58a-48ca-95ab-631a53543475",
   "metadata": {},
   "source": [
    "Once a Parameter is assigned to an attribute, it acquires the type and the constraints of\n",
    "the attribute. For instance:"
   ]
  },
  {
   "cell_type": "code",
   "execution_count": null,
   "id": "eebc8b1a-71a9-4e0d-b4d9-000c366c99aa",
   "metadata": {},
   "outputs": [],
   "source": [
    "num_int_steps = Param(14.4, name=\"num_int_steps\")\n",
    "ring.set_parameter(at.Multipole, 'NumIntSteps', num_int_steps)\n",
    "print(ring[5].NumIntSteps, type(ring[5].NumIntSteps))"
   ]
  },
  {
   "cell_type": "code",
   "execution_count": null,
   "id": "bec9d7c3-08f4-4088-826b-e0c8903134d4",
   "metadata": {
    "editable": true,
    "slideshow": {
     "slide_type": ""
    },
    "tags": [
     "raises-exception"
    ]
   },
   "outputs": [],
   "source": [
    "num_int_steps.value = -5"
   ]
  },
  {
   "cell_type": "markdown",
   "id": "bca705f4-3074-4476-9c32-81075152cdd7",
   "metadata": {
    "editable": true,
    "slideshow": {
     "slide_type": ""
    },
    "tags": []
   },
   "source": [
    "The parameter behaves as the attribute."
   ]
  },
  {
   "cell_type": "markdown",
   "id": "a60a830b-9ade-47ce-89ed-1e4d4a000c4e",
   "metadata": {
    "editable": true,
    "slideshow": {
     "slide_type": ""
    },
    "tags": []
   },
   "source": [
    "## Retrieving parameters\n",
    "\n",
    "Since the values of {py:class}`.Element` attributes keep their original type, they cannot be used to access the underlying parameter. The only way to retrieve it is to use the {py:meth}`~.Element.get_parameter` method. a {py:obj}`TypeError` is raised if the attribute is not\n",
    "a Parameter."
   ]
  },
  {
   "cell_type": "code",
   "execution_count": null,
   "id": "a4bea7d9-59c3-4af3-a96d-f2e4ee4c2c14",
   "metadata": {
    "editable": true,
    "slideshow": {
     "slide_type": ""
    },
    "tags": []
   },
   "outputs": [],
   "source": [
    "ql = qf1.get_parameter('Length')\n",
    "print(f\"{ql}: {ql!r}\")\n",
    "print(\"ql is qlength:\", ql is qlength)"
   ]
  },
  {
   "cell_type": "markdown",
   "id": "2ba193a5-5d84-4d7a-95e3-11dfeb7241fa",
   "metadata": {
    "editable": true,
    "slideshow": {
     "slide_type": ""
    },
    "tags": []
   },
   "source": [
    "This also works for items in array attributes:"
   ]
  },
  {
   "cell_type": "code",
   "execution_count": null,
   "id": "a4343df3-a2b7-4b4f-9b74-3bdd3e20cfb2",
   "metadata": {
    "editable": true,
    "slideshow": {
     "slide_type": ""
    },
    "tags": []
   },
   "outputs": [],
   "source": [
    "qs = qd1.get_parameter('PolynomB', index=1)\n",
    "print(f\"{qs}: {qs!r}\")\n",
    "print(\"qs is qstrength:\", qs is qstrength)"
   ]
  },
  {
   "cell_type": "markdown",
   "id": "fe98da38-b39a-4e22-a009-16495ccfda58",
   "metadata": {
    "editable": true,
    "slideshow": {
     "slide_type": ""
    },
    "tags": []
   },
   "source": [
    "## Checking parametrisation\n",
    "\n",
    "The {py:meth}`~.Element.is_parameterised` method may be applied to:\n",
    "- a full element: it returns true is any of its attributes is a parameter,\n",
    "- an array attribute: it returns true if any of its items is a parameter,\n",
    "- a scalar attribute or an item of an array."
   ]
  },
  {
   "cell_type": "code",
   "execution_count": null,
   "id": "8c0eab2f-4ed0-4441-9dd6-a2c81ecdb765",
   "metadata": {
    "editable": true,
    "slideshow": {
     "slide_type": ""
    },
    "tags": []
   },
   "outputs": [],
   "source": [
    "print(qd1.is_parameterised())\n",
    "print(qd1.is_parameterised('PolynomB', index=1))\n",
    "print(qd1.is_parameterised('PolynomB', index=0))"
   ]
  },
  {
   "cell_type": "markdown",
   "id": "b62883e5-8dd4-42f2-9675-bdbe4d9be71c",
   "metadata": {
    "editable": true,
    "slideshow": {
     "slide_type": ""
    },
    "tags": []
   },
   "source": [
    "## Removing parameters\n",
    "Removing the parameters will \"freeze\" the element at its current value. The {py:meth}`~.Element.unparameterise` method is defined for both {py:class}`.Element` and {py:class}`.Lattice`, and may be applied to:\n",
    "- a full element: all the parameters are replaced by their value,\n",
    "- an array attribute: the whole {py:class}`.ParamArray` is replaced by a numpy array,\n",
    "- a scalar attribute or an item of an array.\n",
    "\n",
    "### In an Element"
   ]
  },
  {
   "cell_type": "code",
   "execution_count": null,
   "id": "61327e00-b818-4332-aa5a-f0285abde0b5",
   "metadata": {
    "editable": true,
    "slideshow": {
     "slide_type": ""
    },
    "tags": []
   },
   "outputs": [],
   "source": [
    "print(qd1)\n",
    "qd1.unparameterise('Length')\n",
    "print(qd1)"
   ]
  },
  {
   "cell_type": "code",
   "execution_count": null,
   "id": "088bfb6e-1ede-4429-8f38-c179be2c0b9d",
   "metadata": {
    "editable": true,
    "slideshow": {
     "slide_type": ""
    },
    "tags": []
   },
   "outputs": [],
   "source": [
    "qd1.unparameterise('PolynomB', 1)\n",
    "print(qd1)"
   ]
  },
  {
   "cell_type": "markdown",
   "id": "295b9a0e-23a9-4321-9715-7a6197d2859e",
   "metadata": {
    "editable": true,
    "slideshow": {
     "slide_type": ""
    },
    "tags": []
   },
   "source": [
    "### In a Lattice"
   ]
  },
  {
   "cell_type": "code",
   "execution_count": null,
   "id": "f10b5312-3644-4d67-b0d0-5ae5fca40ac3",
   "metadata": {
    "editable": true,
    "slideshow": {
     "slide_type": ""
    },
    "tags": []
   },
   "outputs": [],
   "source": [
    "print(ring[5])\n",
    "ring.unparameterise('QF1[AE]', 'PolynomB', index=1)\n",
    "print(ring[5])"
   ]
  },
  {
   "cell_type": "code",
   "execution_count": null,
   "id": "744f6754-e681-4db4-b80d-842eb0bcb124",
   "metadata": {
    "editable": true,
    "slideshow": {
     "slide_type": ""
    },
    "tags": []
   },
   "outputs": [],
   "source": [
    "ring.unparameterise('QF1[AE]')\n",
    "print(ring[117])"
   ]
  },
  {
   "cell_type": "raw",
   "id": "6fd36d2b-b546-4cfd-acb0-5069de2e8fae",
   "metadata": {},
   "source": []
  },
  {
   "cell_type": "markdown",
   "id": "564674a3-0bf2-48b8-9978-8f2c9cdc4fd0",
   "metadata": {
    "editable": true,
    "slideshow": {
     "slide_type": ""
    },
    "tags": []
   },
   "source": [
    "## Parameter history\n",
    "Parameter values are kept in an {py:attr}`~.VariableBase.history` buffer. The properties {py:attr}`~.VariableBase.initial_value`, {py:attr}`~.VariableBase.last_value` and {py:attr}`~.VariableBase.previous_value` are also available:"
   ]
  },
  {
   "cell_type": "code",
   "execution_count": null,
   "id": "7be2ebce-fe54-4060-8481-a344c4ebf25f",
   "metadata": {
    "editable": true,
    "slideshow": {
     "slide_type": ""
    },
    "tags": []
   },
   "outputs": [],
   "source": [
    "dlength.value = 1.1\n",
    "print(dlength.history)\n",
    "print(dlength.initial_value)\n",
    "print(dlength.previous_value)"
   ]
  },
  {
   "cell_type": "markdown",
   "id": "d1898549-19dd-46a9-8e93-8356dfae6d8a",
   "metadata": {
    "editable": true,
    "slideshow": {
     "slide_type": ""
    },
    "tags": []
   },
   "source": [
    "After varying parameters, in matching for instance, the current status can be printed:"
   ]
  },
  {
   "cell_type": "code",
   "execution_count": null,
   "id": "f191ea2a-997e-4547-b674-3e16ca2d629c",
   "metadata": {
    "editable": true,
    "slideshow": {
     "slide_type": ""
    },
    "tags": []
   },
   "outputs": [],
   "source": [
    "print(dlength.status())"
   ]
  },
  {
   "cell_type": "markdown",
   "id": "0d155699-1005-431f-a00a-74d6406f5c21",
   "metadata": {
    "editable": true,
    "slideshow": {
     "slide_type": ""
    },
    "tags": []
   },
   "source": [
    "Parameters may be reset to a previous history value with the {py:meth}`~.Param.reset` and {py:meth}`~.variables.Variable.set_previous` methods. The history is shortened accordingly."
   ]
  },
  {
   "cell_type": "code",
   "execution_count": null,
   "id": "f92600ae-28da-439f-ae7c-6a787162c888",
   "metadata": {
    "editable": true,
    "slideshow": {
     "slide_type": ""
    },
    "tags": []
   },
   "outputs": [],
   "source": [
    "dlength.set_previous()\n",
    "print(dlength, dlength.history)\n",
    "dlength.reset()\n",
    "print(dlength, dlength.history)"
   ]
  },
  {
   "cell_type": "markdown",
   "id": "a6f096fe-6cf0-4470-9fcb-3c2e4d77b6e5",
   "metadata": {
    "editable": true,
    "slideshow": {
     "slide_type": ""
    },
    "tags": []
   },
   "source": [
    "## Copying and Saving\n",
    "\n",
    "Parameters cannot be copied. A shallow or deep copy of a parameter returns the parameter itself.\n",
    "\n",
    "So in a deep copy of an {py:class}`.Element`, the parameters are preserved.\n",
    "\n",
    "When saving a lattice with parameterised elements, as a `.mat`, a `.m` or `.repr` file, all parametrisation is removed, and a \"frozen\" state of the lattice is saved.\n",
    "\n",
    "In pickle dumps of an {py:class}`.Element`, parameters are preserved.\n",
    "\n",
    "## Timing tests"
   ]
  },
  {
   "cell_type": "code",
   "execution_count": null,
   "id": "bfecb0ec-e269-48e5-a173-b6821a2401ad",
   "metadata": {},
   "outputs": [],
   "source": [
    "a=timeit(\"b=qd1.Length\", globals=globals(), number=10000)\n",
    "print(f\"Scalar attribute, non-parameterised {a:.4}\")\n",
    "b=timeit(\"b=dr2.Length\", globals=globals(), number=10000)\n",
    "print(f\"Scalar attribute,     parameterised {b:.4} (x{b/a:.3})\")\n",
    "a=timeit(\"b=qd1.PolynomB[1]\", globals=globals(), number=10000)\n",
    "print(f\"Array attribute,  non-parameterised {a:.4}\")\n",
    "b=timeit(\"b=qd1.PolynomA[0]\", globals=globals(), number=10000)\n",
    "print(f\"Array attribute,      parameterised {b:.4} (x{b/a:.3})\")\n",
    "c=timeit(\"b=qd1.PolynomA[1]\", globals=globals(), number=10000)\n",
    "print(f\"Array attribute,  non-parameterised {c:.4} (x{c/a:.3}) in a parameter array\")"
   ]
  }
 ],
 "metadata": {
  "kernelspec": {
   "display_name": "Python 3 (ipykernel)",
   "language": "python",
   "name": "python3"
  },
  "language_info": {
   "codemirror_mode": {
    "name": "ipython",
    "version": 3
   },
   "file_extension": ".py",
   "mimetype": "text/x-python",
   "name": "python",
   "nbconvert_exporter": "python",
   "pygments_lexer": "ipython3",
   "version": "3.11.13"
  }
 },
 "nbformat": 4,
 "nbformat_minor": 5
}
