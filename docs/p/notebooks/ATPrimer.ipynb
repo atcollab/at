{
 "cells": [
  {
   "cell_type": "markdown",
   "id": "bd4a0591-bf6e-4097-81e3-13a314e0bfa1",
   "metadata": {
    "editable": true,
    "slideshow": {
     "slide_type": ""
    },
    "tags": []
   },
   "source": [
    "# PyAT Primer"
   ]
  },
  {
   "cell_type": "markdown",
   "id": "530dedaa-0200-4d2b-81f1-6693fad26ac7",
   "metadata": {
    "editable": true,
    "jp-MarkdownHeadingCollapsed": true,
    "slideshow": {
     "slide_type": ""
    },
    "tags": []
   },
   "source": [
    "## Introduction\n",
    "\n",
    "The Accelerator Toolbox (AT) is a toolbox of functions in Matlab for\n",
    "charged particle beam simulation. It was created by Andrei Terebilo in\n",
    "the late 1990’s. The original papers[^at1][^at2] still serve as a good introduction to AT. The AT described in those papers is AT1.3, the latest version produced by Terebilo. The next version of AT is considered AT2.0[^nash]. Here we provide examples showing some of the changes from AT1.3, but also serving as an introduction for someone just starting AT.\n",
    "\n",
    "### Coordinates\n",
    "\n",
    "The 6-d phase space coordinates used in AT are as follows:\n",
    "\n",
    "$$\n",
    "\\vec Z = \\begin{pmatrix} x \\\\ \\frac{p_x}{p_0} \\simeq x'(1+\\delta) \\\\ y \\\\ \\frac{p_y}{p_0} \\simeq y'(1+\\delta) \\\\ \\delta=\\frac{\\left(p-p_0\\right)}{p_0} \\\\ \\beta c \\tau\\end{pmatrix}\n",
    "$$\n",
    "\n",
    "$p_0$ is the reference momentum. $\\tau$ is the\n",
    "time lag relative to the ideal particle."
   ]
  },
  {
   "cell_type": "markdown",
   "id": "82f3bbbc-7384-4d08-81b0-7a6d3a564c03",
   "metadata": {
    "editable": true,
    "slideshow": {
     "slide_type": ""
    },
    "tags": []
   },
   "source": [
    "## Creation of Elements and Lattices"
   ]
  },
  {
   "cell_type": "code",
   "execution_count": 1,
   "id": "5c78f062-ba66-4fd2-87de-0eaec657d510",
   "metadata": {
    "editable": true,
    "slideshow": {
     "slide_type": ""
    },
    "tags": []
   },
   "outputs": [],
   "source": [
    "import at\n",
    "import at.plot\n",
    "import numpy as np\n",
    "import matplotlib as mpl\n",
    "import matplotlib.pyplot as plt\n",
    "from math import pi"
   ]
  },
  {
   "cell_type": "code",
   "execution_count": 2,
   "id": "d6a0c0da-4697-4bbc-9154-093ec4609404",
   "metadata": {
    "editable": true,
    "slideshow": {
     "slide_type": ""
    },
    "tags": [
     "remove-cell"
    ]
   },
   "outputs": [],
   "source": [
    "from myst_nb import glue\n",
    "mpl.rcParams[\"figure.figsize\"] = [6.0, 4.0]"
   ]
  },
  {
   "cell_type": "markdown",
   "id": "f2b64fd7-25e0-4ad9-97fa-9a410cadfe53",
   "metadata": {
    "tags": []
   },
   "source": [
    "A lattice in AT is a object of the {py:class}`.Lattice` class containing the lattice elements. These elements may be created using element creation functions. These functions output objects inheriting from the {py:class}`.Element` base class. For example, a quadrupole may be created with the function {py:class}`.Quadrupole`."
   ]
  },
  {
   "cell_type": "code",
   "execution_count": 3,
   "id": "984804c7-7d9c-4bb6-a47a-ae27275f9b87",
   "metadata": {
    "editable": true,
    "slideshow": {
     "slide_type": ""
    },
    "tags": []
   },
   "outputs": [
    {
     "name": "stdout",
     "output_type": "stream",
     "text": [
      "Quadrupole:\n",
      "       FamName: QF\n",
      "        Length: 0.5\n",
      "    PassMethod: StrMPoleSymplectic4Pass\n",
      "      MaxOrder: 1\n",
      "   NumIntSteps: 10\n",
      "      PolynomA: [0. 0.]\n",
      "      PolynomB: [0.  1.2]\n",
      "             K: 1.2\n"
     ]
    }
   ],
   "source": [
    "QF = at.Quadrupole(\"QF\", 0.5, 1.2)\n",
    "print(QF)"
   ]
  },
  {
   "cell_type": "markdown",
   "id": "2b051642-e0d7-4cc5-9c45-98161820ef36",
   "metadata": {},
   "source": [
    "We note that the family name of this quadrupole is ’QF’ and the pass\n",
    "method is `QuadMPoleFringePass`. The fields following are parameters\n",
    "necessary to be able to pass an electron through this quadrupole (i.e.,\n",
    "the set of arguments required by the pass method). We now create some\n",
    "other elements needed in a FODO lattice:"
   ]
  },
  {
   "cell_type": "code",
   "execution_count": 4,
   "id": "1d9a6245-9c99-4595-9ee0-2e9bde7922dc",
   "metadata": {},
   "outputs": [],
   "source": [
    "Dr = at.Drift(\"Dr\", 0.5)\n",
    "HalfDr = at.Drift(\"Dr2\", 0.25)\n",
    "QD = at.Quadrupole(\"QD\", 0.5, -1.2)\n",
    "Bend = at.Dipole(\"Bend\", 1, 2 * pi / 40)"
   ]
  },
  {
   "cell_type": "markdown",
   "id": "50afd7d9-3166-456d-9e21-aaf14b05a5ad",
   "metadata": {},
   "source": [
    "In addition to {py:class}`.Quadrupole` that we already saw, we have created a\n",
    "drift (region with no magnetic field), using {py:class}`.Drift`. Besides the\n",
    "family name, the only other needed field is the length. Since we split\n",
    "the cell in the center of the drift, we have also created a half drift\n",
    "element. The drifts are 0.5 meters long and the half drift is 0.25\n",
    "meters long. We have defined a sector dipole, or bend magnet using\n",
    "{py:class}`.Dipole`. The family name is ’Bend’. The second field is the length\n",
    "of the magnet and we have given it a length of 1 meter. Next is the\n",
    "bending angle. We have defined just an arc of a FODO lattice here, so we\n",
    "don’t have to bend by all of $2\\pi$ here. We choose to have 20 total\n",
    "such arcs, for a realistic field strength, and thus we define the\n",
    "bending angle to be $2\\pi/40$ since there are two bends per cell.\n",
    "\n",
    "A cell of a FODO lattice may now be constructed as follows"
   ]
  },
  {
   "cell_type": "code",
   "execution_count": 5,
   "id": "76d58096-cc74-4cc2-86a3-c12a47c4e264",
   "metadata": {},
   "outputs": [
    {
     "name": "stdout",
     "output_type": "stream",
     "text": [
      "Lattice(<9 elements>, name='Simple FODO cell', energy=1000000000.0, particle=Particle('relativistic'), periodicity=20, beam_current=0.0, nbunch=1)\n"
     ]
    }
   ],
   "source": [
    "FODOcell = at.Lattice(\n",
    "    [HalfDr, Bend, Dr, QF, Dr, Bend, Dr, QD, HalfDr],\n",
    "    name=\"Simple FODO cell\",\n",
    "    energy=1e9,\n",
    ")\n",
    "print(FODOcell)"
   ]
  },
  {
   "cell_type": "markdown",
   "id": "ba2e2ab2-8b60-49eb-9843-2a120b72a2a8",
   "metadata": {},
   "source": [
    ":::{attention}\n",
    "When repeating the same element in a Lattice, like ``Dr`` or ``Bend`` in ``FODOcell``, all occurences refer to the same element, so any modification of the first drift will also affect the second one.\n",
    ":::\n",
    "As mentioned, this cell is only 1/20 of a FODO lattice. The entire\n",
    "lattice may be created by repeating this cell 20 times as follows"
   ]
  },
  {
   "cell_type": "code",
   "execution_count": 6,
   "id": "c3af01de-12c1-4815-84d1-8c8fa4b24f24",
   "metadata": {},
   "outputs": [
    {
     "name": "stdout",
     "output_type": "stream",
     "text": [
      "Lattice(<180 elements>, name='Simple FODO cell', energy=1000000000.0, particle=Particle('relativistic'), periodicity=1, beam_current=0.0, nbunch=1)\n"
     ]
    }
   ],
   "source": [
    "FODO = FODOcell * 20\n",
    "print(FODO)"
   ]
  },
  {
   "cell_type": "markdown",
   "id": "7d4ade2b-048e-410a-a3bb-e5518c3d1e6b",
   "metadata": {
    "editable": true,
    "slideshow": {
     "slide_type": ""
    },
    "tags": []
   },
   "source": [
    "We have now created a valid AT lattice, using drifts, dipoles, and\n",
    "quadrupoles.\n",
    "\n",
    ":::{important}\n",
    "Contrary to the standard python {py:class}`list`, the ``*``operator on Lattices makes deep copies of\n",
    "elements to populate to result, so that the final Lattice has independent elements\n",
    ":::\n",
    "\n",
    "Common AT element classes are defined in the module {py:mod}`at.lattice.elements`.\n",
    "\n",
    "We will later add some sextupoles to this lattice, and also\n",
    "an RF cavity, but one could already track particles through this lattice, as is."
   ]
  },
  {
   "cell_type": "markdown",
   "id": "df03ba27-6e2e-485a-b53e-637cc5f1b681",
   "metadata": {},
   "source": [
    "## Lattice Querying and Manipulation\n",
    "\n",
    "There are many parameters in a storage ring lattice. We need tools to\n",
    "view these parameters and to change them.\n",
    "\n",
    "### Selecting elements\n",
    "We have seen how to concatenate elements to form a lattice. To extract elements, two indexing methods may be used, similar to indexing in numpy arrays:\n",
    "\n",
    "- Integer array indexing: elements are identified by the array of their indices. For instance, the elements at locations 3 and 7 of `FODOcell` may be selected with:"
   ]
  },
  {
   "cell_type": "code",
   "execution_count": 7,
   "id": "e0592064-62c5-443b-875d-3a55b6e3c571",
   "metadata": {},
   "outputs": [
    {
     "data": {
      "text/plain": [
       "[Quadrupole('QF', 0.5, 1.2), Quadrupole('QD', 0.5, -1.2)]"
      ]
     },
     "execution_count": 7,
     "metadata": {},
     "output_type": "execute_result"
    }
   ],
   "source": [
    "list(FODOcell[3, 7])"
   ]
  },
  {
   "cell_type": "markdown",
   "id": "7a916f86-312e-4c33-b443-4c13545d8bfd",
   "metadata": {},
   "source": [
    "- Boolean array indexing; elements are identified by a Boolean array, as long as the Lattice, where selected elements are identified by a True value. The same elements as in the previous example may be selected with:"
   ]
  },
  {
   "cell_type": "code",
   "execution_count": 8,
   "id": "06851248-1a41-43f7-8812-23eef9ec17e7",
   "metadata": {
    "editable": true,
    "slideshow": {
     "slide_type": ""
    },
    "tags": []
   },
   "outputs": [
    {
     "data": {
      "text/plain": [
       "[Quadrupole('QF', 0.5, 1.2), Quadrupole('QD', 0.5, -1.2)]"
      ]
     },
     "execution_count": 8,
     "metadata": {},
     "output_type": "execute_result"
    }
   ],
   "source": [
    "mask = np.zeros(len(FODOcell), dtype=bool)\n",
    "mask[3] = True\n",
    "mask[7] = True\n",
    "list(FODOcell[mask])"
   ]
  },
  {
   "cell_type": "markdown",
   "id": "1bab2b0f-10b4-498f-aee4-00777c291c03",
   "metadata": {
    "editable": true,
    "slideshow": {
     "slide_type": ""
    },
    "tags": []
   },
   "source": [
    "Indexing can also be performed with string patterns using shell-style wildcards\n",
    "(see {py:mod}`fnmatch`). This indexes elements based ob the ``FamName`` attribute:"
   ]
  },
  {
   "cell_type": "code",
   "execution_count": 9,
   "id": "a379ec5b-fb7f-4d3e-a947-fae2d022f8e3",
   "metadata": {
    "editable": true,
    "slideshow": {
     "slide_type": ""
    },
    "tags": []
   },
   "outputs": [
    {
     "data": {
      "text/plain": [
       "[Quadrupole('QF', 0.5, 1.2), Quadrupole('QD', 0.5, -1.2)]"
      ]
     },
     "execution_count": 9,
     "metadata": {},
     "output_type": "execute_result"
    }
   ],
   "source": [
    "list(FODOcell[\"Q[FD]\"])"
   ]
  },
  {
   "cell_type": "markdown",
   "id": "b520a816-2a39-4912-819b-7e1b1e69f2be",
   "metadata": {
    "editable": true,
    "slideshow": {
     "slide_type": ""
    },
    "tags": []
   },
   "source": [
    "We can also index elements according to their type:"
   ]
  },
  {
   "cell_type": "code",
   "execution_count": 10,
   "id": "f85dffad-ed5c-4750-8eb2-f00f12ba0178",
   "metadata": {
    "editable": true,
    "slideshow": {
     "slide_type": ""
    },
    "tags": []
   },
   "outputs": [
    {
     "data": {
      "text/plain": [
       "[Drift('Dr2', 0.25),\n",
       " Drift('Dr', 0.5),\n",
       " Drift('Dr', 0.5),\n",
       " Drift('Dr', 0.5),\n",
       " Drift('Dr2', 0.25)]"
      ]
     },
     "execution_count": 10,
     "metadata": {},
     "output_type": "execute_result"
    }
   ],
   "source": [
    "list(FODOcell[at.Drift])"
   ]
  },
  {
   "cell_type": "markdown",
   "id": "13e6f5dd-deed-43ce-acf3-2ceb6930cc42",
   "metadata": {
    "editable": true,
    "slideshow": {
     "slide_type": ""
    },
    "tags": []
   },
   "source": [
    "Many AT function have an input argument, usually named ``refpts`` using such indexing methods to select the \"points of interest\" in the function output. Please note that:\n",
    "\n",
    "- The corresponding locations in the ring are the **entrances** of the selected ring elements,\n",
    "- as a special case, a value of \"len(ring)\" (normally out-of-range element) is used to indicate the **exit** of the **last** element (think of it as the entrance of the 2nd turn).\n",
    "\n",
    "Special constants are available to refer to commonly used locations:\n",
    "\n",
    "- {py:obj}`.All` refers to all the available locations (equivalent to ``range(len(ring)+1)``),\n",
    "- {py:obj}`.End` refers to the exit of the last element (equivalent to ``len(ring)``),\n",
    "- {py:obj}`None` means no selected element (equivalent to ``[]``.\n",
    "\n",
    "Integer or boolean indices can be generated with the {py:meth}`.Lattice.get_bool_index` method, which returns a boolean index of selected elements and  {py:meth}`.Lattice.get_uint32_index` which returns an integer index."
   ]
  },
  {
   "cell_type": "code",
   "execution_count": 11,
   "id": "20ac83d8-4c26-485c-9345-6858afb9ffa0",
   "metadata": {
    "editable": true,
    "slideshow": {
     "slide_type": ""
    },
    "tags": []
   },
   "outputs": [
    {
     "name": "stdout",
     "output_type": "stream",
     "text": [
      "[False False False  True False False False  True False False]\n",
      "[False False False False False False False  True False False]\n"
     ]
    }
   ],
   "source": [
    "refquad = FODOcell.get_bool_index(at.Quadrupole)  # All quadrupoles\n",
    "print(refquad)\n",
    "refqd = FODOcell.get_bool_index(\"QD\")  # FamName attribute == QD\n",
    "print(refqd)"
   ]
  },
  {
   "cell_type": "markdown",
   "id": "1e8df42f-81cd-43ee-87fa-0c7c9c11af66",
   "metadata": {},
   "source": [
    "Boolean indices can be combined for complex selections:"
   ]
  },
  {
   "cell_type": "code",
   "execution_count": 12,
   "id": "7ac61ff1-eaae-4fd7-a27e-287261641927",
   "metadata": {},
   "outputs": [
    {
     "name": "stdout",
     "output_type": "stream",
     "text": [
      "[Dipole('Bend', 1.0, 0.15707963267948966, 0.0), Quadrupole('QF', 0.5, 1.2), Dipole('Bend', 1.0, 0.15707963267948966, 0.0), Quadrupole('QD', 0.5, -1.2)]\n"
     ]
    }
   ],
   "source": [
    "refbend = FODOcell.get_bool_index(at.Dipole)  # All dipoles\n",
    "print(list(FODOcell[ refquad | refbend]))  # All dipoles and quadrupoles"
   ]
  },
  {
   "cell_type": "markdown",
   "id": "1ac82250-df8e-44c8-96ef-6cea7027dead",
   "metadata": {},
   "source": [
    "### Iterating over selected elements\n",
    "The {py:meth}`.Lattice.select` method of the lattice object returns an iterator over the selected elements:"
   ]
  },
  {
   "cell_type": "code",
   "execution_count": 13,
   "id": "aba272f1-369d-46da-b4ae-e29caf38de0f",
   "metadata": {},
   "outputs": [
    {
     "name": "stdout",
     "output_type": "stream",
     "text": [
      "Quadrupole:\n",
      "       FamName: QF\n",
      "        Length: 0.5\n",
      "    PassMethod: StrMPoleSymplectic4Pass\n",
      "      MaxOrder: 1\n",
      "   NumIntSteps: 10\n",
      "      PolynomA: [0. 0.]\n",
      "      PolynomB: [0.  1.2]\n",
      "             K: 1.2\n",
      "Quadrupole:\n",
      "       FamName: QD\n",
      "        Length: 0.5\n",
      "    PassMethod: StrMPoleSymplectic4Pass\n",
      "      MaxOrder: 1\n",
      "   NumIntSteps: 10\n",
      "      PolynomA: [0. 0.]\n",
      "      PolynomB: [ 0.  -1.2]\n",
      "             K: -1.2\n"
     ]
    }
   ],
   "source": [
    "for elem in FODOcell.select(at.Quadrupole):\n",
    "    print(elem)"
   ]
  },
  {
   "cell_type": "markdown",
   "id": "9a1b6357-2b4e-4f3a-95df-c64e7661c989",
   "metadata": {},
   "source": [
    "### Extracting attribute values\n",
    "Following the previous example, we can get the quadrupole strengths (``PolynomB[1]``) with:"
   ]
  },
  {
   "cell_type": "code",
   "execution_count": 14,
   "id": "bb90eb83-86d2-49ab-8e25-aef8b18999f5",
   "metadata": {},
   "outputs": [
    {
     "data": {
      "text/plain": [
       "array([ 1.2, -1.2])"
      ]
     },
     "execution_count": 14,
     "metadata": {},
     "output_type": "execute_result"
    }
   ],
   "source": [
    "np.array([elem.PolynomB[1] for elem in FODOcell.select(refquad)])"
   ]
  },
  {
   "cell_type": "markdown",
   "id": "4cafa135-fd84-42f0-9ed7-84ea1c7fefbe",
   "metadata": {},
   "source": [
    "The same result is provided by the {py:func}`.get_value_refpts` convenience function:"
   ]
  },
  {
   "cell_type": "code",
   "execution_count": 15,
   "id": "c028e62f-d916-4f4d-b5af-d198d53d44c8",
   "metadata": {},
   "outputs": [
    {
     "data": {
      "text/plain": [
       "array([ 1.2, -1.2])"
      ]
     },
     "execution_count": 15,
     "metadata": {},
     "output_type": "execute_result"
    }
   ],
   "source": [
    "at.get_value_refpts(FODOcell, \"Q[FD]\", \"PolynomB\", index=1)"
   ]
  },
  {
   "cell_type": "markdown",
   "id": "ba6f9497-5beb-4885-823f-f17ca2a16139",
   "metadata": {},
   "source": [
    "### Setting attribute values\n",
    "Similarly, using a the Lattice iterator, we can write:"
   ]
  },
  {
   "cell_type": "code",
   "execution_count": 16,
   "id": "96f6a660-022b-44c0-882b-3d6683355c54",
   "metadata": {},
   "outputs": [
    {
     "data": {
      "text/plain": [
       "array([ 1.1, -1.3])"
      ]
     },
     "execution_count": 16,
     "metadata": {},
     "output_type": "execute_result"
    }
   ],
   "source": [
    "new_strengths = [1.1, -1.3]\n",
    "for elem, strength in zip(FODOcell.select(refquad), new_strengths):\n",
    "    elem.PolynomB[1] = strength\n",
    "# Check the result:\n",
    "np.array([elem.PolynomB[1] for elem in FODOcell.select(refquad)])"
   ]
  },
  {
   "cell_type": "markdown",
   "id": "f3662e68-3715-4b08-9217-77cb2ab19ce4",
   "metadata": {},
   "source": [
    "Or with the {py:func}`.set_value_refpts` function:"
   ]
  },
  {
   "cell_type": "code",
   "execution_count": 17,
   "id": "1c33c738-9f60-4785-a836-ee06deda35da",
   "metadata": {},
   "outputs": [
    {
     "data": {
      "text/plain": [
       "array([ 1.2, -1.2])"
      ]
     },
     "execution_count": 17,
     "metadata": {},
     "output_type": "execute_result"
    }
   ],
   "source": [
    "initial_strengths = [1.2, -1.2]\n",
    "at.set_value_refpts(FODOcell, refquad, \"PolynomB\", initial_strengths, index=1)\n",
    "# Check the result:\n",
    "at.get_value_refpts(FODOcell, refquad, \"PolynomB\", index=1)"
   ]
  },
  {
   "cell_type": "markdown",
   "id": "82e7ba7c-8890-41dc-9a88-dc49e952a670",
   "metadata": {},
   "source": [
    "## Tracking\n",
    "\n",
    "Once a lattice is defined, electrons may be tracked through it.\n",
    "The {py:meth}`.Lattice.track` method does that. An example of its\n",
    "use is as follows:"
   ]
  },
  {
   "cell_type": "code",
   "execution_count": 18,
   "id": "f644526e-a790-4a19-bdf0-15c60ad16f29",
   "metadata": {
    "editable": true,
    "slideshow": {
     "slide_type": ""
    },
    "tags": [
     "remove-output"
    ]
   },
   "outputs": [
    {
     "data": {
      "text/plain": [
       "[<matplotlib.lines.Line2D at 0x12e3ef190>]"
      ]
     },
     "execution_count": 18,
     "metadata": {},
     "output_type": "execute_result"
    },
    {
     "data": {
      "image/png": "[encoded data removed]",
      "text/plain": [
       "<Figure size 600x400 with 1 Axes>"
      ]
     },
     "metadata": {},
     "output_type": "display_data"
    }
   ],
   "source": [
    "nturns = 200\n",
    "Z01 = np.array([0.001, 0, 0, 0, 0, 0])\n",
    "Z02 = np.array([0.002, 0, 0, 0, 0, 0])\n",
    "Z03 = np.array([0.003, 0, 0, 0, 0, 0])\n",
    "Z1, *_ = FODO.track(Z01, nturns)\n",
    "Z2, *_ = FODO.track(Z02, nturns)\n",
    "Z3, *_ = FODO.track(Z03, nturns)\n",
    "fig, ax = plt.subplots()\n",
    "ax.plot(Z1[0, 0, 0, :], Z1[1, 0, 0, :], \".\")\n",
    "ax.plot(Z2[0, 0, 0, :], Z2[1, 0, 0, :], \".\")\n",
    "ax.plot(Z3[0, 0, 0, :], Z3[1, 0, 0, :], \".\")"
   ]
  },
  {
   "cell_type": "code",
   "execution_count": 19,
   "id": "1c0d50b5-81a9-4c2c-ad97-ec4561694088",
   "metadata": {
    "editable": true,
    "slideshow": {
     "slide_type": ""
    },
    "tags": [
     "remove-cell"
    ]
   },
   "outputs": [
    {
     "data": {
      "application/papermill.record/image/png": "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",
      "application/papermill.record/text/plain": "<Figure size 600x400 with 1 Axes>"
     },
     "metadata": {
      "scrapbook": {
       "mime_prefix": "application/papermill.record/",
       "name": "fig1"
      }
     },
     "output_type": "display_data"
    }
   ],
   "source": [
    "glue(\"fig1\", fig, display=False)"
   ]
  },
  {
   "cell_type": "markdown",
   "id": "98cdaa66-24bb-41d6-9081-e989f1d52bcb",
   "metadata": {
    "editable": true,
    "slideshow": {
     "slide_type": ""
    },
    "tags": []
   },
   "source": [
    ":::{glue} fig1\n",
    ":::\n",
    "In this example, we started with one initial condition, and all subsequent turns are returned by {py:meth}`.Lattice.track`. We may also start with multiple initial conditions:"
   ]
  },
  {
   "cell_type": "code",
   "execution_count": 20,
   "id": "d45c419c-15b3-406b-8d13-1670effe6be6",
   "metadata": {
    "editable": true,
    "slideshow": {
     "slide_type": ""
    },
    "tags": []
   },
   "outputs": [
    {
     "name": "stdout",
     "output_type": "stream",
     "text": [
      "Z0.shape: (6, 3)\n",
      " Z.shape: (6, 3, 1, 200)\n"
     ]
    }
   ],
   "source": [
    "Z0 = np.asfortranarray(np.vstack((Z01, Z02, Z03)).T)\n",
    "print(\"Z0.shape:\", Z0.shape)\n",
    "Z, *_ = FODO.track(Z0, nturns)\n",
    "print(\" Z.shape:\", Z.shape)"
   ]
  },
  {
   "cell_type": "markdown",
   "id": "0f63075d-dd9b-4086-b662-92a678ec9c6b",
   "metadata": {
    "tags": []
   },
   "source": [
    "Now the same plot can be obtained with:"
   ]
  },
  {
   "cell_type": "code",
   "execution_count": 21,
   "id": "602686a1-c2ad-42c5-83e5-17cabfdb8d72",
   "metadata": {
    "editable": true,
    "slideshow": {
     "slide_type": ""
    },
    "tags": [
     "remove-output"
    ]
   },
   "outputs": [
    {
     "data": {
      "text/plain": [
       "[<matplotlib.lines.Line2D at 0x12e9fc550>]"
      ]
     },
     "execution_count": 21,
     "metadata": {},
     "output_type": "execute_result"
    },
    {
     "data": {
      "image/png": "[encoded data removed]",
      "text/plain": [
       "<Figure size 600x400 with 1 Axes>"
      ]
     },
     "metadata": {},
     "output_type": "display_data"
    }
   ],
   "source": [
    "fig, ax = plt.subplots()\n",
    "ax.plot(Z[0, 0, 0, :], Z[1, 0, 0, :], \".\")\n",
    "ax.plot(Z[0, 1, 0, :], Z[1, 1, 0, :], \".\")\n",
    "ax.plot(Z[0, 2, 0, :], Z[1, 2, 0, :], \".\")"
   ]
  },
  {
   "cell_type": "code",
   "execution_count": 22,
   "id": "745db798-4b1e-48a9-b620-e1bbacc1c247",
   "metadata": {
    "editable": true,
    "slideshow": {
     "slide_type": ""
    },
    "tags": [
     "remove-cell"
    ]
   },
   "outputs": [
    {
     "data": {
      "application/papermill.record/image/png": "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",
      "application/papermill.record/text/plain": "<Figure size 600x400 with 1 Axes>"
     },
     "metadata": {
      "scrapbook": {
       "mime_prefix": "application/papermill.record/",
       "name": "fig2"
      }
     },
     "output_type": "display_data"
    }
   ],
   "source": [
    "glue(\"fig2\", fig, display=False)"
   ]
  },
  {
   "cell_type": "markdown",
   "id": "ed2a6166-e3fd-4e11-aad0-473a1277b8b7",
   "metadata": {
    "editable": true,
    "slideshow": {
     "slide_type": ""
    },
    "tags": []
   },
   "source": [
    ":::{glue} fig2\n",
    ":::\n",
    "\n",
    "## Computation of beam parameters\n",
    "\n",
    "Now that particles can be tracked through the lattice, we can use the\n",
    "tracking to understand different properties of the lattice. First, we\n",
    "would like to understand the linear properties such as Twiss parameters,\n",
    "tunes, chromaticities, etc. These can all be calculated with the\n",
    "function {py:func}`.get_optics`."
   ]
  },
  {
   "cell_type": "code",
   "execution_count": 23,
   "id": "84840dee-1c84-4b98-bb79-c6b85ca96900",
   "metadata": {
    "tags": []
   },
   "outputs": [],
   "source": [
    "[_, beamdata, _] = at.get_optics(FODO, get_chrom=True)"
   ]
  },
  {
   "cell_type": "markdown",
   "id": "e09dc965-1ea7-4d5f-ba4a-49da969aa8fe",
   "metadata": {
    "tags": []
   },
   "source": [
    "The first argument is the FODO lattice we have created. The second argument says we want to compute the optional chromaticity."
   ]
  },
  {
   "cell_type": "code",
   "execution_count": 24,
   "id": "1b8e9a56-3ea2-4b10-beab-0c20dedcbe06",
   "metadata": {
    "tags": []
   },
   "outputs": [
    {
     "name": "stdout",
     "output_type": "stream",
     "text": [
      "[0.21993568 0.91777806]\n",
      "[-6.34041559 -6.19856968]\n"
     ]
    }
   ],
   "source": [
    "print(beamdata.tune)\n",
    "print(beamdata.chromaticity)"
   ]
  },
  {
   "cell_type": "markdown",
   "id": "59758d91-898f-4864-9bc6-699ce2950fa4",
   "metadata": {
    "tags": []
   },
   "source": [
    "which tells us the tunes are $\\nu_x = 0.2199$ and $\\nu_y = 0.9178$ and\n",
    "the chromaticities are $\\xi_x = -6.34$, $\\xi_y = -6.20$.\n",
    "\n",
    "How did AT calculate these quantities? Without digging into the details of {py:func}`.get_optics`, you could still figure it out, just based on the ability to track with the {py:meth}`.Lattice.track` function. In fact, AT computes the one-turn transfer matrix by tracking several initial conditions and interpolating. The one turn transfer matrix (here we focus on 4x4) is computed with the function {py:func}`.find_m44` contained within {py:func}`.get_optics`. Calling this on the FODO lattice, we find"
   ]
  },
  {
   "cell_type": "code",
   "execution_count": 25,
   "id": "983bb992-8e33-45c4-883c-6a99847fd780",
   "metadata": {
    "tags": []
   },
   "outputs": [
    {
     "name": "stdout",
     "output_type": "stream",
     "text": [
      "[[-0.6518562   1.90977797  0.          0.        ]\n",
      " [-0.87430341  1.02741279  0.          0.        ]\n",
      " [ 0.          0.         -0.1807342  -3.24829821]\n",
      " [ 0.          0.          0.41466639  1.91972581]]\n"
     ]
    }
   ],
   "source": [
    "m44, _ = at.find_m44(FODO, 0)\n",
    "print(m44)"
   ]
  },
  {
   "cell_type": "markdown",
   "id": "09266969-750c-4700-b305-618bcdb6c55c",
   "metadata": {
    "tags": []
   },
   "source": [
    "The 0 as the second argument tells us to compute with $\\delta=0$. We\n",
    "note that the ring is uncoupled, and computing the eigenvalues of\n",
    "submatrices, we derive the tunes reported in {py:func}`.get_optics` above.\n",
    "\n",
    "Computing the tunes with varying $\\delta$ allows the computation\n",
    "of the chromaticity.\n",
    "\n",
    "Now, suppose we would like to change the tunes in our FODO lattice. We\n",
    "know that we should change the quadrupole strengths, but we may not know\n",
    "exactly what values to use.\n",
    "\n",
    "Here we reach the question of tuning. How do we set the parameters for\n",
    "these quadrupoles in order to correct the tunes? In principle we have\n",
    "the tools that we need. We can set the values of the quadrupoles using\n",
    "the function {py:func}`.set_value_refpts` and then recompute the chromaticity with\n",
    "{py:func}`.get_optics`. But we still don’t know what values to actually give the\n",
    "quadrupoles. One could compute the value, or instead use an optimization\n",
    "routine to vary the values until the correct output tunes are achieved.\n",
    "This is the approach followed with the function {py:func}`.fit_tune`.\n",
    "\n",
    "This allows you to vary quadrupole strengths until the desired tune\n",
    "values are reached. It is used as follows:\n",
    "\n",
    "First, we need to select two variable quadrupoles families:"
   ]
  },
  {
   "cell_type": "code",
   "execution_count": 26,
   "id": "37ed8f52-210d-411a-9c05-5d123fa1b0ba",
   "metadata": {
    "tags": []
   },
   "outputs": [],
   "source": [
    "refqf = at.get_cells(FODO, at.checkname(\"QF\"))  # Select all QFs\n",
    "refqd = at.get_cells(FODO, at.checkname(\"QD\"))  # Select all QDs"
   ]
  },
  {
   "cell_type": "markdown",
   "id": "65ea2750-80fc-417f-9b38-f4930fdf5bbb",
   "metadata": {},
   "source": [
    "Then we can call the fitting function to set the tunes to $\\nu_x = 0.15$ and $\\nu_y = 0.75$ using the quadrupoles QF and QD."
   ]
  },
  {
   "cell_type": "code",
   "execution_count": 27,
   "id": "750af30e-9232-4461-bbb3-38fbf896b656",
   "metadata": {
    "tags": []
   },
   "outputs": [
    {
     "name": "stdout",
     "output_type": "stream",
     "text": [
      "\n",
      "Fitting Tune...\n",
      "Initial value [0.21993568 0.91777806]\n",
      "iter# 0 Res. 1.8554910836351364e-06\n",
      "iter# 1 Res. 7.129086924969055e-10\n",
      "iter# 2 Res. 2.668004110846062e-13\n",
      "Final value [0.1500004  0.75000033] \n",
      "\n"
     ]
    }
   ],
   "source": [
    "at.fit_tune(FODO, refqf, refqd, [0.15, 0.75])"
   ]
  },
  {
   "cell_type": "markdown",
   "id": "4524f884-0893-46e4-9d95-bf76e0e93760",
   "metadata": {
    "tags": []
   },
   "source": [
    "Let's check the result:"
   ]
  },
  {
   "cell_type": "code",
   "execution_count": 28,
   "id": "7c32d181-5c19-4d10-b064-99790b7d6f47",
   "metadata": {
    "tags": []
   },
   "outputs": [
    {
     "data": {
      "text/plain": [
       "array([0.1500004 , 0.75000033])"
      ]
     },
     "execution_count": 28,
     "metadata": {},
     "output_type": "execute_result"
    }
   ],
   "source": [
    "[_, beamdata, _] = at.get_optics(FODO)\n",
    "beamdata.tune"
   ]
  },
  {
   "cell_type": "markdown",
   "id": "6abe86b3-8cb5-4212-8d73-ea5a7a2c26ee",
   "metadata": {
    "editable": true,
    "slideshow": {
     "slide_type": ""
    },
    "tags": []
   },
   "source": [
    "Giving satisfactory results for the tunes.\n",
    "\n",
    "Now, in case you have some experience with storage ring dynamics, you\n",
    "will know that these negative chromaticity values will lead to\n",
    "instability and thus our FODO lattice, as is, is not acceptable. To fix\n",
    "this problem, we add sextupoles to our lattice. We define a focusing and\n",
    "defocussing sextupoles (0.1 meter long) as follows:"
   ]
  },
  {
   "cell_type": "code",
   "execution_count": 29,
   "id": "afbb840f-c814-47dd-bce7-e28b101f5888",
   "metadata": {
    "tags": []
   },
   "outputs": [],
   "source": [
    "SF = at.Sextupole(\"SF\", 0.1, 0)\n",
    "SD = at.Sextupole(\"SD\", 0.1, 0)\n",
    "drs = at.Drift(\"DRS\", 0.2)"
   ]
  },
  {
   "cell_type": "markdown",
   "id": "1f9013f4-f215-4d40-95c1-3193721344b6",
   "metadata": {
    "tags": []
   },
   "source": [
    "Now we want to add these to the lattice at locations where they will be\n",
    "effective. We will put them in the middle of the 0.5 meter drift\n",
    "sections: SF before the QF and SD before the QD. Let's locate the drifts:"
   ]
  },
  {
   "cell_type": "code",
   "execution_count": 30,
   "id": "60c76c81-f886-48e9-a09d-894b8a42ac2c",
   "metadata": {
    "tags": []
   },
   "outputs": [
    {
     "data": {
      "text/plain": [
       "array([2, 4, 6], dtype=uint32)"
      ]
     },
     "execution_count": 30,
     "metadata": {},
     "output_type": "execute_result"
    }
   ],
   "source": [
    "FODOcell.get_uint32_index(\"Dr\")"
   ]
  },
  {
   "cell_type": "markdown",
   "id": "d94cb968-c5ba-485a-8df9-f461acad1654",
   "metadata": {
    "tags": []
   },
   "source": [
    "We will insert SF in the middle of element 2 and SD in the middle of element 6. Since the Lattice object is derived from the python `list`, we can use all the `list` methods to do this. For instance:"
   ]
  },
  {
   "cell_type": "code",
   "execution_count": 31,
   "id": "fc38823d-540d-4449-94ee-85da322dbfc1",
   "metadata": {
    "tags": []
   },
   "outputs": [
    {
     "name": "stdout",
     "output_type": "stream",
     "text": [
      "Lattice(<260 elements>, name='Simple FODO cell', energy=1000000000.0, particle=Particle('relativistic'), periodicity=1, beam_current=0.0, nbunch=1)\n"
     ]
    }
   ],
   "source": [
    "FODOcellSext = FODOcell.copy()\n",
    "FODOcellSext[6:7] = [drs, SD, drs]\n",
    "FODOcellSext[2:3] = [drs, SF, drs]\n",
    "FODOSext = FODOcellSext * 20\n",
    "print(FODOSext)"
   ]
  },
  {
   "cell_type": "code",
   "execution_count": 32,
   "id": "ae23e782-e955-49c9-99fb-56b3b63b7a76",
   "metadata": {
    "tags": []
   },
   "outputs": [
    {
     "name": "stdout",
     "output_type": "stream",
     "text": [
      "[0.21993568 0.91777806]\n",
      "[-6.34041562 -6.19856968]\n"
     ]
    }
   ],
   "source": [
    "[_, beamdata, _] = at.get_optics(FODOSext, get_chrom=True)\n",
    "print(beamdata.tune)\n",
    "print(beamdata.chromaticity)"
   ]
  },
  {
   "cell_type": "markdown",
   "id": "7713ec26-470e-4684-a2a1-dc1b1a491dee",
   "metadata": {
    "tags": []
   },
   "source": [
    "The tunes of FODOSext are identical to the ones of FODO. Now we need to tune the sextupoles. For this, we will use the function {py:func}`.fit_chrom`. This function works analogously to {py:func}`.fit_tune` except the sextupoles are varied instead of the quadrupoles. Let's locate the first sextupoles:"
   ]
  },
  {
   "cell_type": "code",
   "execution_count": 33,
   "id": "fcf761fb-68e9-46bb-994f-05a3b7706fb0",
   "metadata": {},
   "outputs": [],
   "source": [
    "refsext = FODOSext.get_bool_index(at.Sextupole)  # Select all sextpoles\n",
    "refsf, refsd = np.flatnonzero(refsext)[:2]  # Take the 1st ones"
   ]
  },
  {
   "cell_type": "code",
   "execution_count": 34,
   "id": "f376f049-f992-44fb-bf81-57f735fcd5f9",
   "metadata": {
    "tags": []
   },
   "outputs": [
    {
     "name": "stdout",
     "output_type": "stream",
     "text": [
      "\n",
      "Fitting Chromaticity...\n",
      "Initial value [-6.34041562 -6.19856968]\n",
      "iter# 0 Res. 0.0003269239728289997\n",
      "iter# 1 Res. 1.7171336537602871e-09\n",
      "iter# 2 Res. 7.769861490833204e-15\n",
      "Final value [0.49999991 0.5       ] \n",
      "\n"
     ]
    }
   ],
   "source": [
    "at.fit_chrom(FODOSext, refsf, refsd, [0.5, 0.5])"
   ]
  },
  {
   "cell_type": "markdown",
   "id": "32c650b1-6c4a-4de1-a245-da3439a67daa",
   "metadata": {
    "tags": []
   },
   "source": [
    "After changing the tunes and fixing the chromaticities, we find:"
   ]
  },
  {
   "cell_type": "code",
   "execution_count": 35,
   "id": "5625808c-635d-4882-9094-2068ea37f24b",
   "metadata": {
    "tags": []
   },
   "outputs": [
    {
     "name": "stdout",
     "output_type": "stream",
     "text": [
      "[0.21993568 0.91777806]\n",
      "[0.49999991 0.5       ]\n"
     ]
    }
   ],
   "source": [
    "[_, beamdata, _] = at.get_optics(FODOSext, get_chrom=True)\n",
    "print(beamdata.tune)\n",
    "print(beamdata.chromaticity)"
   ]
  },
  {
   "cell_type": "markdown",
   "id": "631418ff-52f7-4903-9669-3e0d27edfc21",
   "metadata": {
    "editable": true,
    "slideshow": {
     "slide_type": ""
    },
    "tags": []
   },
   "source": [
    "You may have noticed that we ignored two outputs of {py:func}`.fit_tune`. They contains linear optics parameters that vary around the ring. These are the Twiss parameters, dispersions, phase advance, and coupling parameters. **elemdata0** is their values at the entrance of the ring, **elemdata** is the values at the selected points of interest. To compute them at all lattice elements, we call:"
   ]
  },
  {
   "cell_type": "code",
   "execution_count": 36,
   "id": "cb590151-2f62-4ae0-94bd-ee714b3e3277",
   "metadata": {
    "tags": []
   },
   "outputs": [],
   "source": [
    "[elemdata0, beamdata, elemdata] = at.get_optics(\n",
    "    FODOcellSext, range(len(FODOcellSext) + 1)\n",
    ")"
   ]
  },
  {
   "cell_type": "markdown",
   "id": "e84ab3b8-0c93-4c0e-83f9-1212a002f177",
   "metadata": {},
   "source": [
    "Examining **elemdata**, we find:"
   ]
  },
  {
   "cell_type": "code",
   "execution_count": 37,
   "id": "b89b5824-c75b-4dca-ba1c-c6b6e64fe08f",
   "metadata": {
    "tags": []
   },
   "outputs": [
    {
     "name": "stdout",
     "output_type": "stream",
     "text": [
      "elemdata.shape: (14,)\n",
      "elemdata.fields:\n",
      "alpha\n",
      "beta\n",
      "mu\n",
      "R\n",
      "A\n",
      "dispersion\n",
      "closed_orbit\n",
      "M\n",
      "s_pos\n"
     ]
    }
   ],
   "source": [
    "print(\"elemdata.shape:\", elemdata.shape)\n",
    "print(\"elemdata.fields:\")\n",
    "for fld in elemdata.dtype.fields.keys():\n",
    "    print(fld)"
   ]
  },
  {
   "cell_type": "markdown",
   "id": "25c638ad-ab79-4703-b210-08cf9f444bb2",
   "metadata": {
    "editable": true,
    "slideshow": {
     "slide_type": ""
    },
    "tags": []
   },
   "source": [
    "- ’s_pos’ is the set of $s$ positions,\n",
    "- ’closed_orbit’ is the $x,p_x,y,p_y$ coordinate vector of the closed orbit,\n",
    "- ’dispersion’ is the $\\eta_x,\\eta'_x,\\eta_y,\\eta'_y$ coordinate vector of the dispersion,\n",
    "- ’M’ is the local $4\\times 4$ transfer matrix,\n",
    "- ’beta’ gives the horizontal and vertical $\\beta$ functions,\n",
    "- ’alpha’ gives the Twiss parameters $\\alpha_{x,y}$,\n",
    "- ’mu’ gives the phase advances (times $2\\pi$).\n",
    "\n",
    "Let us use these results to plot the beta functions around the ring."
   ]
  },
  {
   "cell_type": "code",
   "execution_count": 38,
   "id": "b971df9a-a432-4964-a49e-4eb9c76bcb6b",
   "metadata": {
    "editable": true,
    "slideshow": {
     "slide_type": ""
    },
    "tags": []
   },
   "outputs": [
    {
     "data": {
      "image/png": "[encoded data removed]",
      "text/plain": [
       "<Figure size 600x400 with 1 Axes>"
      ]
     },
     "metadata": {},
     "output_type": "display_data"
    }
   ],
   "source": [
    "plt.plot(elemdata.s_pos, elemdata.beta)\n",
    "plt.xlabel(\"s [m]\")\n",
    "plt.ylabel(r\"$\\beta$ [m]\");"
   ]
  },
  {
   "cell_type": "markdown",
   "id": "3e85f1f2-ead8-4dad-859a-072f293872f4",
   "metadata": {
    "tags": []
   },
   "source": [
    "We may also plot the lattice parameters using a dedicated plot function\n",
    "with the command:"
   ]
  },
  {
   "cell_type": "code",
   "execution_count": 39,
   "id": "0d9e2123-0f65-4f63-97eb-1b2c54159ac3",
   "metadata": {
    "tags": []
   },
   "outputs": [
    {
     "data": {
      "image/png": "[encoded data removed]",
      "text/plain": [
       "<Figure size 600x400 with 3 Axes>"
      ]
     },
     "metadata": {},
     "output_type": "display_data"
    }
   ],
   "source": [
    "FODOcellSext.plot_beta();"
   ]
  },
  {
   "cell_type": "markdown",
   "id": "1a70acd7-2088-46f9-8280-9356bfce0a0e",
   "metadata": {
    "tags": []
   },
   "source": [
    "Note that the magnets are displayed below the function, giving a convenient visualization. Also note that the lattice functions are smoother than those we saw before. They have been computed at more positions, by slicing the magnets in the {py:func}`.plot_beta` function.\n"
   ]
  },
  {
   "cell_type": "markdown",
   "id": "8c230ec6-3b65-4e67-9d0c-2912ba89694f",
   "metadata": {
    "tags": []
   },
   "source": [
    "## Beam sizes\n",
    "\n",
    "The parameters computed thus far use only the tracking through the\n",
    "lattice, with no radiation effects. In reality, for electrons, we know\n",
    "that there are radiation effects which cause a damping and diffusion and\n",
    "determine equilibrium emittances and beam sizes. This is computed in AT\n",
    "by the {py:func}`.ohmi_envelope` function using the Ohmi envelope formalism.\n",
    "\n",
    "In order to use {py:func}`.ohmi_envelope`, we first need to make sure the beam is stable\n",
    "longitudinally as well, requiring us to add an RF cavity to our FODO\n",
    "lattice. Let's add an inactive cavity with the command"
   ]
  },
  {
   "cell_type": "code",
   "execution_count": 40,
   "id": "c82535ac-a59f-4147-bf52-2b074a5b22b0",
   "metadata": {
    "editable": true,
    "myst-nb": {
     "number-source-lines": true
    },
    "slideshow": {
     "slide_type": ""
    },
    "tags": [
     "remove-output"
    ]
   },
   "outputs": [
    {
     "name": "stderr",
     "output_type": "stream",
     "text": [
      "/Users/laurent/python/xconverters/lib/python3.11/site-packages/at/lattice/lattice_object.py:848: AtWarning: Harmonic number changed, resetting fillpattern to default (single bunch)\n",
      "  warn(AtWarning('Harmonic number changed, resetting fillpattern to '\n"
     ]
    }
   ],
   "source": [
    "RFC = at.RFCavity(\"RFC\", 0.0, 0.0, 0.0, 1, 1.0e9, PassMethod=\"IdentityPass\")\n",
    "FODOSext.insert(0, RFC)\n",
    "FODOSext.harmonic_number = 100"
   ]
  },
  {
   "cell_type": "markdown",
   "id": "c350a245-eca5-4167-a717-f2682be33088",
   "metadata": {},
   "source": [
    "Now, we need to set the values of the RF cavity. This can be done with\n",
    "the function {py:func}`.set_cavity` as follows:"
   ]
  },
  {
   "cell_type": "code",
   "execution_count": 41,
   "id": "1b598840-46ed-4b21-8012-61bc72e499b3",
   "metadata": {
    "tags": []
   },
   "outputs": [
    {
     "name": "stdout",
     "output_type": "stream",
     "text": [
      "RFCavity:\n",
      "       FamName: RFC\n",
      "        Length: 0.0\n",
      "    PassMethod: IdentityPass\n",
      "        Energy: 1000000000.0\n",
      "     Frequency: 299792457.9999997\n",
      "    HarmNumber: 1\n",
      "       TimeLag: 0.0\n",
      "       Voltage: 500000.0\n"
     ]
    }
   ],
   "source": [
    "FODOSext.set_cavity(Voltage=0.5e6, Frequency=at.Frf.NOMINAL)\n",
    "print(RFC)"
   ]
  },
  {
   "cell_type": "markdown",
   "id": "07b491e6-4a62-4838-a418-f7b89c854c34",
   "metadata": {},
   "source": [
    "which says that the each of the 20 RF cavities has a voltage of 25 kV.\n",
    "\n",
    "{py:func}`.radiation_parameters` gives a summary of the lattice properties, using the classical radiation integrals:"
   ]
  },
  {
   "cell_type": "code",
   "execution_count": 42,
   "id": "1b6e0f59-582c-4e7f-a398-27a5ef7413f9",
   "metadata": {
    "tags": []
   },
   "outputs": [
    {
     "name": "stdout",
     "output_type": "stream",
     "text": [
      "              Frac. tunes: [0.21993568 0.91777806 0.01826495]\n",
      "                    Tunes: [5.21993568 4.91777806]\n",
      "           Chromaticities: [0.49999991 0.5       ]\n",
      " Momentum compact. factor: 4.193890e-02\n",
      "              Slip factor: -4.193864e-02\n",
      "                   Energy: 1.000000e+09 eV\n",
      "       Energy loss / turn: 1.389569e+04 eV\n",
      " Radiation integrals - I1: 4.193890374369338 m\n",
      "                       I2: 0.9869604401089351 m^-1\n",
      "                       I3: 0.15503138340149902 m^-2\n",
      "                       I4: 0.10348009724140475 m^-1\n",
      "                       I5: 0.020256990008554313 m^-1\n",
      "          Mode emittances: [3.36477907e-08            nan 4.00215447e-06]\n",
      "Damping partition numbers: [0.89515274 1.         2.10484726]\n",
      "            Damping times: [0.05363298 0.04800971 0.02280912] s\n",
      "            Energy spread: 0.000330932\n",
      "             Bunch length: 0.0120936 m\n",
      "         Cavities voltage: 500000.0 V\n",
      "        Synchrotron phase: 3.1138 rd\n",
      "    Synchrotron frequency: 54756.9 Hz\n"
     ]
    }
   ],
   "source": [
    "print(at.radiation_parameters(FODOSext))"
   ]
  },
  {
   "cell_type": "markdown",
   "id": "a00605e4-e3be-4d0d-9c38-f2dd47ca9fab",
   "metadata": {
    "tags": []
   },
   "source": [
    "We may now turn radiation ON and call the function {py:func}`.ohmi_envelope` as follows"
   ]
  },
  {
   "cell_type": "code",
   "execution_count": 43,
   "id": "1cc75bf1-851d-487f-a470-f6858cf5627c",
   "metadata": {
    "tags": []
   },
   "outputs": [
    {
     "name": "stdout",
     "output_type": "stream",
     "text": [
      "beamdata.fields:\n",
      "tunes\n",
      "damping_rates\n",
      "mode_matrices\n",
      "mode_emittances\n"
     ]
    }
   ],
   "source": [
    "FODOSext.enable_6d()\n",
    "_, beamdata, _ = at.ohmi_envelope(FODOSext)\n",
    "print(\"beamdata.fields:\")\n",
    "for fld in beamdata.dtype.fields.keys():\n",
    "    print(fld)"
   ]
  },
  {
   "cell_type": "markdown",
   "id": "1ab4896f-4515-41b9-90be-f73faf188c7f",
   "metadata": {},
   "source": [
    "- ’tunes’ gives the 3 tunes of the 6D motion;\n",
    "- ’damping_rates’,\n",
    "- ’mode_matrices’ are the sigma matrices of the 3 independent motions\n",
    "- ’mode_emittances’ are the 3 modal emittances.\n",
    "\n",
    "An easy way to summarize these results is provided by the {py:func}`.envelope_parameters` function:"
   ]
  },
  {
   "cell_type": "code",
   "execution_count": 44,
   "id": "bf3e26cb-c813-4bc3-990a-924c3c1a591a",
   "metadata": {
    "editable": true,
    "slideshow": {
     "slide_type": ""
    },
    "tags": []
   },
   "outputs": [
    {
     "name": "stdout",
     "output_type": "stream",
     "text": [
      "  Frac. tunes (6D motion): [0.21992977 0.91788601 0.01827781]\n",
      "                   Energy: 1.000000e+09 eV\n",
      "       Energy loss / turn: 1.389569e+04 eV\n",
      "          Mode emittances: [3.36300431e-08 1.59807023e-36 3.99691270e-06]\n",
      "Damping partition numbers: [0.89513401 1.00000019 2.1048658 ]\n",
      "            Damping times: [0.0536341  0.04800969 0.02280891] s\n",
      "            Energy spread: 0.000331118\n",
      "             Bunch length: 0.0121025 m\n",
      "         Cavities voltage: 500000.0 V\n",
      "        Synchrotron phase: 3.1138 rd\n",
      "    Synchrotron frequency: 54795.5 Hz\n"
     ]
    }
   ],
   "source": [
    "print(at.envelope_parameters(FODOSext))"
   ]
  },
  {
   "cell_type": "markdown",
   "id": "a3b6a17d-421f-4f13-a69e-d8cc23125289",
   "metadata": {
    "tags": []
   },
   "source": [
    "We see that our FODO lattice has an emittance of 33.63 nm, an energy\n",
    "spread of $3.3\\times 10^{-4}$ and a bunch length of 12.1 mm."
   ]
  },
  {
   "cell_type": "markdown",
   "id": "c632890f-cd8c-4e03-bcbf-ad53391585d4",
   "metadata": {
    "editable": true,
    "slideshow": {
     "slide_type": ""
    },
    "tags": []
   },
   "source": [
    "## References\n",
    "[^at1]: A. Terebilo *Accelerator Toolbox for Matlab*, [SLAC-PUB 8732 (May 2001)](https://www.slac.stanford.edu/pubs/slacpubs/8500/slac-pub-8732.pdf)\n",
    "\n",
    "[^at2]: A. Terebilo, *Accelerator Modelling with Matlab Accelerator Toolbox*, [PAC 2001 Proceedings](https://inspirehep.net/files/298dd81ab9ce89bfb2a42442b46b0379)\n",
    "\n",
    "[^nash]: B. Nash *et al.*, *New Functionality for Beam Dynamics in Accelerator Toolbox*, [IPAC 2015](https://inspirehep.net/files/8507fec63dc914e41a782b13b831c64e)"
   ]
  }
 ],
 "metadata": {
  "kernelspec": {
   "display_name": "Python 3 (ipykernel)",
   "language": "python",
   "name": "python3"
  },
  "language_info": {
   "codemirror_mode": {
    "name": "ipython",
    "version": 3
   },
   "file_extension": ".py",
   "mimetype": "text/x-python",
   "name": "python",
   "nbconvert_exporter": "python",
   "pygments_lexer": "ipython3",
   "version": "3.11.10"
  },
  "toc-autonumbering": false,
  "toc-showcode": false,
  "toc-showmarkdowntxt": false
 },
 "nbformat": 4,
 "nbformat_minor": 5
}
