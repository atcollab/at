{
 "cells": [
  {
   "cell_type": "markdown",
   "id": "bd4a0591-bf6e-4097-81e3-13a314e0bfa1",
   "metadata": {
    "tags": []
   },
   "source": [
    "# PyAT Primer"
   ]
  },
  {
   "cell_type": "markdown",
   "id": "530dedaa-0200-4d2b-81f1-6693fad26ac7",
   "metadata": {
    "jp-MarkdownHeadingCollapsed": true,
    "tags": []
   },
   "source": [
    "## Introduction\n",
    "\n",
    "The Accelerator Toolbox (AT) is a toolbox of functions in Matlab for\n",
    "charged particle beam simulation. It was created by Andrei Terebilo in\n",
    "the late 1990’s. The original papers still serve as a good introduction\n",
    "to AT. The AT described in those papers is AT1.3, the latest version\n",
    "produced by Terebilo. The next version of AT is considered AT2.0. Here\n",
    "we provide examples showing some of the changes from AT1.3, but also\n",
    "serving as an introduction for someone just starting AT.\n",
    "\n",
    "### Coordinates\n",
    "\n",
    "The 6-d phase space coordinates used in AT are as follows:\n",
    "\n",
    "```{math}\n",
    "\\vec Z = \\begin{pmatrix} x \\\\ \\frac{p_x}{p_0}=x'(1+\\delta) \\\\ y \\\\ \\frac{p_y}{p_0}=y'(1+\\delta) \\\\ \\delta=\\frac{\\left(p_z-p_0\\right)}{p_0} \\\\ c\\tau\\end{pmatrix}\n",
    "```\n",
    "$p_0$ is the reference momentum. $\\tau$ is the\n",
    "time lag relative to the ideal particle."
   ]
  },
  {
   "cell_type": "markdown",
   "id": "82f3bbbc-7384-4d08-81b0-7a6d3a564c03",
   "metadata": {
    "tags": []
   },
   "source": [
    "## Creation of Elements and Lattices"
   ]
  },
  {
   "cell_type": "code",
   "execution_count": 2,
   "id": "5c78f062-ba66-4fd2-87de-0eaec657d510",
   "metadata": {
    "tags": []
   },
   "outputs": [],
   "source": [
    "import at\n",
    "import at.plot\n",
    "import numpy as np\n",
    "import matplotlib as mpl\n",
    "import matplotlib.pyplot as plt\n",
    "from math import pi\n",
    "mpl.rcParams[\"figure.figsize\"] = [9.0, 6.0]"
   ]
  },
  {
   "cell_type": "markdown",
   "id": "f2b64fd7-25e0-4ad9-97fa-9a410cadfe53",
   "metadata": {
    "tags": []
   },
   "source": [
    "A lattice in AT is a object of the {py:class}`.Lattice` class containing the lattice elements. These elements may be created using element creation functions. These functions output objects inheriting from the {py:class}`.Element` base class. For example, a quadrupole may be created with the function {py:class}`.Quadrupole`.\n",
    "\n",
    "Help on this element can be displayed with:"
   ]
  },
  {
   "cell_type": "code",
   "execution_count": 4,
   "id": "11356ed2-b5c7-445d-8259-56eebe59d717",
   "metadata": {
    "editable": true,
    "slideshow": {
     "slide_type": ""
    },
    "tags": []
   },
   "outputs": [
    {
     "data": {
      "text/plain": [
       "\u001b[0;31mInit signature:\u001b[0m\n",
       "\u001b[0mat\u001b[0m\u001b[0;34m.\u001b[0m\u001b[0mQuadrupole\u001b[0m\u001b[0;34m(\u001b[0m\u001b[0;34m\u001b[0m\n",
       "\u001b[0;34m\u001b[0m    \u001b[0mfamily_name\u001b[0m\u001b[0;34m:\u001b[0m \u001b[0;34m'str'\u001b[0m\u001b[0;34m,\u001b[0m\u001b[0;34m\u001b[0m\n",
       "\u001b[0;34m\u001b[0m    \u001b[0mlength\u001b[0m\u001b[0;34m:\u001b[0m \u001b[0;34m'float'\u001b[0m\u001b[0;34m,\u001b[0m\u001b[0;34m\u001b[0m\n",
       "\u001b[0;34m\u001b[0m    \u001b[0mk\u001b[0m\u001b[0;34m:\u001b[0m \u001b[0;34m'float | None'\u001b[0m \u001b[0;34m=\u001b[0m \u001b[0;36m0.0\u001b[0m\u001b[0;34m,\u001b[0m\u001b[0;34m\u001b[0m\n",
       "\u001b[0;34m\u001b[0m    \u001b[0;34m**\u001b[0m\u001b[0mkwargs\u001b[0m\u001b[0;34m,\u001b[0m\u001b[0;34m\u001b[0m\n",
       "\u001b[0;34m\u001b[0m\u001b[0;34m)\u001b[0m\u001b[0;34m\u001b[0m\u001b[0;34m\u001b[0m\u001b[0m\n",
       "\u001b[0;31mDocstring:\u001b[0m      Quadrupole element\n",
       "\u001b[0;31mInit docstring:\u001b[0m\n",
       "Quadrupole(FamName, Length, Strength=0, **keywords)\n",
       "\n",
       "Args:\n",
       "    family_name:    Name of the element\n",
       "    length:         Element length [m]\n",
       "    k:              Focusing strength [mˆ-2]\n",
       "\n",
       "Keyword Arguments:\n",
       "    PolynomB:           straight multipoles\n",
       "    PolynomA:           skew multipoles\n",
       "    MaxOrder=1:         Number of desired multipoles\n",
       "    NumIntSteps=10:     Number of integration steps\n",
       "    FringeQuadEntrance: 0: no fringe field effect (default)\n",
       "\n",
       "      1: Lee-Whiting's thin lens limit formula\n",
       "\n",
       "      2: elegant-like\n",
       "    FringeQuadExit:     See ``FringeQuadEntrance``\n",
       "    fringeIntM0:        Integrals for FringeQuad method 2\n",
       "    fringeIntP0:\n",
       "    KickAngle:          Correction deviation angles (H, V)\n",
       "    FieldScaling:       Scaling factor applied to the magnetic field\n",
       "      (*PolynomA* and *PolynomB*)\n",
       "\n",
       "Default PassMethod: ``StrMPoleSymplectic4Pass``\n",
       "\u001b[0;31mFile:\u001b[0m           ~/python/xconverters/lib/python3.11/site-packages/at/lattice/elements.py\n",
       "\u001b[0;31mType:\u001b[0m           ABCMeta\n",
       "\u001b[0;31mSubclasses:\u001b[0m     "
      ]
     },
     "metadata": {},
     "output_type": "display_data"
    }
   ],
   "source": [
    "at.Quadrupole?"
   ]
  },
  {
   "cell_type": "code",
   "execution_count": 2,
   "id": "984804c7-7d9c-4bb6-a47a-ae27275f9b87",
   "metadata": {},
   "outputs": [
    {
     "name": "stdout",
     "output_type": "stream",
     "text": [
      "Quadrupole:\n",
      "\tFamName : QF\n",
      "\tLength : 0.5\n",
      "\tPassMethod : StrMPoleSymplectic4Pass\n",
      "\tNumIntSteps : 10\n",
      "\tMaxOrder : 1\n",
      "\tPolynomA : [0. 0.]\n",
      "\tPolynomB : [0.  1.2]\n",
      "\tK : 1.2\n"
     ]
    }
   ],
   "source": [
    "QF=at.Quadrupole('QF',0.5,1.2)\n",
    "print(QF)"
   ]
  },
  {
   "cell_type": "markdown",
   "id": "2b051642-e0d7-4cc5-9c45-98161820ef36",
   "metadata": {},
   "source": [
    "We note that the family name of this quadrupole is ’QF’ and the pass\n",
    "method is `QuadMPoleFringePass`. The fields following are parameters\n",
    "necessary to be able to pass an electron through this quadrupole (i.e.,\n",
    "the set of arguments required by the pass method). We now create some\n",
    "other elements needed in a FODO lattice:"
   ]
  },
  {
   "cell_type": "code",
   "execution_count": 3,
   "id": "1d9a6245-9c99-4595-9ee0-2e9bde7922dc",
   "metadata": {},
   "outputs": [],
   "source": [
    "Dr = at.Drift('Dr', 0.5)\n",
    "HalfDr = at.Drift('Dr2', 0.25)\n",
    "QD = at.Quadrupole('QD', 0.5, -1.2)\n",
    "Bend = at.Dipole('Bend', 1, 2*pi/40)"
   ]
  },
  {
   "cell_type": "markdown",
   "id": "50afd7d9-3166-456d-9e21-aaf14b05a5ad",
   "metadata": {},
   "source": [
    "In addition to **Quadrupole** that we already saw, we have created a\n",
    "drift (region with no magnetic field), using **Drift**. Besides the\n",
    "family name, the only other needed field is the length. Since we split\n",
    "the cell in the center of the drift, we have also created a half drift\n",
    "element. The drifts are 0.5 meters long and the half drift is 0.25\n",
    "meters long. We have defined a sector dipole, or bend magnet using\n",
    "**Dipole**. The family name is ’Bend’. The second field is the length\n",
    "of the magnet and we have given it a length of 1 meter. Next is the\n",
    "bending angle. We have defined just an arc of a FODO lattice here, so we\n",
    "don’t have to bend by all of $2\\pi$ here. We choose to have 20 total\n",
    "such arcs, for a realistic field strength, and thus we define the\n",
    "bending angle to be $2\\pi/40$ since there are two bends per cell.\n",
    "\n",
    "A cell of a FODO lattice may now be constructed as follows"
   ]
  },
  {
   "cell_type": "code",
   "execution_count": 4,
   "id": "76d58096-cc74-4cc2-86a3-c12a47c4e264",
   "metadata": {},
   "outputs": [
    {
     "name": "stdout",
     "output_type": "stream",
     "text": [
      "Lattice(<9 elements>, name='Simple FODO cell', energy=1000000000.0, particle=Particle('relativistic'), periodicity=20)\n"
     ]
    }
   ],
   "source": [
    "FODOcell = at.Lattice([HalfDr, Bend, Dr, QF, Dr, Bend, Dr, QD, HalfDr],\n",
    "                      name='Simple FODO cell', energy=1E9)\n",
    "print(FODOcell)"
   ]
  },
  {
   "cell_type": "markdown",
   "id": "ba2e2ab2-8b60-49eb-9843-2a120b72a2a8",
   "metadata": {},
   "source": [
    "As mentioned, this cell is only 1/20 of a FODO lattice. The entire\n",
    "lattice may be created by repeating this cell 20 times as follows"
   ]
  },
  {
   "cell_type": "code",
   "execution_count": 5,
   "id": "c3af01de-12c1-4815-84d1-8c8fa4b24f24",
   "metadata": {},
   "outputs": [
    {
     "name": "stdout",
     "output_type": "stream",
     "text": [
      "Lattice(<180 elements>, name='Simple FODO cell', energy=1000000000.0, particle=Particle('relativistic'), periodicity=1)\n"
     ]
    }
   ],
   "source": [
    "FODO = FODOcell*20\n",
    "print(FODO)"
   ]
  },
  {
   "cell_type": "markdown",
   "id": "7d4ade2b-048e-410a-a3bb-e5518c3d1e6b",
   "metadata": {},
   "source": [
    "We have now created a valid AT lattice, using drifts, dipoles, and\n",
    "quadrupoles. We will later add some sextupoles to this lattice, and also\n",
    "an RF cavity, but one could track particles through this lattice, as is.\n",
    "\n",
    "For completeness, we list all of the AT element creation functions:\n",
    "**Aperture**, **Corrector**, **Drift**, **M66**, **Marker**, **Monitor**, **ThinMultipole**, **Multipole**, **Octupole**, **Quadrupole**, **RFcavity**, **Sextupole**, **Wiggler**."
   ]
  },
  {
   "cell_type": "markdown",
   "id": "df03ba27-6e2e-485a-b53e-637cc5f1b681",
   "metadata": {},
   "source": [
    "## Lattice Querying and Manipulation\n",
    "\n",
    "There are many parameters in a storage ring lattice. We need tools to\n",
    "view these parameters and to change them.\n",
    "\n",
    "### Selecting elements\n",
    "We have seen how to concatenate elements to form a lattice. To extract elements, two indexing methods may be used, similar to indexing in numpy arrays:\n",
    "\n",
    "- Integer array indexing: elements are identified by the array of their indices. For instance, the elements at locations 3 and 7 of `FODOcell` may be selected with:"
   ]
  },
  {
   "cell_type": "code",
   "execution_count": 6,
   "id": "e0592064-62c5-443b-875d-3a55b6e3c571",
   "metadata": {},
   "outputs": [
    {
     "data": {
      "text/plain": [
       "[Quadrupole('QF', 0.5, 1.2), Quadrupole('QD', 0.5, -1.2)]"
      ]
     },
     "execution_count": 6,
     "metadata": {},
     "output_type": "execute_result"
    }
   ],
   "source": [
    "list(FODOcell[3, 7])"
   ]
  },
  {
   "cell_type": "markdown",
   "id": "7a916f86-312e-4c33-b443-4c13545d8bfd",
   "metadata": {},
   "source": [
    "- Boolean array indexing; elements are identified by a Boolean array, as long as the Lattice, where selected elements are identified by a True value. The same elements as in the previous example may be selected with:"
   ]
  },
  {
   "cell_type": "code",
   "execution_count": 7,
   "id": "06851248-1a41-43f7-8812-23eef9ec17e7",
   "metadata": {},
   "outputs": [
    {
     "data": {
      "text/plain": [
       "[Quadrupole('QF', 0.5, 1.2), Quadrupole('QD', 0.5, -1.2)]"
      ]
     },
     "execution_count": 7,
     "metadata": {},
     "output_type": "execute_result"
    }
   ],
   "source": [
    "mask=np.zeros(len(FODOcell), dtype=bool)\n",
    "mask[3] = True\n",
    "mask[7] = True\n",
    "list(FODOcell[mask])"
   ]
  },
  {
   "cell_type": "markdown",
   "id": "13e6f5dd-deed-43ce-acf3-2ceb6930cc42",
   "metadata": {},
   "source": [
    "Many AT function have an input argument, usually named 'refpts' using such indexing methods to select the \"points of interest\" in the function output. Please note that:\n",
    "\n",
    "- The corresponding locations in the ring are the **entrances** of the selected ring elements,\n",
    "- as a special case, a value of \"len(ring)\" (normally out-of-range element) is used to indicate the **exit** of the **last** element (think of it as the entrance of the 2nd turn).\n",
    "\n",
    "Such indexes can be generated with the **get_cells** function, which returns a boolean index of elements selected by the value of any of their attributes or by an user-supplied check function:"
   ]
  },
  {
   "cell_type": "code",
   "execution_count": 8,
   "id": "20ac83d8-4c26-485c-9345-6858afb9ffa0",
   "metadata": {},
   "outputs": [
    {
     "name": "stdout",
     "output_type": "stream",
     "text": [
      "[Quadrupole('QF', 0.5, 1.2)]\n",
      "[Quadrupole('QD', 0.5, -1.2)]\n",
      "[Dipole('Bend', 1.0, 0.15707963267948966, 0.0), Dipole('Bend', 1.0, 0.15707963267948966, 0.0)]\n"
     ]
    }
   ],
   "source": [
    "refqf = at.get_cells(FODOcell, 'FamName', 'QF')   # FamName attribute == QF\n",
    "print(list(FODOcell[refqf]))\n",
    "refqd = at.get_cells(FODOcell, 'FamName', 'QD')   # FamName attribute == QD\n",
    "print(list(FODOcell[refqd]))\n",
    "refbends = at.get_cells(FODOcell, 'BendingAngle') # Existing BendingAngle attribute\n",
    "print(list(FODOcell[refbends]))"
   ]
  },
  {
   "cell_type": "markdown",
   "id": "1e8df42f-81cd-43ee-87fa-0c7c9c11af66",
   "metadata": {},
   "source": [
    "Using predefined check functions we can write:"
   ]
  },
  {
   "cell_type": "code",
   "execution_count": 9,
   "id": "7ac61ff1-eaae-4fd7-a27e-287261641927",
   "metadata": {},
   "outputs": [
    {
     "name": "stdout",
     "output_type": "stream",
     "text": [
      "[Quadrupole('QF', 0.5, 1.2), Quadrupole('QD', 0.5, -1.2)]\n",
      "[Quadrupole('QF', 0.5, 1.2), Quadrupole('QD', 0.5, -1.2)]\n"
     ]
    }
   ],
   "source": [
    "refq1 = at.get_cells(FODOcell, at.checktype(at.Quadrupole))   # class == Quadrupole\n",
    "print(list(FODOcell[refq1]))\n",
    "refq2 = at.get_cells(FODOcell, at.checkname('Q[FD]'))         # name matches a pattern\n",
    "print(list(FODOcell[refq2]))"
   ]
  },
  {
   "cell_type": "markdown",
   "id": "19177ab5-c917-48ab-844a-1541879c3a5d",
   "metadata": {},
   "source": [
    "Both methods select the same elements. Since **get_cells** returns numpy boolean arrays, the same result can also be obtained as:"
   ]
  },
  {
   "cell_type": "code",
   "execution_count": 10,
   "id": "c65cee72-6a8a-4f73-9ed1-1b154f6b5941",
   "metadata": {},
   "outputs": [
    {
     "name": "stdout",
     "output_type": "stream",
     "text": [
      "[Quadrupole('QF', 0.5, 1.2), Quadrupole('QD', 0.5, -1.2)]\n"
     ]
    }
   ],
   "source": [
    "print(list(FODOcell[refqf | refqd]))"
   ]
  },
  {
   "cell_type": "markdown",
   "id": "1ac82250-df8e-44c8-96ef-6cea7027dead",
   "metadata": {},
   "source": [
    "### Iterating over selected elements\n",
    "The **select** method of the lattice object returns an iterator over the selected elements:"
   ]
  },
  {
   "cell_type": "code",
   "execution_count": 11,
   "id": "aba272f1-369d-46da-b4ae-e29caf38de0f",
   "metadata": {},
   "outputs": [
    {
     "name": "stdout",
     "output_type": "stream",
     "text": [
      "Quadrupole:\n",
      "\tFamName : QF\n",
      "\tLength : 0.5\n",
      "\tPassMethod : StrMPoleSymplectic4Pass\n",
      "\tNumIntSteps : 10\n",
      "\tMaxOrder : 1\n",
      "\tPolynomA : [0. 0.]\n",
      "\tPolynomB : [0.  1.2]\n",
      "\tK : 1.2\n",
      "Quadrupole:\n",
      "\tFamName : QD\n",
      "\tLength : 0.5\n",
      "\tPassMethod : StrMPoleSymplectic4Pass\n",
      "\tNumIntSteps : 10\n",
      "\tMaxOrder : 1\n",
      "\tPolynomA : [0. 0.]\n",
      "\tPolynomB : [ 0.  -1.2]\n",
      "\tK : -1.2\n"
     ]
    }
   ],
   "source": [
    "for elem in FODOcell.select(refqf | refqd):\n",
    "    print(elem)"
   ]
  },
  {
   "cell_type": "markdown",
   "id": "9a1b6357-2b4e-4f3a-95df-c64e7661c989",
   "metadata": {},
   "source": [
    "### Extracting attribute values\n",
    "Following the previous example, we can get the quadrupole strengths (PolynomB[1]) with:"
   ]
  },
  {
   "cell_type": "code",
   "execution_count": 12,
   "id": "bb90eb83-86d2-49ab-8e25-aef8b18999f5",
   "metadata": {},
   "outputs": [
    {
     "data": {
      "text/plain": [
       "array([ 1.2, -1.2])"
      ]
     },
     "execution_count": 12,
     "metadata": {},
     "output_type": "execute_result"
    }
   ],
   "source": [
    "np.array([elem.PolynomB[1] for elem in FODOcell.select(refqf | refqd)])"
   ]
  },
  {
   "cell_type": "markdown",
   "id": "4cafa135-fd84-42f0-9ed7-84ea1c7fefbe",
   "metadata": {},
   "source": [
    "The same result is provided by the **get_value_refpts** convenience function:"
   ]
  },
  {
   "cell_type": "code",
   "execution_count": 13,
   "id": "c028e62f-d916-4f4d-b5af-d198d53d44c8",
   "metadata": {},
   "outputs": [
    {
     "data": {
      "text/plain": [
       "array([ 1.2, -1.2])"
      ]
     },
     "execution_count": 13,
     "metadata": {},
     "output_type": "execute_result"
    }
   ],
   "source": [
    "at.get_value_refpts(FODOcell, refqf | refqd, 'PolynomB', index=1)"
   ]
  },
  {
   "cell_type": "markdown",
   "id": "ba6f9497-5beb-4885-823f-f17ca2a16139",
   "metadata": {},
   "source": [
    "### Setting attribute values\n",
    "Similarly, using a the Lattice iterator, we can write:"
   ]
  },
  {
   "cell_type": "code",
   "execution_count": 14,
   "id": "96f6a660-022b-44c0-882b-3d6683355c54",
   "metadata": {},
   "outputs": [
    {
     "data": {
      "text/plain": [
       "array([ 1.1, -1.3])"
      ]
     },
     "execution_count": 14,
     "metadata": {},
     "output_type": "execute_result"
    }
   ],
   "source": [
    "new_strengths = [1.1, -1.3]\n",
    "for elem, strength in zip(FODOcell.select(refqf | refqd), new_strengths):\n",
    "    elem.PolynomB[1] = strength\n",
    "# Check the result:\n",
    "np.array([elem.PolynomB[1] for elem in FODOcell.select(refqf | refqd)])"
   ]
  },
  {
   "cell_type": "markdown",
   "id": "f3662e68-3715-4b08-9217-77cb2ab19ce4",
   "metadata": {},
   "source": [
    "Or with the **set_value_refpts** function:"
   ]
  },
  {
   "cell_type": "code",
   "execution_count": 15,
   "id": "1c33c738-9f60-4785-a836-ee06deda35da",
   "metadata": {},
   "outputs": [
    {
     "data": {
      "text/plain": [
       "array([ 1.2, -1.2])"
      ]
     },
     "execution_count": 15,
     "metadata": {},
     "output_type": "execute_result"
    }
   ],
   "source": [
    "initial_strengths = [1.2, -1.2]\n",
    "at.set_value_refpts(FODOcell, refqf | refqd, 'PolynomB', initial_strengths, index=1)\n",
    "# Check the result:\n",
    "at.get_value_refpts(FODOcell, refqf | refqd, 'PolynomB', index=1)"
   ]
  },
  {
   "cell_type": "markdown",
   "id": "82e7ba7c-8890-41dc-9a88-dc49e952a670",
   "metadata": {},
   "source": [
    "## Tracking\n",
    "\n",
    "Once a lattice is defined, electrons may be tracked through it.\n",
    "**lattice_pass** is the function that does the tracking. An example of its\n",
    "use is as follows:"
   ]
  },
  {
   "cell_type": "code",
   "execution_count": 16,
   "id": "0770f39b-94d1-4da8-835b-a074bbf10fad",
   "metadata": {},
   "outputs": [
    {
     "data": {
      "text/plain": [
       "[<matplotlib.lines.Line2D at 0x1298438b0>]"
      ]
     },
     "execution_count": 16,
     "metadata": {},
     "output_type": "execute_result"
    },
    {
     "data": {
      "image/png": "[encoded data removed]",
      "text/plain": [
       "<Figure size 432x288 with 1 Axes>"
      ]
     },
     "metadata": {
      "needs_background": "light"
     },
     "output_type": "display_data"
    }
   ],
   "source": [
    "nturns=200\n",
    "Z01 = np.array([.001, 0, 0, 0, 0, 0])\n",
    "Z02 = np.array([.002, 0, 0, 0, 0, 0])\n",
    "Z03 = np.array([.003, 0, 0, 0, 0, 0])\n",
    "Z1=at.lattice_pass(FODO,Z01,nturns)\n",
    "Z2=at.lattice_pass(FODO,Z02,nturns)\n",
    "Z3=at.lattice_pass(FODO,Z03,nturns)\n",
    "plt.plot(Z1[0, 0, 0, :], Z1[1, 0, 0, :],'.')\n",
    "plt.plot(Z2[0, 0, 0, :], Z2[1, 0, 0, :],'.')\n",
    "plt.plot(Z3[0, 0, 0, :], Z3[1, 0, 0, :],'.')"
   ]
  },
  {
   "cell_type": "markdown",
   "id": "98cdaa66-24bb-41d6-9081-e989f1d52bcb",
   "metadata": {
    "tags": []
   },
   "source": [
    "In this example, we started with one initial condition, and all subsequent turns are returned by **lattice_pass**. We may also start with multiple initial conditions:"
   ]
  },
  {
   "cell_type": "code",
   "execution_count": 17,
   "id": "d45c419c-15b3-406b-8d13-1670effe6be6",
   "metadata": {
    "tags": []
   },
   "outputs": [
    {
     "name": "stdout",
     "output_type": "stream",
     "text": [
      "Z0.shape: (6, 3)\n",
      " Z.shape: (6, 3, 1, 200)\n"
     ]
    }
   ],
   "source": [
    "Z0=np.asfortranarray(np.vstack((Z01,Z02,Z03)).T)\n",
    "print('Z0.shape:', Z0.shape)\n",
    "Z=at.lattice_pass(FODO,Z0,nturns)\n",
    "print(' Z.shape:', Z.shape)"
   ]
  },
  {
   "cell_type": "markdown",
   "id": "0f63075d-dd9b-4086-b662-92a678ec9c6b",
   "metadata": {
    "tags": []
   },
   "source": [
    "Now the same plot can be obtained with:"
   ]
  },
  {
   "cell_type": "code",
   "execution_count": 18,
   "id": "602686a1-c2ad-42c5-83e5-17cabfdb8d72",
   "metadata": {
    "tags": []
   },
   "outputs": [
    {
     "data": {
      "text/plain": [
       "[<matplotlib.lines.Line2D at 0x121e9e910>]"
      ]
     },
     "execution_count": 18,
     "metadata": {},
     "output_type": "execute_result"
    },
    {
     "data": {
      "image/png": "[encoded data removed]",
      "text/plain": [
       "<Figure size 432x288 with 1 Axes>"
      ]
     },
     "metadata": {
      "needs_background": "light"
     },
     "output_type": "display_data"
    }
   ],
   "source": [
    "plt.plot(Z[0, 0, 0, :], Z[1, 0, 0, :],'.')\n",
    "plt.plot(Z[0, 1, 0, :], Z[1, 1, 0, :],'.')\n",
    "plt.plot(Z[0, 2, 0, :], Z[1, 2, 0, :],'.')"
   ]
  },
  {
   "cell_type": "markdown",
   "id": "ed2a6166-e3fd-4e11-aad0-473a1277b8b7",
   "metadata": {
    "tags": []
   },
   "source": [
    "## Computation of beam parameters\n",
    "\n",
    "Now that particles can be tracked through the lattice, we can use the\n",
    "tracking to understand different properties of the lattice. First, we\n",
    "would like to understand the linear properties such as Twiss parameters,\n",
    "tunes, chromaticities, etc. These can all be calculated with the\n",
    "function **get_optics**."
   ]
  },
  {
   "cell_type": "code",
   "execution_count": 19,
   "id": "84840dee-1c84-4b98-bb79-c6b85ca96900",
   "metadata": {
    "tags": []
   },
   "outputs": [],
   "source": [
    "[_, beamdata, _] = at.get_optics(FODO, get_chrom=True)"
   ]
  },
  {
   "cell_type": "markdown",
   "id": "e09dc965-1ea7-4d5f-ba4a-49da969aa8fe",
   "metadata": {
    "tags": []
   },
   "source": [
    "The first argument is the FODO lattice we have created. The second argument says we want to compute the optional chromaticity."
   ]
  },
  {
   "cell_type": "code",
   "execution_count": 20,
   "id": "1b8e9a56-3ea2-4b10-beab-0c20dedcbe06",
   "metadata": {
    "tags": []
   },
   "outputs": [
    {
     "name": "stdout",
     "output_type": "stream",
     "text": [
      "[0.21993568 0.91777806]\n",
      "[-6.3404156  -6.19856968]\n"
     ]
    }
   ],
   "source": [
    "print(beamdata.tune)\n",
    "print(beamdata.chromaticity)"
   ]
  },
  {
   "cell_type": "markdown",
   "id": "59758d91-898f-4864-9bc6-699ce2950fa4",
   "metadata": {
    "tags": []
   },
   "source": [
    "which tells us the tunes are $\\nu_x = 0.2199$ and $\\nu_y = 0.9178$ and\n",
    "the chromaticities are $\\xi_x = -6.34$, $\\xi_y = -6.20$.\n",
    "\n",
    "How did AT calculate these quantities? Without digging into the details of **get_optics**, you could still figure it out, just based on the ability to track with the **lattice_pass** function. In fact, AT computes the one-turn transfer matrix by tracking several initial conditions and interpolating. The one turn transfer matrix (here we focus on 4x4) is computed with the function **find_m44** contained within **get_optics**. Calling this on the FODO lattice, we find"
   ]
  },
  {
   "cell_type": "code",
   "execution_count": 21,
   "id": "983bb992-8e33-45c4-883c-6a99847fd780",
   "metadata": {
    "tags": []
   },
   "outputs": [
    {
     "name": "stdout",
     "output_type": "stream",
     "text": [
      "[[-0.6518562   1.90977797  0.          0.        ]\n",
      " [-0.87430341  1.02741279  0.          0.        ]\n",
      " [ 0.          0.         -0.1807342  -3.24829821]\n",
      " [ 0.          0.          0.41466639  1.91972581]]\n"
     ]
    }
   ],
   "source": [
    "m44, _ = at.find_m44(FODO,0)\n",
    "print(m44)"
   ]
  },
  {
   "cell_type": "markdown",
   "id": "09266969-750c-4700-b305-618bcdb6c55c",
   "metadata": {
    "tags": []
   },
   "source": [
    "The 0 as the second argument tells us to compute with $\\delta=0$. We\n",
    "note that the ring is uncoupled, and computing the eigenvalues of\n",
    "submatrices, we derive the tunes reported in **get_optics** above.\n",
    "\n",
    "Computing the tunes with varying $\\delta$ allows the computation\n",
    "of the chromaticity.\n",
    "\n",
    "Now, suppose we would like to change the tunes in our FODO lattice. We\n",
    "know that we should change the quadrupole strengths, but we may not know\n",
    "exactly what values to use.\n",
    "\n",
    "Here we reach the question of tuning. How do we set the parameters for\n",
    "these quadrupoles in order to correct the tunes? In principle we have\n",
    "the tools that we need. We can set the values of the quadrupoles using\n",
    "the function **set_value_refpts** and then recompute the chromaticity with\n",
    "**get_optics**. But we still don’t know what values to actually give the\n",
    "quadrupoles. One could compute the value, or instead use an optimization\n",
    "routine to vary the values until the correct output tunes are achieved.\n",
    "This is the approach followed with the function **fit_tune**.\n",
    "\n",
    "This allows you to vary quadrupole strengths until the desired tune\n",
    "values are reached. It is used as follows:\n",
    "\n",
    "First, we need to select two variable quadrupoles. As FODO has been built, the same quadrupole QF is used in each cell, so varying its strength will affect all cells. We just need to select the 1st one in the ring:"
   ]
  },
  {
   "cell_type": "code",
   "execution_count": 22,
   "id": "37ed8f52-210d-411a-9c05-5d123fa1b0ba",
   "metadata": {
    "tags": []
   },
   "outputs": [],
   "source": [
    "refqf = at.get_cells(FODO, at.checkname('QF')) # Select all QFs\n",
    "refqf1 = np.flatnonzero(refqf)[0]              # Get the 1st one\n",
    "refqd = at.get_cells(FODO, at.checkname('QD')) # Select all QDs\n",
    "refqd1 = np.flatnonzero(refqd)[0]              # Get the 1st one"
   ]
  },
  {
   "cell_type": "markdown",
   "id": "65ea2750-80fc-417f-9b38-f4930fdf5bbb",
   "metadata": {},
   "source": [
    "Then we can call the fitting function to set the tunes to $\\nu_x = 0.15$ and $\\nu_y = 0.75$ using the quadrupoles QF and QD."
   ]
  },
  {
   "cell_type": "code",
   "execution_count": 23,
   "id": "750af30e-9232-4461-bbb3-38fbf896b656",
   "metadata": {
    "tags": []
   },
   "outputs": [
    {
     "name": "stdout",
     "output_type": "stream",
     "text": [
      "\n",
      "Fitting Tune...\n",
      "Initial value [0.21993568 0.91777806]\n",
      "iter# 0 Res. 1.855491062674763e-06\n",
      "iter# 1 Res. 7.129086834236557e-10\n",
      "iter# 2 Res. 2.66800409160274e-13\n",
      "Final value [0.1500004  0.75000033] \n",
      "\n"
     ]
    }
   ],
   "source": [
    "at.fit_tune(FODO, refqf, refqd, [0.15, 0.75])"
   ]
  },
  {
   "cell_type": "markdown",
   "id": "4524f884-0893-46e4-9d95-bf76e0e93760",
   "metadata": {
    "tags": []
   },
   "source": [
    "Let's check the result:"
   ]
  },
  {
   "cell_type": "code",
   "execution_count": 24,
   "id": "7c32d181-5c19-4d10-b064-99790b7d6f47",
   "metadata": {
    "tags": []
   },
   "outputs": [
    {
     "data": {
      "text/plain": [
       "array([0.1500004 , 0.75000033])"
      ]
     },
     "execution_count": 24,
     "metadata": {},
     "output_type": "execute_result"
    }
   ],
   "source": [
    "[_, beamdata, _]=at.get_optics(FODO)\n",
    "beamdata.tune"
   ]
  },
  {
   "cell_type": "markdown",
   "id": "6abe86b3-8cb5-4212-8d73-ea5a7a2c26ee",
   "metadata": {
    "tags": []
   },
   "source": [
    "Giving satisfactory results for the tunes.\n",
    "\n",
    "Now, in case you have some experience with storage ring dynamics, you\n",
    "will know that these negative chromaticity values will lead to\n",
    "instability and thus our FODO lattice, as is, is not acceptable. To fix\n",
    "this problem, we add sextupoles to our lattice. We define a focusing and\n",
    "defocussing sextupoles (0.1 meter long) as follows:"
   ]
  },
  {
   "cell_type": "code",
   "execution_count": 25,
   "id": "afbb840f-c814-47dd-bce7-e28b101f5888",
   "metadata": {
    "tags": []
   },
   "outputs": [],
   "source": [
    "SF = at.Sextupole('SF', 0.1, 0)\n",
    "SD = at.Sextupole('SD', 0.1, 0)\n",
    "drs = at.Drift('DRS', 0.2)"
   ]
  },
  {
   "cell_type": "markdown",
   "id": "1f9013f4-f215-4d40-95c1-3193721344b6",
   "metadata": {
    "tags": []
   },
   "source": [
    "Now we want to add these to the lattice at locations where they will be\n",
    "effective. We will put them in the middle of the 0.5 meter drift\n",
    "sections: SF before the QF and SD before the QD. Let's locate the drifts:"
   ]
  },
  {
   "cell_type": "code",
   "execution_count": 26,
   "id": "60c76c81-f886-48e9-a09d-894b8a42ac2c",
   "metadata": {
    "tags": []
   },
   "outputs": [
    {
     "data": {
      "text/plain": [
       "(array([2, 4, 6]),)"
      ]
     },
     "execution_count": 26,
     "metadata": {},
     "output_type": "execute_result"
    }
   ],
   "source": [
    "np.nonzero(at.get_cells(FODOcell, at.checkname(\"Dr\")))"
   ]
  },
  {
   "cell_type": "markdown",
   "id": "d94cb968-c5ba-485a-8df9-f461acad1654",
   "metadata": {
    "tags": []
   },
   "source": [
    "We will insert SF in the middle of element 2 and SD in the middle of element 6. Since the Lattice object is derived from the python `list`, we can use all the `list` methods to do this. For instance:"
   ]
  },
  {
   "cell_type": "code",
   "execution_count": 27,
   "id": "fc38823d-540d-4449-94ee-85da322dbfc1",
   "metadata": {
    "tags": []
   },
   "outputs": [
    {
     "name": "stdout",
     "output_type": "stream",
     "text": [
      "Lattice(<260 elements>, name='Simple FODO cell', energy=1000000000.0, particle=Particle('relativistic'), periodicity=1)\n"
     ]
    }
   ],
   "source": [
    "FODOcellSext = FODOcell.copy()\n",
    "FODOcellSext[6:7] = [drs,SD,drs]\n",
    "FODOcellSext[2:3] = [drs,SF,drs]\n",
    "FODOSext = FODOcellSext*20\n",
    "print(FODOSext)"
   ]
  },
  {
   "cell_type": "code",
   "execution_count": 28,
   "id": "ae23e782-e955-49c9-99fb-56b3b63b7a76",
   "metadata": {
    "tags": []
   },
   "outputs": [
    {
     "name": "stdout",
     "output_type": "stream",
     "text": [
      "[0.1500004  0.75000033]\n",
      "[-6.14477442 -5.93149994]\n"
     ]
    }
   ],
   "source": [
    "[_, beamdata, _] = at.get_optics(FODOSext, get_chrom=True)\n",
    "print(beamdata.tune)\n",
    "print(beamdata.chromaticity)"
   ]
  },
  {
   "cell_type": "markdown",
   "id": "7713ec26-470e-4684-a2a1-dc1b1a491dee",
   "metadata": {
    "tags": []
   },
   "source": [
    "The tunes of FODOSext are identical to the ones of FODO. Now we need to tune the sextupoles. For this, we will use the function **fit_chrom**. This function works analogously to **fit_tune** except the sextupoles are varied instead of the quadrupoles. Let's locate the first sextupoles:"
   ]
  },
  {
   "cell_type": "code",
   "execution_count": 29,
   "id": "fcf761fb-68e9-46bb-994f-05a3b7706fb0",
   "metadata": {},
   "outputs": [],
   "source": [
    "refsext = at.get_cells(FODOSext, at.checktype(at.Sextupole)) # Select all sextpoles\n",
    "refsf,refsd = np.flatnonzero(refsext)[:2]                    # Take the 1st ones"
   ]
  },
  {
   "cell_type": "code",
   "execution_count": 30,
   "id": "f376f049-f992-44fb-bf81-57f735fcd5f9",
   "metadata": {
    "tags": []
   },
   "outputs": [
    {
     "name": "stdout",
     "output_type": "stream",
     "text": [
      "\n",
      "Fitting Chromaticity...\n",
      "Initial value [-6.14477442 -5.93149994]\n",
      "iter# 0 Res. 7.49072769210859e-06\n",
      "iter# 1 Res. 2.221474425226936e-13\n",
      "Final value [0.49999953 0.50000002] \n",
      "\n"
     ]
    }
   ],
   "source": [
    "at.fit_chrom(FODOSext, refsf, refsd, [0.5, 0.5])"
   ]
  },
  {
   "cell_type": "markdown",
   "id": "32c650b1-6c4a-4de1-a245-da3439a67daa",
   "metadata": {
    "tags": []
   },
   "source": [
    "After changing the tunes and fixing the chromaticities, we find:"
   ]
  },
  {
   "cell_type": "code",
   "execution_count": 31,
   "id": "5625808c-635d-4882-9094-2068ea37f24b",
   "metadata": {
    "tags": []
   },
   "outputs": [
    {
     "name": "stdout",
     "output_type": "stream",
     "text": [
      "[0.1500004  0.75000033]\n",
      "[0.49999953 0.50000002]\n"
     ]
    }
   ],
   "source": [
    "[_, beamdata, _] = at.get_optics(FODOSext, get_chrom=True)\n",
    "print(beamdata.tune)\n",
    "print(beamdata.chromaticity)"
   ]
  },
  {
   "cell_type": "markdown",
   "id": "631418ff-52f7-4903-9669-3e0d27edfc21",
   "metadata": {
    "tags": []
   },
   "source": [
    "You may have noticed that we ignored two outputs of **get_optics**. They contains linear optics parameters that vary around the ring. These are the Twiss parameters, dispersions, phase advance, and coupling parameters. **elemdata0** is their values at the entrance of the ring, **elemdata** is the values at the selected points of interest. To compute them at all lattice elements, we call:"
   ]
  },
  {
   "cell_type": "code",
   "execution_count": 32,
   "id": "cb590151-2f62-4ae0-94bd-ee714b3e3277",
   "metadata": {
    "tags": []
   },
   "outputs": [],
   "source": [
    "[elemdata0, beamdata, elemdata] = at.get_optics(FODOcellSext, range(len(FODOcellSext)+1))"
   ]
  },
  {
   "cell_type": "markdown",
   "id": "e84ab3b8-0c93-4c0e-83f9-1212a002f177",
   "metadata": {},
   "source": [
    "Examining **elemdata**, we find:"
   ]
  },
  {
   "cell_type": "code",
   "execution_count": 33,
   "id": "b89b5824-c75b-4dca-ba1c-c6b6e64fe08f",
   "metadata": {
    "tags": []
   },
   "outputs": [
    {
     "name": "stdout",
     "output_type": "stream",
     "text": [
      "elemdata.shape: (14,)\n",
      "elemdata.fields:\n",
      "alpha\n",
      "beta\n",
      "mu\n",
      "R\n",
      "A\n",
      "dispersion\n",
      "closed_orbit\n",
      "M\n",
      "s_pos\n"
     ]
    }
   ],
   "source": [
    "print('elemdata.shape:', elemdata.shape)\n",
    "print('elemdata.fields:')\n",
    "for fld in elemdata.dtype.fields.keys():\n",
    "    print(fld)"
   ]
  },
  {
   "cell_type": "markdown",
   "id": "25c638ad-ab79-4703-b210-08cf9f444bb2",
   "metadata": {
    "tags": []
   },
   "source": [
    "- ’s_pos’ is the set of $s$ positions,\n",
    "- ’closed_orbit’ is the $x,x',y,y'$ coordinate vector of the closed orbit,\n",
    "- ’dispersion’ is the $\\eta_x,\\eta'_x,\\eta_y,\\eta'_y$ coordinate vector of dispersion,\n",
    "- ’M’ is the local $4\\times 4$ transfer matrix,\n",
    "- ’beta’ gives the horizontal and vertical $\\beta$ functions,\n",
    "- ’alpha’ gives the Twiss parameters $\\alpha_{x,y}$,\n",
    "- ’mu’ gives the phase advances (times $2\\pi$).\n",
    "\n",
    "Let us use these results to plot the beta functions around the ring."
   ]
  },
  {
   "cell_type": "code",
   "execution_count": 34,
   "id": "b971df9a-a432-4964-a49e-4eb9c76bcb6b",
   "metadata": {
    "tags": []
   },
   "outputs": [
    {
     "data": {
      "image/png": "[encoded data removed]",
      "text/plain": [
       "<Figure size 432x288 with 1 Axes>"
      ]
     },
     "metadata": {
      "needs_background": "light"
     },
     "output_type": "display_data"
    }
   ],
   "source": [
    "plt.plot(elemdata.s_pos, elemdata.beta)\n",
    "plt.xlabel('s [m]')\n",
    "plt.ylabel(r'$\\beta$ [m]');"
   ]
  },
  {
   "cell_type": "markdown",
   "id": "3e85f1f2-ead8-4dad-859a-072f293872f4",
   "metadata": {
    "tags": []
   },
   "source": [
    "We may also plot the lattice parameters using a dedicated plot function\n",
    "with the command:"
   ]
  },
  {
   "cell_type": "code",
   "execution_count": 35,
   "id": "0d9e2123-0f65-4f63-97eb-1b2c54159ac3",
   "metadata": {
    "tags": []
   },
   "outputs": [
    {
     "data": {
      "image/png": "[encoded data removed]",
      "text/plain": [
       "<Figure size 432x288 with 3 Axes>"
      ]
     },
     "metadata": {
      "needs_background": "light"
     },
     "output_type": "display_data"
    }
   ],
   "source": [
    "FODOcellSext.plot_beta();"
   ]
  },
  {
   "cell_type": "markdown",
   "id": "1a70acd7-2088-46f9-8280-9356bfce0a0e",
   "metadata": {
    "tags": []
   },
   "source": [
    "Note that the magnets are displayed below the function, giving a convenient visualization. Also note that the lattice functions are smoother than those we saw before. They have been computed at more positions, by slicing the magnets in the **plot_beta** function.\n"
   ]
  },
  {
   "cell_type": "markdown",
   "id": "8c230ec6-3b65-4e67-9d0c-2912ba89694f",
   "metadata": {
    "tags": []
   },
   "source": [
    "## Beam sizes\n",
    "\n",
    "The parameters computed thus far use only the tracking through the\n",
    "lattice, with no radiation effects. In reality, for electrons, we know\n",
    "that there are radiation effects which cause a damping and diffusion and\n",
    "determine equilibrium emittances and beam sizes. This is computed in AT\n",
    "by the **ohmi_envelope** function using the Ohmi envelope formalism.\n",
    "\n",
    "In order to use **ohmi_envelope**, we first need to make sure the beam is stable\n",
    "longitudinally as well, requiring us to add an RF cavity to our FODO\n",
    "lattice. Let's add an inactive cavity with the command"
   ]
  },
  {
   "cell_type": "code",
   "execution_count": 36,
   "id": "c82535ac-a59f-4147-bf52-2b074a5b22b0",
   "metadata": {
    "tags": []
   },
   "outputs": [],
   "source": [
    "RFC = at.RFCavity('RFC', 0.0, 0.0, 0.0, 1, 1.0E9, PassMethod='IdentityPass')\n",
    "FODOSext.insert(0, RFC)\n",
    "FODOSext.harmonic_number=100"
   ]
  },
  {
   "cell_type": "markdown",
   "id": "c350a245-eca5-4167-a717-f2682be33088",
   "metadata": {},
   "source": [
    "Now, we need to set the values of the RF cavity. This can be done with\n",
    "the function **set_cavity** as follows"
   ]
  },
  {
   "cell_type": "code",
   "execution_count": 37,
   "id": "1b598840-46ed-4b21-8012-61bc72e499b3",
   "metadata": {
    "tags": []
   },
   "outputs": [
    {
     "name": "stdout",
     "output_type": "stream",
     "text": [
      "RFCavity:\n",
      "\tFamName : RFC\n",
      "\tLength : 0.0\n",
      "\tPassMethod : IdentityPass\n",
      "\tVoltage : 500000.0\n",
      "\tFrequency : 299792457.9999997\n",
      "\tHarmNumber : 1\n",
      "\tEnergy : 1000000000.0\n",
      "\tTimeLag : 0.0\n"
     ]
    }
   ],
   "source": [
    "FODOSext.set_cavity(Voltage=0.5E6, Frequency=at.Frf.NOMINAL)\n",
    "print(RFC)"
   ]
  },
  {
   "cell_type": "markdown",
   "id": "07b491e6-4a62-4838-a418-f7b89c854c34",
   "metadata": {},
   "source": [
    "which says that the each of the 20 RF cavities has a voltage of 25 kV.\n",
    "\n",
    "**radiation_parameters** gives a summary of the lattice properties, using the classical radiation integrals:"
   ]
  },
  {
   "cell_type": "code",
   "execution_count": 38,
   "id": "1b6e0f59-582c-4e7f-a398-27a5ef7413f9",
   "metadata": {
    "tags": []
   },
   "outputs": [
    {
     "name": "stdout",
     "output_type": "stream",
     "text": [
      "              Frac. tunes: [0.1500004  0.75000033 0.01845048]\n",
      "                    Tunes: [5.1500004  4.75000033]\n",
      "           Chromaticities: [0.49999953 0.50000002]\n",
      " Momentum compact. factor: 4.279525e-02\n",
      "              Slip factor: -4.279499e-02\n",
      "                   Energy: 1.000000e+09 eV\n",
      "       Energy loss / turn: 1.389569e+04 eV\n",
      " Radiation integrals - I1: 4.279525335274485 m\n",
      "                       I2: 0.9869604401089351 m^-1\n",
      "                       I3: 0.15503138340149902 m^-2\n",
      "                       I4: 0.10559305520899614 m^-1\n",
      "                       I5: 0.020912844843729298 m^-1\n",
      "          Mode emittances: [3.48204731e-08            nan            nan]\n",
      "Damping partition numbers: [0.89301187 1.         2.10698813]\n",
      "            Damping times: [0.05376156 0.04800971 0.02278594] s\n",
      "            Energy spread: 0.000330764\n",
      "             Bunch length: 0.0122102 m\n",
      "         Cavities voltage: 500000.0 V\n",
      "        Synchrotron phase: 3.1138 rd\n",
      "    Synchrotron frequency: 55313.1 Hz\n"
     ]
    }
   ],
   "source": [
    "print(at.radiation_parameters(FODOSext))"
   ]
  },
  {
   "cell_type": "markdown",
   "id": "a00605e4-e3be-4d0d-9c38-f2dd47ca9fab",
   "metadata": {
    "tags": []
   },
   "source": [
    "We may now turn radiation ON and call the function **ohmi_envelope** as follows"
   ]
  },
  {
   "cell_type": "code",
   "execution_count": 39,
   "id": "1cc75bf1-851d-487f-a470-f6858cf5627c",
   "metadata": {
    "tags": []
   },
   "outputs": [
    {
     "name": "stdout",
     "output_type": "stream",
     "text": [
      "beamdata.fields:\n",
      "tunes\n",
      "damping_rates\n",
      "mode_matrices\n",
      "mode_emittances\n"
     ]
    }
   ],
   "source": [
    "FODOSext.radiation_on()\n",
    "_, beamdata, _ = at.ohmi_envelope(FODOSext)\n",
    "print('beamdata.fields:')\n",
    "for fld in beamdata.dtype.fields.keys():\n",
    "    print(fld)"
   ]
  },
  {
   "cell_type": "markdown",
   "id": "1ab4896f-4515-41b9-90be-f73faf188c7f",
   "metadata": {},
   "source": [
    "- ’tunes’ gives the 3 tunes of the 6D motion;\n",
    "- ’damping_rates’,\n",
    "- ’mode_matrices’ are the sigma matrices of the 3 independent motions\n",
    "- ’mode_emittances’ are the 3 modal emittances.\n",
    "\n",
    "An easy way to summarize these results is provided by the **envelope_parameters** function:"
   ]
  },
  {
   "cell_type": "code",
   "execution_count": 40,
   "id": "bf3e26cb-c813-4bc3-990a-924c3c1a591a",
   "metadata": {},
   "outputs": [
    {
     "name": "stdout",
     "output_type": "stream",
     "text": [
      "  Frac. tunes (6D motion): [0.14995922 0.75000148 0.0184657 ]\n",
      "                   Energy: 1.000000e+09 eV\n",
      "       Energy loss / turn: 1.389569e+04 eV\n",
      "          Mode emittances: [3.47973047e-08 6.71489487e-37 4.03132669e-06]\n",
      "Damping partition numbers: [0.89298373 0.99999977 2.1070165 ]\n",
      "            Damping times: [0.05376455 0.04801088 0.02278618] s\n",
      "            Energy spread: 0.000330959\n",
      "             Bunch length: 0.0122209 m\n",
      "         Cavities voltage: 500000.0 V\n",
      "        Synchrotron phase: 3.1138 rd\n",
      "    Synchrotron frequency: 55358.8 Hz\n"
     ]
    }
   ],
   "source": [
    "print(at.envelope_parameters(FODOSext))"
   ]
  },
  {
   "cell_type": "markdown",
   "id": "a3b6a17d-421f-4f13-a69e-d8cc23125289",
   "metadata": {
    "tags": []
   },
   "source": [
    "We see that our FODO lattice has an emittance of 34.80 nm, an energy\n",
    "spread of $3.3\\times 10^{-4}$ and a bunch length of 12.2 mm."
   ]
  },
  {
   "cell_type": "markdown",
   "id": "c632890f-cd8c-4e03-bcbf-ad53391585d4",
   "metadata": {
    "tags": []
   },
   "source": [
    "## Bibliography\n",
    "[1](https://www.slac.stanford.edu/pubs/slacpubs/8500/slac-pub-8732.pdf) A. Terebilo *Accelerator Toolbox for Matlab*, SLAC-PUB 8732 (May 2001)\n",
    "\n",
    "[2](https://inspirehep.net/files/298dd81ab9ce89bfb2a42442b46b0379) A. Terebilo, *Accelerator Modelling with Matlab Accelerator Toolbox*, PAC 2001 Proceedings\n",
    "\n",
    "[3](https://inspirehep.net/files/8507fec63dc914e41a782b13b831c64e) B. Nash *et al.*, *New Functionality for Beam Dynamics in Accelerator Toolbox*, IPAC 2015\n",
    "\n",
    "[4](https://journals.aps.org/prab/pdf/10.1103/PhysRevSTAB.2.074001) D. Sagan, D. Rubin, *Linear Analysis of Coupled Lattices*, Phys. Rev. Special Topics - Accelerators\n",
    "and Beams, Vol 2,(1999)"
   ]
  }
 ],
 "metadata": {
  "kernelspec": {
   "display_name": "Python 3 (ipykernel)",
   "language": "python",
   "name": "python3"
  },
  "language_info": {
   "codemirror_mode": {
    "name": "ipython",
    "version": 3
   },
   "file_extension": ".py",
   "mimetype": "text/x-python",
   "name": "python",
   "nbconvert_exporter": "python",
   "pygments_lexer": "ipython3",
   "version": "3.11.10"
  },
  "toc-autonumbering": false,
  "toc-showcode": false,
  "toc-showmarkdowntxt": false
 },
 "nbformat": 4,
 "nbformat_minor": 5
}
