{
 "cells": [
  {
   "cell_type": "markdown",
   "id": "b3c94f57-7a41-4600-af2b-b2a0034ffe31",
   "metadata": {
    "editable": true,
    "slideshow": {
     "slide_type": ""
    },
    "tags": []
   },
   "source": [
    "# Observables\n",
    "\n",
    "Observables provide a unified way to access a large quantity of figures resulting from various\n",
    "computations on lattices. They may be used in parameter scans, matching, response matrices…\n",
    "\n",
    "Observables values may be scalars or numpy arrays of any shape.\n",
    "\n",
    "AT provides a number of specific observables sharing a common interface, inherited from the\n",
    "{py:class}`.Observable` base class. They are:\n",
    "- {py:class}`.RingObservable`: Any user-defined property depending upon *ring*\n",
    "- {py:class}`.ElementObservable`: Any user-defined property at a specific location along the lattice\n",
    "- {py:class}`.OrbitObservable`: {math}`x_{co}`…,\n",
    "- {py:obj}`.GlobalOpticsObservable`: tunes, damping times…,\n",
    "- {py:class}`.LocalOpticsObservable`: {math}`\\beta`, {math}`\\eta`…,\n",
    "- {py:class}`.MatrixObservable`: {math}`T_{ij}`…,\n",
    "- {py:class}`.TrajectoryObservable`: {math}`x, p_x`…,\n",
    "- {py:class}`.EmittanceObservable`: {math}`\\epsilon_x`…,\n",
    "- {py:class}`.LatticeObservable`: attributes of lattice elements,\n",
    "- {py:class}`.GeometryObservable`\n",
    "\n",
    "An Observable has optional {py:attr}`~.Observable.target`, {py:attr}`~.Observable.weight` and {py:attr}`~.Observable.bounds` attributes for matching. After evaluation, it has the following main properties:\n",
    "- {py:attr}`~.Observable.value`\n",
    "- {py:attr}`~.Observable.weighted_value`: `value / weight`\n",
    "- {py:attr}`~.Observable.deviation`:  `value - target`\n",
    "- {py:attr}`~.Observable.weighted_deviation`:  `(value - target)/weight`\n",
    "- {py:attr}`~.Observable.residual`:  `((value - target)/weight)**2`\n",
    "\n",
    "Custom Observables may be created by providing the adequate evaluation function.\n",
    "\n",
    "For evaluation, observables must be grouped in an {py:class}`.ObservableList` which optimises the computation, avoiding redundant function calls. {py:class}`.ObservableList` provides the {py:meth}`~.ObservableList.evaluate` method, and the\n",
    "{py:attr}`~.ObservableList.values`, {py:attr}`~.ObservableList.deviations`,\n",
    "{py:attr}`~.ObservableList.residuals` and {py:attr}`~.ObservableList.sum_residuals` properties, among others.\n",
    "\n",
    "This example shows how to declare various Observables, how to evaluate them and how to extract and display their values.\n",
    "\n",
    "## Setup the environment"
   ]
  },
  {
   "cell_type": "code",
   "execution_count": 1,
   "id": "c44ec0ec-f0c7-476b-8de5-ac1d8b174dc0",
   "metadata": {
    "editable": true,
    "slideshow": {
     "slide_type": ""
    },
    "tags": []
   },
   "outputs": [],
   "source": [
    "import at\n",
    "import sys\n",
    "import numpy as np\n",
    "from importlib.resources import files, as_file"
   ]
  },
  {
   "cell_type": "code",
   "execution_count": 2,
   "id": "6e2a6c6c-7460-45f6-a217-e5a07f7afb8d",
   "metadata": {
    "tags": []
   },
   "outputs": [],
   "source": [
    "from at import (\n",
    "    Observable,\n",
    "    ObservableList,\n",
    "    RingObservable,\n",
    "    OrbitObservable,\n",
    "    GlobalOpticsObservable,\n",
    "    LocalOpticsObservable,\n",
    "    MatrixObservable,\n",
    "    TrajectoryObservable,\n",
    "    EmittanceObservable,\n",
    "    LatticeObservable,\n",
    "    GeometryObservable,\n",
    "    Need,\n",
    ")"
   ]
  },
  {
   "cell_type": "markdown",
   "id": "19a61c12-f62e-4114-9d87-1b3d19233991",
   "metadata": {
    "editable": true,
    "slideshow": {
     "slide_type": ""
    },
    "tags": []
   },
   "source": [
    "## Load a test lattice"
   ]
  },
  {
   "cell_type": "code",
   "execution_count": 3,
   "id": "8bccc37e-3070-4b62-bdda-4da603b48a34",
   "metadata": {
    "editable": true,
    "slideshow": {
     "slide_type": ""
    },
    "tags": []
   },
   "outputs": [],
   "source": [
    "fname = \"hmba.mat\"\n",
    "with as_file(files(\"machine_data\") / fname) as path:\n",
    "    hmba_lattice = at.load_lattice(path)"
   ]
  },
  {
   "cell_type": "markdown",
   "id": "3dedb508-981a-4c25-9dc0-5c0b2b25a561",
   "metadata": {},
   "source": [
    "## Create Observables\n",
    "\n",
    "Create an empty ObservableList:"
   ]
  },
  {
   "cell_type": "code",
   "execution_count": 4,
   "id": "b6b6d2e5-842a-400d-87ff-d34b131921d1",
   "metadata": {
    "tags": []
   },
   "outputs": [],
   "source": [
    "obs1 = ObservableList()"
   ]
  },
  {
   "cell_type": "markdown",
   "id": "7fe3c40f-8eb2-4fbb-96d7-e20bf1424f63",
   "metadata": {},
   "source": [
    "Horizontal closed orbit on all Monitors:"
   ]
  },
  {
   "cell_type": "code",
   "execution_count": 5,
   "id": "99e48ce2-1336-4617-9114-cd15e9a3966d",
   "metadata": {
    "tags": []
   },
   "outputs": [],
   "source": [
    "obs1.append(OrbitObservable(at.Monitor, axis=\"x\"))"
   ]
  },
  {
   "cell_type": "markdown",
   "id": "c29bc37a-8d3a-4330-b6c2-94408255e7c2",
   "metadata": {},
   "source": [
    "Create a 2{sup}`nd` ObservableList:"
   ]
  },
  {
   "cell_type": "code",
   "execution_count": 6,
   "id": "559a78af-bb1f-4555-99f7-be0cd55f75d4",
   "metadata": {
    "tags": []
   },
   "outputs": [],
   "source": [
    "obs2 = ObservableList()"
   ]
  },
  {
   "cell_type": "markdown",
   "id": "d1216c95-a8e8-4ae5-b61e-b18fe0582d22",
   "metadata": {},
   "source": [
    "Vertical $\\beta$ at all monitors, with a target and bounds.\n",
    "\n",
    "The vertical $\\beta$ is constrained in the interval\n",
    "[*target*+*low_bound* *target*+*up_bound*], so here [*-Infinity 7.0*]\n",
    "\n",
    "The residual will be zero within the interval."
   ]
  },
  {
   "cell_type": "code",
   "execution_count": 7,
   "id": "2c237c62-3b4f-4864-bea3-93325a8a7fce",
   "metadata": {
    "tags": []
   },
   "outputs": [],
   "source": [
    "obs2.append(\n",
    "    LocalOpticsObservable(\n",
    "        at.Monitor, \"beta\", plane=1, target=7.0, bounds=(-np.inf, 0.0)\n",
    "    )\n",
    ")"
   ]
  },
  {
   "cell_type": "markdown",
   "id": "900683b5-6c61-427c-901d-edb22390738f",
   "metadata": {
    "tags": []
   },
   "source": [
    "check the concatenation of ObservableLists:"
   ]
  },
  {
   "cell_type": "code",
   "execution_count": 8,
   "id": "99f87e5c-c004-423f-af52-7b77ff1f745d",
   "metadata": {
    "tags": []
   },
   "outputs": [],
   "source": [
    "allobs = obs1 + obs2"
   ]
  },
  {
   "cell_type": "markdown",
   "id": "7cee0839-8b64-4c65-bb85-869062ad168a",
   "metadata": {},
   "source": [
    "Full transfer matrix to `BPM02`:"
   ]
  },
  {
   "cell_type": "code",
   "execution_count": 9,
   "id": "828dd898-810e-4653-b717-fe955bed6bab",
   "metadata": {},
   "outputs": [],
   "source": [
    "allobs.append(MatrixObservable(\"BPM_02\"))"
   ]
  },
  {
   "cell_type": "markdown",
   "id": "32e2c4af-dd58-4c67-a767-a585bf110fa1",
   "metadata": {},
   "source": [
    "Maximum of vertical beta on monitors:"
   ]
  },
  {
   "cell_type": "code",
   "execution_count": 10,
   "id": "7c763bd9-0299-47e0-9979-fae6ae230979",
   "metadata": {
    "editable": true,
    "slideshow": {
     "slide_type": ""
    },
    "tags": []
   },
   "outputs": [],
   "source": [
    "allobs.append(LocalOpticsObservable(at.Monitor, \"beta\", plane=\"v\", statfun=np.amax))"
   ]
  },
  {
   "cell_type": "markdown",
   "id": "8907cbd5-05d4-4775-a089-9f062b271394",
   "metadata": {},
   "source": [
    "First 4 coordinates of the closed orbit at Quadrupoles:"
   ]
  },
  {
   "cell_type": "code",
   "execution_count": 11,
   "id": "d9ddeb7c-ea88-4d09-8333-753ad4e0d8e4",
   "metadata": {},
   "outputs": [],
   "source": [
    "allobs.append(\n",
    "    LocalOpticsObservable(\n",
    "        at.Quadrupole, \"closed_orbit\", plane=slice(4), target=0.0, weight=1.0e-6\n",
    "    )\n",
    ")"
   ]
  },
  {
   "cell_type": "markdown",
   "id": "5b3f80a0-f7ea-48c4-bafb-03e89c04e4e0",
   "metadata": {},
   "source": [
    "Position along the lattice of all quadrupoles:"
   ]
  },
  {
   "cell_type": "code",
   "execution_count": 12,
   "id": "7b3e32e8-5fd6-4d42-a92f-1691bdc330cf",
   "metadata": {
    "editable": true,
    "slideshow": {
     "slide_type": ""
    },
    "tags": []
   },
   "outputs": [],
   "source": [
    "allobs.append(LocalOpticsObservable(at.Quadrupole, \"s_pos\"))"
   ]
  },
  {
   "cell_type": "markdown",
   "id": "c630e18c-8e32-499a-b45a-d19f76b441fe",
   "metadata": {},
   "source": [
    "Phase advance between elements 33 and 101 in all planes:\n",
    "\n",
    "First, let's define a custom evaluation function:"
   ]
  },
  {
   "cell_type": "code",
   "execution_count": 13,
   "id": "e9c41097-7d89-4f3f-85cd-aff7aa9a84df",
   "metadata": {},
   "outputs": [],
   "source": [
    "def phase_advance(elemdata):\n",
    "    mu = elemdata.mu\n",
    "    return mu[-1] - mu[0]"
   ]
  },
  {
   "cell_type": "markdown",
   "id": "a19eca9f-fa1f-4a5f-8558-d7d19b58042b",
   "metadata": {},
   "source": [
    "Then create the Observable. The evaluation function should return one value per refpoint (2 here). Alternatively,\n",
    "it may return a single value (the difference, here), but then one must set `summary=True`. `all_points` is set to `True` to force the evaluation of the phase advance at all points, to avoid phase jumps."
   ]
  },
  {
   "cell_type": "code",
   "execution_count": 14,
   "id": "185b505f-1bea-4c72-baee-3a24d1a5bb8d",
   "metadata": {},
   "outputs": [],
   "source": [
    "allobs.append(\n",
    "    LocalOpticsObservable([33, 101], phase_advance, all_points=True, summary=True)\n",
    ")"
   ]
  },
  {
   "cell_type": "markdown",
   "id": "2f2a5e1a-f45d-4e6d-a27b-5565d784da44",
   "metadata": {},
   "source": [
    "Horizontal tune with the integer part:"
   ]
  },
  {
   "cell_type": "code",
   "execution_count": 15,
   "id": "7263d336-7e84-47f2-a949-ed79a13635aa",
   "metadata": {},
   "outputs": [],
   "source": [
    "allobs.append(GlobalOpticsObservable(\"tune\", plane=0, use_integer=True))"
   ]
  },
  {
   "cell_type": "markdown",
   "id": "43050abf-9a4c-4d86-b358-b7b22dfd4c1f",
   "metadata": {},
   "source": [
    "Total phase advance at the end of the lattice (all planes):"
   ]
  },
  {
   "cell_type": "code",
   "execution_count": 16,
   "id": "265be4dd-b67c-4188-a3e4-15c1e4eac3e4",
   "metadata": {},
   "outputs": [],
   "source": [
    "allobs.append(LocalOpticsObservable(at.End, \"mu\"))"
   ]
  },
  {
   "cell_type": "markdown",
   "id": "98f495e8-dcf1-473a-b71c-66ee3ff756ef",
   "metadata": {},
   "source": [
    "Horizontal W-function:"
   ]
  },
  {
   "cell_type": "code",
   "execution_count": 17,
   "id": "d1510237-d71c-4833-8578-c3365e8359d1",
   "metadata": {},
   "outputs": [],
   "source": [
    "allobs.append(LocalOpticsObservable(at.Sextupole, \"W\", plane='x'))"
   ]
  },
  {
   "cell_type": "markdown",
   "id": "b2d9ed85-db9b-4ab7-9425-53d20b703eae",
   "metadata": {},
   "source": [
    "Chromaticity in all planes:"
   ]
  },
  {
   "cell_type": "code",
   "execution_count": 18,
   "id": "28949857-7e9c-499c-ba69-e900932683fd",
   "metadata": {},
   "outputs": [],
   "source": [
    "allobs.append(GlobalOpticsObservable(\"chromaticity\"))"
   ]
  },
  {
   "cell_type": "markdown",
   "id": "8cbe4399-5670-4fd2-b745-3b1e8f9eb5b1",
   "metadata": {},
   "source": [
    "Average of sextupole strengths:"
   ]
  },
  {
   "cell_type": "code",
   "execution_count": 19,
   "id": "e271c5ad-e6c8-4c8a-a66b-671711db3832",
   "metadata": {},
   "outputs": [],
   "source": [
    "allobs.append(LatticeObservable(at.Sextupole, \"H\", statfun=np.mean))"
   ]
  },
  {
   "cell_type": "markdown",
   "id": "9ddd860b-c3f9-4c49-839b-64b5f478a9b5",
   "metadata": {
    "editable": true,
    "slideshow": {
     "slide_type": ""
    },
    "tags": []
   },
   "source": [
    "Strengths of all sextupoles:"
   ]
  },
  {
   "cell_type": "code",
   "execution_count": 20,
   "id": "d68df47a-4215-489c-8975-9748b592b949",
   "metadata": {
    "editable": true,
    "slideshow": {
     "slide_type": ""
    },
    "tags": []
   },
   "outputs": [],
   "source": [
    "allobs.append(LatticeObservable(at.Sextupole, \"PolynomB\", index=2))"
   ]
  },
  {
   "cell_type": "markdown",
   "id": "7339554d-c12f-49fb-aade-47691bb5bbce",
   "metadata": {},
   "source": [
    "Horizontal emittance:"
   ]
  },
  {
   "cell_type": "code",
   "execution_count": 21,
   "id": "47ce8596-266c-4944-82d8-f186e34f09b8",
   "metadata": {},
   "outputs": [],
   "source": [
    "allobs.append(EmittanceObservable(\"emittances\", plane=\"x\"))"
   ]
  },
  {
   "cell_type": "markdown",
   "id": "862e9a69-f018-4350-af40-89ae79e8ef39",
   "metadata": {},
   "source": [
    "Ring circumference:"
   ]
  },
  {
   "cell_type": "code",
   "execution_count": 22,
   "id": "f6844781-ee09-4ab6-979b-9fea8034bb7d",
   "metadata": {},
   "outputs": [],
   "source": [
    "def circumference(ring):\n",
    "    return ring.get_s_pos(len(ring))[0]\n",
    "\n",
    "allobs.append(RingObservable(circumference))"
   ]
  },
  {
   "cell_type": "markdown",
   "id": "510ebd1a-eb20-43ad-9b74-d79fee8047a4",
   "metadata": {},
   "source": [
    "p{sub}`x` component of the trajectory on all monitors:"
   ]
  },
  {
   "cell_type": "code",
   "execution_count": 23,
   "id": "40a0895a-9aac-4509-86dd-9fb1f84a4e84",
   "metadata": {},
   "outputs": [],
   "source": [
    "allobs.append(TrajectoryObservable(at.Monitor, axis=\"px\"))"
   ]
  },
  {
   "cell_type": "code",
   "execution_count": 24,
   "id": "fef988a4-1413-4478-a8da-8c865b27d74b",
   "metadata": {},
   "outputs": [],
   "source": [
    "allobs.append(GeometryObservable(at.Monitor, \"x\"))"
   ]
  },
  {
   "cell_type": "markdown",
   "id": "48167f3a-24fa-4963-97ec-1e78033f8895",
   "metadata": {
    "editable": true,
    "slideshow": {
     "slide_type": ""
    },
    "tags": []
   },
   "source": [
    "## Evaluation\n",
    "\n",
    "An input trajectory is required for the trajectory Observable"
   ]
  },
  {
   "cell_type": "code",
   "execution_count": 25,
   "id": "f78c247c-0228-499f-9455-0f39c57ff6fd",
   "metadata": {
    "editable": true,
    "slideshow": {
     "slide_type": ""
    },
    "tags": []
   },
   "outputs": [],
   "source": [
    "r_in = np.zeros(6)\n",
    "r_in[0] = 0.001\n",
    "r_in[2] = 0.001\n",
    "allobs.evaluate(hmba_lattice.enable_6d(copy=True), r_in=r_in, dp=0.0, initial=True)"
   ]
  },
  {
   "cell_type": "markdown",
   "id": "637f7487-80e1-4ca7-af5f-a490be880c90",
   "metadata": {
    "editable": true,
    "slideshow": {
     "slide_type": ""
    },
    "tags": []
   },
   "source": [
    "### Extract a single Observable value\n",
    "(phase advance between elements 3 and 101):"
   ]
  },
  {
   "cell_type": "code",
   "execution_count": 26,
   "id": "582b7317-5527-4afd-ad8c-278f0408dd11",
   "metadata": {
    "editable": true,
    "slideshow": {
     "slide_type": ""
    },
    "tags": []
   },
   "outputs": [
    {
     "data": {
      "text/plain": [
       "array([ 9.38969042e+00,  2.99742405e+00, -4.29831951e-15])"
      ]
     },
     "execution_count": 26,
     "metadata": {},
     "output_type": "execute_result"
    }
   ],
   "source": [
    "allobs[6].value"
   ]
  },
  {
   "cell_type": "markdown",
   "id": "f9a17436-c827-47f7-8eb2-85ce9637c734",
   "metadata": {
    "editable": true,
    "slideshow": {
     "slide_type": ""
    },
    "tags": []
   },
   "source": [
    "### Get the list of all Observable values:"
   ]
  },
  {
   "cell_type": "code",
   "execution_count": 27,
   "id": "edfba8ca-ee8f-4064-9076-d2bc469739a4",
   "metadata": {},
   "outputs": [
    {
     "data": {
      "text/plain": [
       "[array([-3.02197154e-09,  4.50706100e-07,  4.08215752e-07,  2.37905632e-08,\n",
       "        -1.31787026e-08,  2.47236653e-08, -2.95318224e-08, -4.05608197e-07,\n",
       "        -4.47409217e-07, -2.24856457e-09]),\n",
       " array([5.30279703, 7.17604152, 6.55087808, 2.31448878, 3.40498444,\n",
       "        3.405044  , 2.3146451 , 6.55106241, 7.17614175, 5.30283837]),\n",
       " array([[[-1.08194106e+00,  3.18809568e+00,  0.00000000e+00,\n",
       "           0.00000000e+00,  8.22407787e-02, -1.72158067e-05],\n",
       "         [-6.80522735e-01,  1.08099571e+00,  0.00000000e+00,\n",
       "           0.00000000e+00,  4.90131193e-02, -1.02601216e-05],\n",
       "         [ 0.00000000e+00,  0.00000000e+00,  7.55929650e-01,\n",
       "           3.87059271e+00,  0.00000000e+00,  0.00000000e+00],\n",
       "         [ 0.00000000e+00,  0.00000000e+00, -6.79279293e-01,\n",
       "          -2.15524755e+00,  0.00000000e+00,  0.00000000e+00],\n",
       "         [-1.13309291e-08, -1.08618451e-07,  0.00000000e+00,\n",
       "           0.00000000e+00,  9.99995907e-01, -2.09333332e-04],\n",
       "         [ 2.93742438e-03,  6.73567963e-02,  0.00000000e+00,\n",
       "           0.00000000e+00,  2.83582586e-04,  9.99999941e-01]]]),\n",
       " 7.176141754884372,\n",
       " array([[-3.02817765e-09, -1.45848774e-10,  0.00000000e+00,\n",
       "          0.00000000e+00],\n",
       "        [-1.78482705e-09,  2.17272051e-09,  0.00000000e+00,\n",
       "          0.00000000e+00],\n",
       "        [ 2.06043298e-07,  1.68974845e-07,  0.00000000e+00,\n",
       "          0.00000000e+00],\n",
       "        [ 4.63473231e-07,  2.65118678e-07,  0.00000000e+00,\n",
       "          0.00000000e+00],\n",
       "        [ 4.92858975e-07, -2.48835341e-09,  0.00000000e+00,\n",
       "          0.00000000e+00],\n",
       "        [ 2.39074030e-07, -2.69330095e-07,  0.00000000e+00,\n",
       "          0.00000000e+00],\n",
       "        [ 2.24952950e-08, -2.55618843e-08,  0.00000000e+00,\n",
       "          0.00000000e+00],\n",
       "        [-2.95810598e-08, -2.51349419e-08,  0.00000000e+00,\n",
       "          0.00000000e+00],\n",
       "        [ 3.86447213e-08,  4.66083373e-08,  0.00000000e+00,\n",
       "          0.00000000e+00],\n",
       "        [-1.14696048e-08, -5.89639322e-08,  0.00000000e+00,\n",
       "          0.00000000e+00],\n",
       "        [-1.92477071e-07, -1.36146237e-07,  0.00000000e+00,\n",
       "          0.00000000e+00],\n",
       "        [-4.58538826e-07, -2.67114037e-07,  0.00000000e+00,\n",
       "          0.00000000e+00],\n",
       "        [-4.90197685e-07, -2.06362953e-09,  0.00000000e+00,\n",
       "          0.00000000e+00],\n",
       "        [-2.42431088e-07,  2.63622248e-07,  0.00000000e+00,\n",
       "          0.00000000e+00],\n",
       "        [-8.04974095e-10, -1.24376478e-09,  0.00000000e+00,\n",
       "          0.00000000e+00],\n",
       "        [-1.92739962e-09, -1.83202802e-09,  0.00000000e+00,\n",
       "          0.00000000e+00]]),\n",
       " array([ 2.693952  ,  3.4295565 ,  5.52309303,  6.52741246,  7.08941246,\n",
       "         8.14326589, 10.34278161, 11.93982486, 13.94182609, 15.63285034,\n",
       "        18.00333506, 19.05718849, 19.61918849, 20.67257592, 22.71704445,\n",
       "        23.36843995]),\n",
       " array([ 9.38969042e+00,  2.99742405e+00, -4.29831951e-15]),\n",
       " 2.3815630185939196,\n",
       " array([[1.49638018e+01, 5.36820522e+00, 6.85246959e-04]]),\n",
       " array([18.37111586, 25.91715269, 12.96214627,  9.66599267, 13.81023312,\n",
       "        24.25197581]),\n",
       " array([1.79196882e-01, 1.22425551e-01, 1.70292084e-04]),\n",
       " -25.369212247139345,\n",
       " array([-78.95535579,  77.03724443, -74.18952538, -74.18952538,\n",
       "         77.03724443, -78.95535579]),\n",
       " 1.3203585666474837e-10,\n",
       " 26.374287952316944,\n",
       " array([ 0.00000000e+00, -6.94370475e-04,  6.07151650e-04,  2.38468289e-04,\n",
       "        -6.81824075e-04, -4.78921799e-04,  4.41491590e-04,  7.01582185e-04,\n",
       "        -6.05543948e-04, -9.78684826e-05]),\n",
       " array([ 2.6514    ,  6.4783308 ,  7.51380991, 10.28830988, 12.71979153,\n",
       "        13.62739043, 16.04912109, 18.79203055, 19.81402164, 23.58054559])]"
      ]
     },
     "execution_count": 27,
     "metadata": {},
     "output_type": "execute_result"
    }
   ],
   "source": [
    "allobs.values"
   ]
  },
  {
   "cell_type": "markdown",
   "id": "22eb2441-39d9-432d-ae3d-fdee153f49cb",
   "metadata": {
    "editable": true,
    "slideshow": {
     "slide_type": ""
    },
    "tags": []
   },
   "source": [
    "### Get a pretty output of all Observables.\n",
    "\n",
    "As no variation was made, *Actual* values are always equal to *Initial* values.\n",
    "\n",
    "The residual is zero for all Observables for which no *target* was specified"
   ]
  },
  {
   "cell_type": "code",
   "execution_count": 28,
   "id": "6126bf27-37e9-4c20-8997-c82ba9fad5b1",
   "metadata": {
    "editable": true,
    "slideshow": {
     "slide_type": ""
    },
    "tags": []
   },
   "outputs": [
    {
     "name": "stdout",
     "output_type": "stream",
     "text": [
      "\n",
      "    location              Initial            Actual         Low bound        High bound          residual \n",
      "orbit[x]\n",
      "    BPM_01           -3.02197e-09      -3.02197e-09               -                 -                 0.0 \n",
      "    BPM_02            4.50706e-07       4.50706e-07               -                 -                 0.0 \n",
      "    BPM_03            4.08216e-07       4.08216e-07               -                 -                 0.0 \n",
      "    BPM_04            2.37906e-08       2.37906e-08               -                 -                 0.0 \n",
      "    BPM_05           -1.31787e-08      -1.31787e-08               -                 -                 0.0 \n",
      "    BPM_06            2.47237e-08       2.47237e-08               -                 -                 0.0 \n",
      "    BPM_07           -2.95318e-08      -2.95318e-08               -                 -                 0.0 \n",
      "    BPM_08           -4.05608e-07      -4.05608e-07               -                 -                 0.0 \n",
      "    BPM_09           -4.47409e-07      -4.47409e-07               -                 -                 0.0 \n",
      "    BPM_10           -2.24856e-09      -2.24856e-09               -                 -                 0.0 \n",
      "beta[y]\n",
      "    BPM_01                 5.3028            5.3028              -inf               7.0               0.0 \n",
      "    BPM_02                7.17604           7.17604              -inf               7.0         0.0309906 \n",
      "    BPM_03                6.55088           6.55088              -inf               7.0               0.0 \n",
      "    BPM_04                2.31449           2.31449              -inf               7.0               0.0 \n",
      "    BPM_05                3.40498           3.40498              -inf               7.0               0.0 \n",
      "    BPM_06                3.40504           3.40504              -inf               7.0               0.0 \n",
      "    BPM_07                2.31465           2.31465              -inf               7.0               0.0 \n",
      "    BPM_08                6.55106           6.55106              -inf               7.0               0.0 \n",
      "    BPM_09                7.17614           7.17614              -inf               7.0         0.0310259 \n",
      "    BPM_10                5.30284           5.30284              -inf               7.0               0.0 \n",
      "matrix\n",
      "    BPM_02       [-1.082     ...]  [-1.082     ...]               -                 -    [ 0.0       ...] \n",
      "amax(beta[y])\n",
      "                          7.17614           7.17614               -                 -                 0.0 \n",
      "closed_orbit[slice(None, 4, None)]\n",
      "    QF1A         [-3.028e-09 ...]  [-3.028e-09 ...]  [ 0.0       ...]  [ 0.0       ...]  [ 9.17e-06  ...] \n",
      "    QD2A         [-1.785e-09 ...]  [-1.785e-09 ...]  [ 0.0       ...]  [ 0.0       ...]  [ 3.186e-06 ...] \n",
      "    QD3A         [ 2.06e-07  ...]  [ 2.06e-07  ...]  [ 0.0       ...]  [ 0.0       ...]  [ 0.04245   ...] \n",
      "    QF4A         [ 4.635e-07 ...]  [ 4.635e-07 ...]  [ 0.0       ...]  [ 0.0       ...]  [ 0.2148    ...] \n",
      "    QF4B         [ 4.929e-07 ...]  [ 4.929e-07 ...]  [ 0.0       ...]  [ 0.0       ...]  [ 0.2429    ...] \n",
      "    QD5B         [ 2.391e-07 ...]  [ 2.391e-07 ...]  [ 0.0       ...]  [ 0.0       ...]  [ 0.05716   ...] \n",
      "    QF6B         [ 2.25e-08  ...]  [ 2.25e-08  ...]  [ 0.0       ...]  [ 0.0       ...]  [ 0.000506  ...] \n",
      "    QF8B         [-2.958e-08 ...]  [-2.958e-08 ...]  [ 0.0       ...]  [ 0.0       ...]  [ 0.000875  ...] \n",
      "    QF8D         [ 3.864e-08 ...]  [ 3.864e-08 ...]  [ 0.0       ...]  [ 0.0       ...]  [ 0.001493  ...] \n",
      "    QF6D         [-1.147e-08 ...]  [-1.147e-08 ...]  [ 0.0       ...]  [ 0.0       ...]  [ 0.0001316 ...] \n",
      "    QD5D         [-1.925e-07 ...]  [-1.925e-07 ...]  [ 0.0       ...]  [ 0.0       ...]  [ 0.03705   ...] \n",
      "    QF4D         [-4.585e-07 ...]  [-4.585e-07 ...]  [ 0.0       ...]  [ 0.0       ...]  [ 0.2103    ...] \n",
      "    QF4E         [-4.902e-07 ...]  [-4.902e-07 ...]  [ 0.0       ...]  [ 0.0       ...]  [ 0.2403    ...] \n",
      "    QD3E         [-2.424e-07 ...]  [-2.424e-07 ...]  [ 0.0       ...]  [ 0.0       ...]  [ 0.05877   ...] \n",
      "    QD2E         [-8.05e-10  ...]  [-8.05e-10  ...]  [ 0.0       ...]  [ 0.0       ...]  [ 6.48e-07  ...] \n",
      "    QF1E         [-1.927e-09 ...]  [-1.927e-09 ...]  [ 0.0       ...]  [ 0.0       ...]  [ 3.715e-06 ...] \n",
      "s_pos\n",
      "    QF1A                  2.69395           2.69395               -                 -                 0.0 \n",
      "    QD2A                  3.42956           3.42956               -                 -                 0.0 \n",
      "    QD3A                  5.52309           5.52309               -                 -                 0.0 \n",
      "    QF4A                  6.52741           6.52741               -                 -                 0.0 \n",
      "    QF4B                  7.08941           7.08941               -                 -                 0.0 \n",
      "    QD5B                  8.14327           8.14327               -                 -                 0.0 \n",
      "    QF6B                  10.3428           10.3428               -                 -                 0.0 \n",
      "    QF8B                  11.9398           11.9398               -                 -                 0.0 \n",
      "    QF8D                  13.9418           13.9418               -                 -                 0.0 \n",
      "    QF6D                  15.6329           15.6329               -                 -                 0.0 \n",
      "    QD5D                  18.0033           18.0033               -                 -                 0.0 \n",
      "    QF4D                  19.0572           19.0572               -                 -                 0.0 \n",
      "    QF4E                  19.6192           19.6192               -                 -                 0.0 \n",
      "    QD3E                  20.6726           20.6726               -                 -                 0.0 \n",
      "    QD2E                   22.717            22.717               -                 -                 0.0 \n",
      "    QF1E                  23.3684           23.3684               -                 -                 0.0 \n",
      "phase_advance\n",
      "                 [ 9.39      ...]  [ 9.39      ...]               -                 -    [ 0.0       ...] \n",
      "tune[x]\n",
      "                          2.38156           2.38156               -                 -                 0.0 \n",
      "mu\n",
      "    End          [ 14.96     ...]  [ 14.96     ...]               -                 -    [ 0.0       ...] \n",
      "W[x]\n",
      "    SD1A                  18.3711           18.3711               -                 -                 0.0 \n",
      "    SF2A                  25.9172           25.9172               -                 -                 0.0 \n",
      "    SD1B                  12.9621           12.9621               -                 -                 0.0 \n",
      "    SD1D                  9.66599           9.66599               -                 -                 0.0 \n",
      "    SF2E                  13.8102           13.8102               -                 -                 0.0 \n",
      "    SD1E                   24.252            24.252               -                 -                 0.0 \n",
      "chromaticity\n",
      "                 [ 0.1792    ...]  [ 0.1792    ...]               -                 -    [ 0.0       ...] \n",
      "mean(H)\n",
      "                         -25.3692          -25.3692               -                 -                 0.0 \n",
      "PolynomB[2]\n",
      "    SD1A                 -78.9554          -78.9554               -                 -                 0.0 \n",
      "    SF2A                  77.0372           77.0372               -                 -                 0.0 \n",
      "    SD1B                 -74.1895          -74.1895               -                 -                 0.0 \n",
      "    SD1D                 -74.1895          -74.1895               -                 -                 0.0 \n",
      "    SF2E                  77.0372           77.0372               -                 -                 0.0 \n",
      "    SD1E                 -78.9554          -78.9554               -                 -                 0.0 \n",
      "emittances[x]\n",
      "                      1.32036e-10       1.32036e-10               -                 -                 0.0 \n",
      "circumference\n",
      "                          26.3743           26.3743               -                 -                 0.0 \n",
      "trajectory[px]\n",
      "    BPM_01                    0.0               0.0               -                 -                 0.0 \n",
      "    BPM_02            -0.00069437       -0.00069437               -                 -                 0.0 \n",
      "    BPM_03            0.000607152       0.000607152               -                 -                 0.0 \n",
      "    BPM_04            0.000238468       0.000238468               -                 -                 0.0 \n",
      "    BPM_05           -0.000681824      -0.000681824               -                 -                 0.0 \n",
      "    BPM_06           -0.000478922      -0.000478922               -                 -                 0.0 \n",
      "    BPM_07            0.000441492       0.000441492               -                 -                 0.0 \n",
      "    BPM_08            0.000701582       0.000701582               -                 -                 0.0 \n",
      "    BPM_09           -0.000605544      -0.000605544               -                 -                 0.0 \n",
      "    BPM_10           -9.78685e-05      -9.78685e-05               -                 -                 0.0 \n",
      "geometry[x]\n",
      "    BPM_01                 2.6514            2.6514               -                 -                 0.0 \n",
      "    BPM_02                6.47833           6.47833               -                 -                 0.0 \n",
      "    BPM_03                7.51381           7.51381               -                 -                 0.0 \n",
      "    BPM_04                10.2883           10.2883               -                 -                 0.0 \n",
      "    BPM_05                12.7198           12.7198               -                 -                 0.0 \n",
      "    BPM_06                13.6274           13.6274               -                 -                 0.0 \n",
      "    BPM_07                16.0491           16.0491               -                 -                 0.0 \n",
      "    BPM_08                 18.792            18.792               -                 -                 0.0 \n",
      "    BPM_09                 19.814            19.814               -                 -                 0.0 \n",
      "    BPM_10                23.5805           23.5805               -                 -                 0.0 \n"
     ]
    }
   ],
   "source": [
    "print(allobs)"
   ]
  },
  {
   "cell_type": "code",
   "execution_count": null,
   "id": "da98f63c-fe1a-47c1-b6a3-88d1bb8b970e",
   "metadata": {},
   "outputs": [],
   "source": []
  }
 ],
 "metadata": {
  "kernelspec": {
   "display_name": "Python 3 (ipykernel)",
   "language": "python",
   "name": "python3"
  },
  "language_info": {
   "codemirror_mode": {
    "name": "ipython",
    "version": 3
   },
   "file_extension": ".py",
   "mimetype": "text/x-python",
   "name": "python",
   "nbconvert_exporter": "python",
   "pygments_lexer": "ipython3",
   "version": "3.9.19"
  }
 },
 "nbformat": 4,
 "nbformat_minor": 5
}
