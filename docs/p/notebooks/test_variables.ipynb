{
 "cells": [
  {
   "cell_type": "code",
   "execution_count": 1,
   "id": "d6034009-fea2-4195-9571-2a1a2b21acc3",
   "metadata": {
    "tags": []
   },
   "outputs": [],
   "source": [
    "import at\n",
    "import at.plot\n",
    "import sys\n",
    "if sys.version_info.minor < 9:\n",
    "    from importlib_resources import files, as_file\n",
    "else:\n",
    "    from importlib.resources import files, as_file"
   ]
  },
  {
   "cell_type": "code",
   "execution_count": 2,
   "id": "353791c1-ac4b-4576-9d8d-c7bc8dcd07ef",
   "metadata": {
    "tags": []
   },
   "outputs": [
    {
     "ename": "ImportError",
     "evalue": "cannot import name 'match' from 'at.future' (/Users/laurent/dev/libraries/at/pyat/at/future.py)",
     "output_type": "error",
     "traceback": [
      "\u001b[0;31m---------------------------------------------------------------------------\u001b[0m",
      "\u001b[0;31mImportError\u001b[0m                               Traceback (most recent call last)",
      "Cell \u001b[0;32mIn[2], line 1\u001b[0m\n\u001b[0;32m----> 1\u001b[0m \u001b[38;5;28;01mfrom\u001b[39;00m \u001b[38;5;21;01mat\u001b[39;00m\u001b[38;5;21;01m.\u001b[39;00m\u001b[38;5;21;01mfuture\u001b[39;00m \u001b[38;5;28;01mimport\u001b[39;00m Variable, VariableList, ElementVariable, match\n\u001b[1;32m      2\u001b[0m \u001b[38;5;28;01mfrom\u001b[39;00m \u001b[38;5;21;01mat\u001b[39;00m \u001b[38;5;28;01mimport\u001b[39;00m LocalOpticsObservable, ObservableList\n",
      "\u001b[0;31mImportError\u001b[0m: cannot import name 'match' from 'at.future' (/Users/laurent/dev/libraries/at/pyat/at/future.py)"
     ]
    }
   ],
   "source": [
    "from at.future import Variable, VariableList, ElementVariable, match\n",
    "from at import LocalOpticsObservable, ObservableList"
   ]
  },
  {
   "cell_type": "markdown",
   "id": "cde6c736-f5b3-4d97-8c40-ef6215322401",
   "metadata": {},
   "source": [
    "# Correlated variables\n",
    "\n",
    "In this example of correlation between variables, we vary the length of the two drifts\n",
    "surrounding a monitor but keep the sum of their lengths constant.\n",
    "\n",
    "Using these 2 correlated variables, we will match a constraint on the monitor.\n",
    "\n",
    "## Load a test lattice"
   ]
  },
  {
   "cell_type": "code",
   "execution_count": null,
   "id": "2a7220ac-f85c-4aee-983f-1308feab346e",
   "metadata": {},
   "outputs": [],
   "source": [
    "fname = 'hmba.mat'\n",
    "with as_file(files('machine_data') / fname) as path:\n",
    "    hmba_lattice = at.load_lattice(path)"
   ]
  },
  {
   "cell_type": "markdown",
   "id": "18d7c32f-5a73-4fc2-a7c4-6f7d435fe2c3",
   "metadata": {},
   "source": [
    "Isolate the two drifts"
   ]
  },
  {
   "cell_type": "code",
   "execution_count": null,
   "id": "4df347e2-6439-438d-97b7-25ad25179a57",
   "metadata": {},
   "outputs": [],
   "source": [
    "dr1 = hmba_lattice[\"DR_01\"][0]\n",
    "dr2 = hmba_lattice[\"DR_02\"][0]"
   ]
  },
  {
   "cell_type": "markdown",
   "id": "c8df614e-afec-47f1-bbb2-9e9349c91fb9",
   "metadata": {},
   "source": [
    "Get the total length to be preserved"
   ]
  },
  {
   "cell_type": "code",
   "execution_count": null,
   "id": "8dbbe584-e434-4067-a8a5-157cc90e8f05",
   "metadata": {},
   "outputs": [],
   "source": [
    "l1 = dr1.Length\n",
    "l2 = dr2.Length\n",
    "ltot = l1 + l2"
   ]
  },
  {
   "cell_type": "markdown",
   "id": "0fdc04ae-df36-4f1e-b568-3b275739c646",
   "metadata": {},
   "source": [
    "Create a constraint {math}`\\beta_y=3.0` on `BPM_01`"
   ]
  },
  {
   "cell_type": "code",
   "execution_count": null,
   "id": "510a6be4-519a-45ad-93f1-0641c6de5e1f",
   "metadata": {},
   "outputs": [],
   "source": [
    "obs1 = LocalOpticsObservable('BPM_01', 'beta', plane='v', target=3.0)"
   ]
  },
  {
   "cell_type": "markdown",
   "id": "9d398afa-1063-4af6-84c4-46159c1cd622",
   "metadata": {},
   "source": [
    "## Method 1: using parameters\n",
    "\n",
    "We parametrise the lengths of the drifts surrounding the monitor\n",
    "\n",
    "### Parametrise the two drifts:"
   ]
  },
  {
   "cell_type": "code",
   "execution_count": null,
   "id": "7d6fcc63-46be-416e-9754-1fb46eae0189",
   "metadata": {},
   "outputs": [],
   "source": [
    "param1 = dr1.parametrise('Length')\n",
    "dr2.Length = ltot-param1"
   ]
  },
  {
   "cell_type": "markdown",
   "id": "d3487819-a2fd-4410-9e37-6a36c3bd86f8",
   "metadata": {},
   "source": [
    "### Run the matching"
   ]
  },
  {
   "cell_type": "code",
   "execution_count": null,
   "id": "ae9630ad-cda8-4477-81fd-051ca67b0848",
   "metadata": {},
   "outputs": [],
   "source": [
    "variables = VariableList([param1])\n",
    "constraints = ObservableList(hmba_lattice, [obs1])\n",
    "match(hmba_lattice, variables, constraints, verbose=1)"
   ]
  },
  {
   "cell_type": "markdown",
   "id": "f908b523-b10d-4fc5-bade-99450231e044",
   "metadata": {},
   "source": [
    "### Show the modified lattice"
   ]
  },
  {
   "cell_type": "code",
   "execution_count": null,
   "id": "3205df5f-f494-4900-b743-2468eacddf1c",
   "metadata": {},
   "outputs": [],
   "source": [
    "for elem in hmba_lattice.select([2,3,4]):\n",
    "    print(elem)"
   ]
  },
  {
   "cell_type": "code",
   "execution_count": null,
   "id": "6eb16268-0ffe-4511-a8dc-43cb58afd633",
   "metadata": {},
   "outputs": [],
   "source": [
    "hmba_lattice.plot_beta()"
   ]
  },
  {
   "cell_type": "markdown",
   "id": "17403824-c7bd-4e36-91b9-4c406e3e64e4",
   "metadata": {
    "editable": true,
    "slideshow": {
     "slide_type": ""
    },
    "tags": []
   },
   "source": [
    "The first BPM is moved to a location where {math}`\\beta_y=3.0`"
   ]
  },
  {
   "cell_type": "markdown",
   "id": "c8d6c102-e9b3-4e68-bee0-42409d282a38",
   "metadata": {
    "editable": true,
    "slideshow": {
     "slide_type": ""
    },
    "tags": []
   },
   "source": [
    "Restore the lattice"
   ]
  },
  {
   "cell_type": "code",
   "execution_count": null,
   "id": "6d365a60-d172-4dee-a80d-d7796d8571ab",
   "metadata": {},
   "outputs": [],
   "source": [
    "dr1.Length = l1\n",
    "dr2.Length = l2"
   ]
  },
  {
   "cell_type": "markdown",
   "id": "ae3b0459-6b13-4ead-905b-235b20cea2d9",
   "metadata": {
    "editable": true,
    "slideshow": {
     "slide_type": ""
    },
    "tags": []
   },
   "source": [
    "## Method 2: custom variable\n",
    "\n",
    "We define a new variable class which will act on the two elements and fulfil the constraint\n",
    "\n",
    "### Define a variable coupling two drift lengths so that their sum is constant:"
   ]
  },
  {
   "cell_type": "code",
   "execution_count": null,
   "id": "34f10de4-9123-45d4-a9e9-b071836d4f6c",
   "metadata": {
    "editable": true,
    "slideshow": {
     "slide_type": ""
    },
    "tags": []
   },
   "outputs": [],
   "source": [
    "class ElementShifter(Variable):\n",
    "    def __init__(self, dr1, dr2, total_length=None, **kwargs):\n",
    "        \"\"\"Varies the length of the elements *dr1* and *dr2*\n",
    "        keeping the sum of their lengths equal to *total_length*.\n",
    "\n",
    "        If *total_length* is None, it is set to the initial total length\n",
    "        \"\"\"        \n",
    "        # store indexes of the 2 variable elements\n",
    "        self.dr1 = dr1\n",
    "        self.dr2 = dr2\n",
    "        # store the initial total length\n",
    "        if total_length is None:\n",
    "            total_length = dr1.Length + dr2.Length\n",
    "        self.length = total_length\n",
    "        super().__init__(bounds=(0.0, total_length), **kwargs)\n",
    "\n",
    "    def _setfun(self, value, ring=None):\n",
    "        dr1.Length = value\n",
    "        dr2.Length = self.length - value\n",
    "\n",
    "    def _getfun(self, ring=None):\n",
    "        return  dr1.Length"
   ]
  },
  {
   "cell_type": "markdown",
   "id": "1928d81f-dac5-464e-af96-2809306cac15",
   "metadata": {},
   "source": [
    "Create a variable moving the monitor `BPM_01`"
   ]
  },
  {
   "cell_type": "code",
   "execution_count": null,
   "id": "816e6de7-9ec4-40bc-be97-f63fcf9d189e",
   "metadata": {},
   "outputs": [],
   "source": [
    "var0 = ElementShifter(dr1, dr2, name='DR_01', total_length=ltot)"
   ]
  },
  {
   "cell_type": "markdown",
   "id": "ebbd2f87-8541-4e89-8b30-acf81815549c",
   "metadata": {},
   "source": [
    "### Run the matching"
   ]
  },
  {
   "cell_type": "code",
   "execution_count": null,
   "id": "0874d86a-63ad-40b7-adba-e805b5108265",
   "metadata": {},
   "outputs": [],
   "source": [
    "variables = VariableList([var0])\n",
    "constraints = ObservableList(hmba_lattice, [obs1])\n",
    "match(hmba_lattice, variables, constraints, verbose=1)"
   ]
  },
  {
   "cell_type": "markdown",
   "id": "ebef68f5-440c-47d9-be1c-cafffb258950",
   "metadata": {},
   "source": [
    "### Show the modified lattice"
   ]
  },
  {
   "cell_type": "code",
   "execution_count": null,
   "id": "46848c34-339c-41ad-88ba-949e32dba6c3",
   "metadata": {
    "editable": true,
    "slideshow": {
     "slide_type": ""
    },
    "tags": []
   },
   "outputs": [],
   "source": [
    "for elem in hmba_lattice.select([2,3,4]):\n",
    "    print(elem)"
   ]
  },
  {
   "cell_type": "code",
   "execution_count": null,
   "id": "a1ecc073-fb8a-4883-ad43-85f37392ccb2",
   "metadata": {
    "editable": true,
    "slideshow": {
     "slide_type": ""
    },
    "tags": []
   },
   "outputs": [],
   "source": [
    "hmba_lattice.plot_beta()"
   ]
  }
 ],
 "metadata": {
  "kernelspec": {
   "display_name": "Python 3 (ipykernel)",
   "language": "python",
   "name": "python3"
  },
  "language_info": {
   "codemirror_mode": {
    "name": "ipython",
    "version": 3
   },
   "file_extension": ".py",
   "mimetype": "text/x-python",
   "name": "python",
   "nbconvert_exporter": "python",
   "pygments_lexer": "ipython3",
   "version": "3.9.18"
  }
 },
 "nbformat": 4,
 "nbformat_minor": 5
}
