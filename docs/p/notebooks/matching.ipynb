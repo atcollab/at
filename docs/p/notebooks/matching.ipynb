{
 "cells": [
  {
   "cell_type": "markdown",
   "id": "f3780a64-cdc9-4374-8fcf-213bc444805e",
   "metadata": {},
   "source": [
    "# Matching"
   ]
  },
  {
   "cell_type": "code",
   "execution_count": 1,
   "id": "27c3146f-6cfb-4647-9c82-af2a934fa37f",
   "metadata": {},
   "outputs": [],
   "source": [
    "import numpy as np\n",
    "from importlib.resources import files, as_file\n",
    "from at import (\n",
    "    Lattice,\n",
    "    LocalOpticsObservable,\n",
    "    GlobalOpticsObservable,\n",
    "    ObservableList,\n",
    "    End,\n",
    ")"
   ]
  },
  {
   "cell_type": "markdown",
   "id": "f485666c-7230-4a04-a228-f4db2ba77be1",
   "metadata": {},
   "source": [
    "Special import to use the new matching:"
   ]
  },
  {
   "cell_type": "code",
   "execution_count": 2,
   "id": "69cf2625-c43b-4689-8b28-f24c6b5b1475",
   "metadata": {},
   "outputs": [],
   "source": [
    "from at.future import RefptsVariable, VariableList, match"
   ]
  },
  {
   "cell_type": "markdown",
   "id": "b10417e6-1c9f-4886-8f6d-2a11e2728d27",
   "metadata": {},
   "source": [
    "Import a sample lattice:"
   ]
  },
  {
   "cell_type": "code",
   "execution_count": 3,
   "id": "5b81d55e-ed05-489d-ae55-70d86ba22d58",
   "metadata": {},
   "outputs": [],
   "source": [
    "fname = \"hmba.mat\"\n",
    "with as_file(files(\"machine_data\") / fname) as path:\n",
    "    ring = Lattice.load(path)"
   ]
  },
  {
   "cell_type": "markdown",
   "id": "681ba48e-1bdd-4e64-87e4-02a8d64e8e61",
   "metadata": {},
   "source": [
    "Split the sextupoles in halves to set constraints in their middle:"
   ]
  },
  {
   "cell_type": "code",
   "execution_count": 4,
   "id": "2917f105-c409-4430-a03f-7ca8c8babd93",
   "metadata": {},
   "outputs": [],
   "source": [
    "sf = ring.get_uint32_index(\"SF*\")\n",
    "sf1 = ring[sf[0]].divide([0.5, 0.5])\n",
    "sf2 = ring[sf[1]].divide([0.5, 0.5])\n",
    "ring.pop(sf[1])\n",
    "ring.insert(sf[1], sf2[1])\n",
    "ring.insert(sf[1], sf2[0])\n",
    "ring.pop(sf[0])\n",
    "ring.insert(sf[0], sf1[1])\n",
    "ring.insert(sf[0], sf1[0])\n",
    "ring.periodicity = 1"
   ]
  },
  {
   "cell_type": "markdown",
   "id": "f056d42a-70f8-4aa9-aa92-5fcd4267c811",
   "metadata": {},
   "source": [
    "## Define the location of constraints"
   ]
  },
  {
   "cell_type": "code",
   "execution_count": 5,
   "id": "76545de7-4996-4ed4-ad1e-5e0aa78fdf40",
   "metadata": {},
   "outputs": [],
   "source": [
    "sf = ring.get_uint32_index(\"SF*\")[1::2]\n",
    "center = ring.get_uint32_index(\"CellCenter\")"
   ]
  },
  {
   "cell_type": "markdown",
   "id": "c2a55d5a-4fb6-4955-ad05-e3065319cd4c",
   "metadata": {},
   "source": [
    "## Define the variables\n",
    "\n",
    "We take the strengths of 7 quadrupole families"
   ]
  },
  {
   "cell_type": "code",
   "execution_count": 6,
   "id": "3ff856e0-ae59-46cd-be38-0674c6479916",
   "metadata": {},
   "outputs": [],
   "source": [
    "names = [\"QF1*\", \"QD2*\", \"QD3*\", \"QF4*\", \"QD5*\", \"QF6*\", \"QF8*\"]\n",
    "bounds = [[0, 5], [-5, 0], [-5, 0], [0, 5], [-5, 0], [0, 5], [0, 5]]\n",
    "variables = VariableList(\n",
    "    RefptsVariable(nm, \"PolynomB\", index=1, bounds=bnd, name=nm, ring=ring)\n",
    "    for nm, bnd in zip(names, bounds)\n",
    ")"
   ]
  },
  {
   "cell_type": "code",
   "execution_count": 7,
   "id": "23ecf97b-460d-44e2-b3e6-84b35ab1fbd7",
   "metadata": {},
   "outputs": [
    {
     "name": "stdout",
     "output_type": "stream",
     "text": [
      "\n",
      "        Name      Initial          Final        Variation\n",
      "\n",
      "        QF1*    2.539460e+00    2.539460e+00    0.000000e+00\n",
      "        QD2*   -2.672025e+00   -2.672025e+00    0.000000e+00\n",
      "        QD3*   -2.404266e+00   -2.404266e+00    0.000000e+00\n",
      "        QF4*    2.429986e+00    2.429986e+00    0.000000e+00\n",
      "        QD5*   -2.704501e+00   -2.704501e+00    0.000000e+00\n",
      "        QF6*    4.464541e+00    4.464541e+00    0.000000e+00\n",
      "        QF8*    4.425467e+00    4.425467e+00    0.000000e+00\n"
     ]
    }
   ],
   "source": [
    "print(variables)"
   ]
  },
  {
   "cell_type": "markdown",
   "id": "4950f4fe-8f81-44eb-83d3-0542dbdb90e9",
   "metadata": {},
   "source": [
    "## Define the constraints\n",
    "\n",
    "Tunes:"
   ]
  },
  {
   "cell_type": "code",
   "execution_count": 8,
   "id": "2024f761-7519-436e-9d95-a9deae8162ca",
   "metadata": {},
   "outputs": [],
   "source": [
    "obs = ObservableList()\n",
    "# Tunes\n",
    "obs.append(GlobalOpticsObservable(\"tune\", target=[0.38, 0.85]))"
   ]
  },
  {
   "cell_type": "markdown",
   "id": "8697d999-510a-4717-86d5-b1a386c53d9c",
   "metadata": {},
   "source": [
    "Optics at the entrance of the lattice (1 reference point):\n",
    "\n",
    "- $\\alpha$ (both planes): the shape of the value is (1, 2). The shape of target (2,) is automatically broadcasted\n",
    "  to (1, 2),\n",
    "- $\\eta'_x$: the shape of the value is (1,). The shape of target () is automatically broadcasted to (1,)."
   ]
  },
  {
   "cell_type": "code",
   "execution_count": 9,
   "id": "7ec2feea-d02d-40b0-a0bb-a83b50213987",
   "metadata": {},
   "outputs": [],
   "source": [
    "obs.append(LocalOpticsObservable(0, \"alpha\", target=[0.0, 0.0]))\n",
    "obs.append(LocalOpticsObservable(0, \"dispersion\", plane=\"px\", target=0.0))"
   ]
  },
  {
   "cell_type": "markdown",
   "id": "7e4f2d44-06dc-47ec-94e6-88bb842c74a6",
   "metadata": {},
   "source": [
    "Optics at the centre of the cell:"
   ]
  },
  {
   "cell_type": "code",
   "execution_count": 10,
   "id": "8685eb3e-c8ea-45aa-a013-ae586506e080",
   "metadata": {},
   "outputs": [],
   "source": [
    "obs.append(LocalOpticsObservable(center, \"beta\", plane=\"y\", target=4.69999257))\n",
    "obs.append(LocalOpticsObservable(center, \"alpha\", target=[0.0, 0.0]))\n",
    "obs.append(LocalOpticsObservable(center, \"dispersion\", plane=\"px\", target=0.0))"
   ]
  },
  {
   "cell_type": "markdown",
   "id": "9443fe8d-d248-4162-ac2d-90c48239504f",
   "metadata": {},
   "source": [
    "Optics in the middle of sextupoles (2 reference points):\n",
    "\n",
    "- $\\beta_y$: the shape of the value is (2,). The target (shape ()) broadcasts to both points,\n",
    "- $\\alpha_y$: the shape of the value is (2,). The target (shape (2,)) specifies the value at each refpoint,\n",
    "- $\\eta_x$: the shape of the value is (2,). The target (shape ()) broadcasts to both points."
   ]
  },
  {
   "cell_type": "code",
   "execution_count": 11,
   "id": "62297ca3-b462-418e-b3d8-7bda6f07235b",
   "metadata": {},
   "outputs": [],
   "source": [
    "obs.append(LocalOpticsObservable(sf, \"beta\", plane=\"y\", target=5.4))\n",
    "obs.append(LocalOpticsObservable(sf, \"alpha\", plane=\"y\", target=[0.68, -0.68]))\n",
    "obs.append(LocalOpticsObservable(sf, \"dispersion\", plane=\"x\", target=0.0882))"
   ]
  },
  {
   "cell_type": "markdown",
   "id": "fe1f87b2-723c-4851-b7dc-37858dc2e760",
   "metadata": {},
   "source": [
    "Phase advance between the sextupoles (2 reference points):\n",
    "\n",
    "- $\\Delta\\mu$ (both planes): the numpy {py:func}`~numpy.diff` function reduces the 1st dimension by 1,\n",
    "  so the shape of value is (1, 2). The shape of target (2,) is broadcasted to (1, 2)."
   ]
  },
  {
   "cell_type": "code",
   "execution_count": 12,
   "id": "6d78ef23-0a56-44e1-a829-d74a3d422a97",
   "metadata": {},
   "outputs": [],
   "source": [
    "obs.append(\n",
    "    LocalOpticsObservable(\n",
    "        sf, \"mu2pif\", target=[0.49721338, 0.48228011], statfun=np.diff\n",
    "    )\n",
    ")"
   ]
  },
  {
   "cell_type": "markdown",
   "id": "0a85a601-afb6-46a4-b1ed-103c4c641edf",
   "metadata": {},
   "source": [
    "## Perform the matching:"
   ]
  },
  {
   "cell_type": "code",
   "execution_count": 13,
   "id": "ca9b36be-dae0-42d6-b4b9-8e22adc21125",
   "metadata": {
    "editable": true,
    "slideshow": {
     "slide_type": ""
    },
    "tags": []
   },
   "outputs": [
    {
     "name": "stdout",
     "output_type": "stream",
     "text": [
      "\n",
      "17 constraints, 7 variables, using method trf\n",
      "\n",
      "   Iteration     Total nfev        Cost      Cost reduction    Step norm     Optimality   \n",
      "       0              1         1.0793e-05                                    6.22e-03    \n",
      "       1              3         5.4660e-06      5.33e-06       3.56e-03       2.33e-02    \n",
      "       2              4         1.9157e-06      3.55e-06       7.17e-03       8.80e-02    \n",
      "       3              5         9.4304e-08      1.82e-06       2.23e-03       4.16e-03    \n",
      "       4              6         3.5989e-08      5.83e-08       7.08e-03       1.41e-03    \n",
      "       5              7         2.8240e-09      3.32e-08       1.02e-02       3.02e-03    \n",
      "       6              8         2.2907e-10      2.59e-09       1.20e-03       4.15e-05    \n",
      "       7              9         1.8504e-10      4.40e-11       4.11e-04       4.82e-06    \n",
      "       8             10         1.8504e-10      5.97e-15       1.86e-06       3.08e-10    \n",
      "`gtol` termination condition is satisfied.\n",
      "Function evaluations 10, initial cost 1.0793e-05, final cost 1.8504e-10, first-order optimality 3.08e-10.\n",
      "\n",
      "Constraints:\n",
      "\n",
      "    location              Initial            Actual         Low bound        High bound         deviation \n",
      "tune\n",
      "                 [ 0.3816    ...]  [ 0.38      ...]  [ 0.38      ...]  [ 0.38      ...]  [ 5.176e-08 ...] \n",
      "alpha\n",
      "    RFC          [ 1.009e-07 ...]  [ 9.976e-08 ...]  [ 0.0       ...]  [ 0.0       ...]  [ 9.976e-08 ...] \n",
      "dispersion[px]\n",
      "    RFC               4.04369e-09       4.04779e-09               0.0               0.0       4.04779e-09 \n",
      "beta[y]\n",
      "    CellCenter            4.69999           4.69999           4.69999           4.69999       2.52924e-08 \n",
      "alpha\n",
      "    CellCenter   [-4.653e-07 ...]  [-4.601e-07 ...]  [ 0.0       ...]  [ 0.0       ...]  [-4.601e-07 ...] \n",
      "dispersion[px]\n",
      "    CellCenter        6.50009e-09       6.50726e-09               0.0               0.0       6.50726e-09 \n",
      "beta[y]\n",
      "    SF2A                  5.40001           5.40001               5.4               5.4       1.21184e-05 \n",
      "    SF2E                  5.39998           5.39999               5.4               5.4      -1.16331e-05 \n",
      "alpha[y]\n",
      "    SF2A                 0.680004          0.680003              0.68              0.68       3.45065e-06 \n",
      "    SF2E                -0.679997         -0.679996             -0.68             -0.68       3.55375e-06 \n",
      "dispersion[x]\n",
      "    SF2A                   0.0882         0.0881956            0.0882            0.0882      -4.40589e-06 \n",
      "    SF2E                   0.0882         0.0881956            0.0882            0.0882      -4.43148e-06 \n",
      "diff(mu2pif)\n",
      "                 [ 0.4972    ...]  [ 0.4972    ...]  [ 0.4972    ...]  [ 0.4972    ...]  [-2.133e-06 ...] \n",
      "\n",
      "Variables:\n",
      "\n",
      "        Name      Initial          Final        Variation\n",
      "\n",
      "        QF1*    2.539460e+00    2.532112e+00   -7.347820e-03\n",
      "        QD2*   -2.672025e+00   -2.651372e+00    2.065283e-02\n",
      "        QD3*   -2.404266e+00   -2.415255e+00   -1.098899e-02\n",
      "        QF4*    2.429986e+00    2.430280e+00    2.937240e-04\n",
      "        QD5*   -2.704501e+00   -2.704692e+00   -1.911462e-04\n",
      "        QF6*    4.464541e+00    4.464754e+00    2.133373e-04\n",
      "        QF8*    4.425467e+00    4.425392e+00   -7.464729e-05\n"
     ]
    }
   ],
   "source": [
    "newring = match(ring, variables, obs, copy=True)"
   ]
  }
 ],
 "metadata": {
  "kernelspec": {
   "display_name": "Python 3 (ipykernel)",
   "language": "python",
   "name": "python3"
  },
  "language_info": {
   "codemirror_mode": {
    "name": "ipython",
    "version": 3
   },
   "file_extension": ".py",
   "mimetype": "text/x-python",
   "name": "python",
   "nbconvert_exporter": "python",
   "pygments_lexer": "ipython3",
   "version": "3.11.12"
  },
  "mystnb": {
   "merge_streams": true
  }
 },
 "nbformat": 4,
 "nbformat_minor": 5
}
