{
 "cells": [
  {
   "cell_type": "markdown",
   "id": "b3c94f57-7a41-4600-af2b-b2a0034ffe31",
   "metadata": {},
   "source": [
    "# Observables\n",
    "\n",
    "This example shows how to declare various Observables, how to evaluate them and how to extract and display their values.\n",
    "\n",
    "## Setup the environment"
   ]
  },
  {
   "cell_type": "code",
   "execution_count": 1,
   "id": "c44ec0ec-f0c7-476b-8de5-ac1d8b174dc0",
   "metadata": {
    "editable": true,
    "slideshow": {
     "slide_type": ""
    },
    "tags": []
   },
   "outputs": [],
   "source": [
    "import at\n",
    "import sys\n",
    "import numpy as np\n",
    "if sys.version_info.minor < 9:\n",
    "    from importlib_resources import files, as_file\n",
    "else:\n",
    "    from importlib.resources import files, as_file"
   ]
  },
  {
   "cell_type": "code",
   "execution_count": 2,
   "id": "6e2a6c6c-7460-45f6-a217-e5a07f7afb8d",
   "metadata": {
    "tags": []
   },
   "outputs": [],
   "source": [
    "from at import Observable, ObservableList, OrbitObservable, GlobalOpticsObservable, LocalOpticsObservable\n",
    "from at import MatrixObservable, TrajectoryObservable, EmittanceObservable, LatticeObservable, GeometryObservable"
   ]
  },
  {
   "cell_type": "markdown",
   "id": "19a61c12-f62e-4114-9d87-1b3d19233991",
   "metadata": {
    "editable": true,
    "slideshow": {
     "slide_type": ""
    },
    "tags": []
   },
   "source": [
    "## Load a test lattice"
   ]
  },
  {
   "cell_type": "code",
   "execution_count": 3,
   "id": "8bccc37e-3070-4b62-bdda-4da603b48a34",
   "metadata": {
    "editable": true,
    "slideshow": {
     "slide_type": ""
    },
    "tags": []
   },
   "outputs": [],
   "source": [
    "fname = 'hmba.mat'\n",
    "with as_file(files('machine_data') / fname) as path:\n",
    "    hmba_lattice = at.load_lattice(path)"
   ]
  },
  {
   "cell_type": "markdown",
   "id": "3dedb508-981a-4c25-9dc0-5c0b2b25a561",
   "metadata": {},
   "source": [
    "## Create Observables\n",
    "\n",
    "Create an empty ObservableList:"
   ]
  },
  {
   "cell_type": "code",
   "execution_count": 4,
   "id": "b6b6d2e5-842a-400d-87ff-d34b131921d1",
   "metadata": {
    "tags": []
   },
   "outputs": [],
   "source": [
    "obs1=ObservableList(hmba_lattice)"
   ]
  },
  {
   "cell_type": "markdown",
   "id": "7fe3c40f-8eb2-4fbb-96d7-e20bf1424f63",
   "metadata": {},
   "source": [
    "Horizontal closed orbit on all Monitors:"
   ]
  },
  {
   "cell_type": "code",
   "execution_count": 5,
   "id": "99e48ce2-1336-4617-9114-cd15e9a3966d",
   "metadata": {
    "tags": []
   },
   "outputs": [],
   "source": [
    "obs1.append(OrbitObservable(at.Monitor, axis='x'))"
   ]
  },
  {
   "cell_type": "markdown",
   "id": "c29bc37a-8d3a-4330-b6c2-94408255e7c2",
   "metadata": {},
   "source": [
    "Create a 2{sup}`nd` ObservableList:"
   ]
  },
  {
   "cell_type": "code",
   "execution_count": 6,
   "id": "559a78af-bb1f-4555-99f7-be0cd55f75d4",
   "metadata": {
    "tags": []
   },
   "outputs": [],
   "source": [
    "obs2=ObservableList(hmba_lattice)"
   ]
  },
  {
   "cell_type": "markdown",
   "id": "d1216c95-a8e8-4ae5-b61e-b18fe0582d22",
   "metadata": {},
   "source": [
    "Vertical $\\beta$ at all monitors, with a target and bounds.\n",
    "\n",
    "The vertical $\\beta$ is constrained in the interval\n",
    "[*target*+*low_bound* *target*+*up_bound*], so here [*-Infinity 7.0*]\n",
    "\n",
    "The residual will be zero within the interval."
   ]
  },
  {
   "cell_type": "code",
   "execution_count": 7,
   "id": "2c237c62-3b4f-4864-bea3-93325a8a7fce",
   "metadata": {
    "tags": []
   },
   "outputs": [],
   "source": [
    "obs2.append(LocalOpticsObservable(at.Monitor, 'beta', plane=1, target=7.0, bounds=(-np.inf, 0.0)))"
   ]
  },
  {
   "cell_type": "markdown",
   "id": "900683b5-6c61-427c-901d-edb22390738f",
   "metadata": {
    "tags": []
   },
   "source": [
    "check the concatenation of ObservableLists:"
   ]
  },
  {
   "cell_type": "code",
   "execution_count": 8,
   "id": "99f87e5c-c004-423f-af52-7b77ff1f745d",
   "metadata": {
    "tags": []
   },
   "outputs": [],
   "source": [
    "allobs = obs1 + obs2"
   ]
  },
  {
   "cell_type": "markdown",
   "id": "7cee0839-8b64-4c65-bb85-869062ad168a",
   "metadata": {},
   "source": [
    "Full transfer matrix to `BPM02`:"
   ]
  },
  {
   "cell_type": "code",
   "execution_count": 9,
   "id": "828dd898-810e-4653-b717-fe955bed6bab",
   "metadata": {},
   "outputs": [],
   "source": [
    "allobs.append(MatrixObservable(\"BPM_02\"))"
   ]
  },
  {
   "cell_type": "markdown",
   "id": "32e2c4af-dd58-4c67-a767-a585bf110fa1",
   "metadata": {},
   "source": [
    "Maximum of vertical beta on monitors:"
   ]
  },
  {
   "cell_type": "code",
   "execution_count": 10,
   "id": "7c763bd9-0299-47e0-9979-fae6ae230979",
   "metadata": {},
   "outputs": [],
   "source": [
    "allobs.append(LocalOpticsObservable(at.Monitor, 'beta', plane='v', statfun=np.amax))"
   ]
  },
  {
   "cell_type": "markdown",
   "id": "8907cbd5-05d4-4775-a089-9f062b271394",
   "metadata": {},
   "source": [
    "First 4 coordinates of the closed orbit at Quadrupoles:"
   ]
  },
  {
   "cell_type": "code",
   "execution_count": 11,
   "id": "d9ddeb7c-ea88-4d09-8333-753ad4e0d8e4",
   "metadata": {},
   "outputs": [],
   "source": [
    "allobs.append(LocalOpticsObservable(at.Quadrupole, 'closed_orbit', plane=slice(4), target=0.0, weight=1.e-6))"
   ]
  },
  {
   "cell_type": "markdown",
   "id": "5b3f80a0-f7ea-48c4-bafb-03e89c04e4e0",
   "metadata": {},
   "source": [
    "Position along the lattice of all quadrupoles:"
   ]
  },
  {
   "cell_type": "code",
   "execution_count": 12,
   "id": "7b3e32e8-5fd6-4d42-a92f-1691bdc330cf",
   "metadata": {
    "editable": true,
    "slideshow": {
     "slide_type": ""
    },
    "tags": []
   },
   "outputs": [],
   "source": [
    "allobs.append(LocalOpticsObservable(at.Quadrupole, 's_pos'))"
   ]
  },
  {
   "cell_type": "markdown",
   "id": "c630e18c-8e32-499a-b45a-d19f76b441fe",
   "metadata": {},
   "source": [
    "Phase advance between elements 33 and 101 in all planes.\n",
    "\n",
    "First define a custom evaluation function:"
   ]
  },
  {
   "cell_type": "code",
   "execution_count": 13,
   "id": "e9c41097-7d89-4f3f-85cd-aff7aa9a84df",
   "metadata": {},
   "outputs": [],
   "source": [
    "def phase_advance(ring, elemdata):\n",
    "    mu = elemdata.mu\n",
    "    return (mu[-1] - mu[0])"
   ]
  },
  {
   "cell_type": "markdown",
   "id": "a19eca9f-fa1f-4a5f-8558-d7d19b58042b",
   "metadata": {},
   "source": [
    "Then create the constraints.\n",
    "\n",
    "The evaluation should return one value per refpoint (2 here). Alternatively, it may return a single\n",
    "value, but then one must set `summary=True`."
   ]
  },
  {
   "cell_type": "code",
   "execution_count": 14,
   "id": "185b505f-1bea-4c72-baee-3a24d1a5bb8d",
   "metadata": {},
   "outputs": [],
   "source": [
    "allobs.append(LocalOpticsObservable([33, 101], phase_advance, use_integer=True, summary=True))"
   ]
  },
  {
   "cell_type": "markdown",
   "id": "2f2a5e1a-f45d-4e6d-a27b-5565d784da44",
   "metadata": {},
   "source": [
    "Horizontal tune with the integer part:"
   ]
  },
  {
   "cell_type": "code",
   "execution_count": 15,
   "id": "7263d336-7e84-47f2-a949-ed79a13635aa",
   "metadata": {},
   "outputs": [],
   "source": [
    "allobs.append(GlobalOpticsObservable('tune', plane=0, use_integer=True))"
   ]
  },
  {
   "cell_type": "markdown",
   "id": "43050abf-9a4c-4d86-b358-b7b22dfd4c1f",
   "metadata": {},
   "source": [
    "Total phase advance at the end of the lattice (all planes):"
   ]
  },
  {
   "cell_type": "code",
   "execution_count": 16,
   "id": "265be4dd-b67c-4188-a3e4-15c1e4eac3e4",
   "metadata": {},
   "outputs": [],
   "source": [
    "allobs.append(LocalOpticsObservable(at.End, 'mu', use_integer=True))"
   ]
  },
  {
   "cell_type": "markdown",
   "id": "b2d9ed85-db9b-4ab7-9425-53d20b703eae",
   "metadata": {},
   "source": [
    "Chromaticity in all planes:"
   ]
  },
  {
   "cell_type": "code",
   "execution_count": 17,
   "id": "28949857-7e9c-499c-ba69-e900932683fd",
   "metadata": {},
   "outputs": [],
   "source": [
    "allobs.append(GlobalOpticsObservable('chromaticity', plane=None))"
   ]
  },
  {
   "cell_type": "markdown",
   "id": "8cbe4399-5670-4fd2-b745-3b1e8f9eb5b1",
   "metadata": {},
   "source": [
    "Average of sextupole strengths:"
   ]
  },
  {
   "cell_type": "code",
   "execution_count": 18,
   "id": "e271c5ad-e6c8-4c8a-a66b-671711db3832",
   "metadata": {},
   "outputs": [],
   "source": [
    "allobs.append(LatticeObservable(at.Sextupole, 'H', statfun=np.mean))"
   ]
  },
  {
   "cell_type": "markdown",
   "id": "9ddd860b-c3f9-4c49-839b-64b5f478a9b5",
   "metadata": {},
   "source": [
    "Average of sextupole strengths:"
   ]
  },
  {
   "cell_type": "code",
   "execution_count": 19,
   "id": "d68df47a-4215-489c-8975-9748b592b949",
   "metadata": {
    "tags": []
   },
   "outputs": [],
   "source": [
    "allobs.append(LatticeObservable(at.Sextupole, 'PolynomB', index=2))"
   ]
  },
  {
   "cell_type": "markdown",
   "id": "7339554d-c12f-49fb-aade-47691bb5bbce",
   "metadata": {},
   "source": [
    "Horizontal emittance:"
   ]
  },
  {
   "cell_type": "code",
   "execution_count": 20,
   "id": "47ce8596-266c-4944-82d8-f186e34f09b8",
   "metadata": {},
   "outputs": [],
   "source": [
    "allobs.append(EmittanceObservable('emittances', plane='x'))"
   ]
  },
  {
   "cell_type": "markdown",
   "id": "862e9a69-f018-4350-af40-89ae79e8ef39",
   "metadata": {},
   "source": [
    "Ring circumference:"
   ]
  },
  {
   "cell_type": "code",
   "execution_count": 21,
   "id": "f6844781-ee09-4ab6-979b-9fea8034bb7d",
   "metadata": {},
   "outputs": [],
   "source": [
    "def circumference(ring):\n",
    "    return ring.get_s_pos(len(ring))[0]\n",
    "allobs.append(Observable(circumference))"
   ]
  },
  {
   "cell_type": "markdown",
   "id": "510ebd1a-eb20-43ad-9b74-d79fee8047a4",
   "metadata": {},
   "source": [
    "p{sub}`x` component of the trajectory on all monitors:"
   ]
  },
  {
   "cell_type": "code",
   "execution_count": 22,
   "id": "40a0895a-9aac-4509-86dd-9fb1f84a4e84",
   "metadata": {},
   "outputs": [],
   "source": [
    "allobs.append(TrajectoryObservable(at.Monitor,axis='px'))"
   ]
  },
  {
   "cell_type": "code",
   "execution_count": 24,
   "id": "fef988a4-1413-4478-a8da-8c865b27d74b",
   "metadata": {},
   "outputs": [],
   "source": [
    "allobs.append(GeometryObservable(at.Monitor, 'x'))"
   ]
  },
  {
   "cell_type": "markdown",
   "id": "48167f3a-24fa-4963-97ec-1e78033f8895",
   "metadata": {},
   "source": [
    "## Evaluation\n",
    "\n",
    "An input trajectory is required for the trajectory Observable"
   ]
  },
  {
   "cell_type": "code",
   "execution_count": 25,
   "id": "f78c247c-0228-499f-9455-0f39c57ff6fd",
   "metadata": {},
   "outputs": [],
   "source": [
    "r_in = np.zeros(6)\n",
    "r_in[0] = 0.001\n",
    "r_in[2] = 0.001\n",
    "allobs.evaluate(hmba_lattice.enable_6d(copy=True), r_in=r_in, dp=0.0, initial=True)"
   ]
  },
  {
   "cell_type": "markdown",
   "id": "637f7487-80e1-4ca7-af5f-a490be880c90",
   "metadata": {},
   "source": [
    "Extract a single Observable value (phase advance between elements 3 and 101):"
   ]
  },
  {
   "cell_type": "code",
   "execution_count": 26,
   "id": "582b7317-5527-4afd-ad8c-278f0408dd11",
   "metadata": {
    "tags": []
   },
   "outputs": [
    {
     "data": {
      "text/plain": [
       "array([9.38969042e+00, 2.99742405e+00, 1.40412855e-14])"
      ]
     },
     "execution_count": 26,
     "metadata": {},
     "output_type": "execute_result"
    }
   ],
   "source": [
    "allobs[6].value"
   ]
  },
  {
   "cell_type": "markdown",
   "id": "f9a17436-c827-47f7-8eb2-85ce9637c734",
   "metadata": {},
   "source": [
    "Get the list of all Observable values:"
   ]
  },
  {
   "cell_type": "code",
   "execution_count": 27,
   "id": "edfba8ca-ee8f-4064-9076-d2bc469739a4",
   "metadata": {},
   "outputs": [
    {
     "data": {
      "text/plain": [
       "[array([-3.02189723e-09,  4.50695010e-07,  4.08205708e-07,  2.37899777e-08,\n",
       "        -1.31783789e-08,  2.47230566e-08, -2.95310962e-08, -4.05598220e-07,\n",
       "        -4.47398212e-07, -2.24850930e-09]),\n",
       " array([5.30279703, 7.17604152, 6.55087808, 2.31448878, 3.40498445,\n",
       "        3.405044  , 2.3146451 , 6.55106241, 7.17614175, 5.30283837]),\n",
       " array([[[-1.08194106e+00,  3.18809568e+00,  0.00000000e+00,\n",
       "           0.00000000e+00,  8.22407787e-02, -1.72158979e-05],\n",
       "         [-6.80522735e-01,  1.08099571e+00,  0.00000000e+00,\n",
       "           0.00000000e+00,  4.90131193e-02, -1.02601760e-05],\n",
       "         [ 0.00000000e+00,  0.00000000e+00,  7.55929650e-01,\n",
       "           3.87059271e+00,  0.00000000e+00,  0.00000000e+00],\n",
       "         [ 0.00000000e+00,  0.00000000e+00, -6.79279293e-01,\n",
       "          -2.15524755e+00,  0.00000000e+00,  0.00000000e+00],\n",
       "         [-1.13309009e-08, -1.08615600e-07,  0.00000000e+00,\n",
       "           0.00000000e+00,  9.99995907e-01, -2.09334442e-04],\n",
       "         [ 2.93742206e-03,  6.73567963e-02,  0.00000000e+00,\n",
       "           0.00000000e+00,  2.83582558e-04,  9.99999941e-01]]]),\n",
       " 7.176141753295557,\n",
       " array([[-3.02810319e-09, -1.45845183e-10,  0.00000000e+00,\n",
       "          0.00000000e+00],\n",
       "        [-1.78478316e-09,  2.17266708e-09,  0.00000000e+00,\n",
       "          0.00000000e+00],\n",
       "        [ 2.06038228e-07,  1.68970687e-07,  0.00000000e+00,\n",
       "          0.00000000e+00],\n",
       "        [ 4.63461827e-07,  2.65112155e-07,  0.00000000e+00,\n",
       "          0.00000000e+00],\n",
       "        [ 4.92846847e-07, -2.48829214e-09,  0.00000000e+00,\n",
       "          0.00000000e+00],\n",
       "        [ 2.39068148e-07, -2.69323468e-07,  0.00000000e+00,\n",
       "          0.00000000e+00],\n",
       "        [ 2.24947413e-08, -2.55612556e-08,  0.00000000e+00,\n",
       "          0.00000000e+00],\n",
       "        [-2.95803326e-08, -2.51343244e-08,  0.00000000e+00,\n",
       "          0.00000000e+00],\n",
       "        [ 3.86437699e-08,  4.66071902e-08,  0.00000000e+00,\n",
       "          0.00000000e+00],\n",
       "        [-1.14693229e-08, -5.89624819e-08,  0.00000000e+00,\n",
       "          0.00000000e+00],\n",
       "        [-1.92472337e-07, -1.36142888e-07,  0.00000000e+00,\n",
       "          0.00000000e+00],\n",
       "        [-4.58527547e-07, -2.67107467e-07,  0.00000000e+00,\n",
       "          0.00000000e+00],\n",
       "        [-4.90185629e-07, -2.06357872e-09,  0.00000000e+00,\n",
       "          0.00000000e+00],\n",
       "        [-2.42425126e-07,  2.63615764e-07,  0.00000000e+00,\n",
       "          0.00000000e+00],\n",
       "        [-8.04954316e-10, -1.24373421e-09,  0.00000000e+00,\n",
       "          0.00000000e+00],\n",
       "        [-1.92735225e-09, -1.83198298e-09,  0.00000000e+00,\n",
       "          0.00000000e+00]]),\n",
       " array([ 2.693952  ,  3.4295565 ,  5.52309303,  6.52741246,  7.08941246,\n",
       "         8.14326589, 10.34278161, 11.93982486, 13.94182609, 15.63285034,\n",
       "        18.00333506, 19.05718849, 19.61918849, 20.67257592, 22.71704445,\n",
       "        23.36843995]),\n",
       " array([9.38969042e+00, 2.99742405e+00, 1.40412855e-14]),\n",
       " 2.3815630185798566,\n",
       " array([[1.49638018e+01, 5.36820522e+00, 6.85248782e-04]]),\n",
       " array([1.79196871e-01, 1.22425546e-01, 1.69458465e-04]),\n",
       " -25.369212247139345,\n",
       " array([-78.95535579,  77.03724443, -74.18952538, -74.18952538,\n",
       "         77.03724443, -78.95535579]),\n",
       " 1.3203910509097569e-10,\n",
       " 26.374287952316944,\n",
       " array([ 0.00000000e+00, -6.94370474e-04,  6.07151649e-04,  2.38468291e-04,\n",
       "        -6.81824078e-04, -4.78921797e-04,  4.41491589e-04,  7.01582199e-04,\n",
       "        -6.05543962e-04, -9.78684823e-05]),\n",
       " array([ 2.6514    ,  6.4783308 ,  7.51380991, 10.28830988, 12.71979153,\n",
       "        13.62739043, 16.04912109, 18.79203055, 19.81402164, 23.58054559])]"
      ]
     },
     "execution_count": 27,
     "metadata": {},
     "output_type": "execute_result"
    }
   ],
   "source": [
    "allobs.values"
   ]
  },
  {
   "cell_type": "markdown",
   "id": "22eb2441-39d9-432d-ae3d-fdee153f49cb",
   "metadata": {},
   "source": [
    "Get a pretty output of all Observables.\n",
    "\n",
    "As no variation was made, *Actual* values are always equal to *Initial* values.\n",
    "\n",
    "The residual is zero for all Observables for which no *target* was specified"
   ]
  },
  {
   "cell_type": "code",
   "execution_count": null,
   "id": "6126bf27-37e9-4c20-8997-c82ba9fad5b1",
   "metadata": {
    "tags": []
   },
   "outputs": [],
   "source": [
    "print(allobs)"
   ]
  }
 ],
 "metadata": {
  "kernelspec": {
   "display_name": "Python 3 (ipykernel)",
   "language": "python",
   "name": "python3"
  },
  "language_info": {
   "codemirror_mode": {
    "name": "ipython",
    "version": 3
   },
   "file_extension": ".py",
   "mimetype": "text/x-python",
   "name": "python",
   "nbconvert_exporter": "python",
   "pygments_lexer": "ipython3",
   "version": "3.9.16"
  }
 },
 "nbformat": 4,
 "nbformat_minor": 5
}
