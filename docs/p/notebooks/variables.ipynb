{
 "cells": [
  {
   "cell_type": "code",
   "execution_count": 1,
   "id": "bc479f4a-a609-468f-a430-d71ad22b5cf2",
   "metadata": {
    "editable": true,
    "slideshow": {
     "slide_type": ""
    },
    "tags": [
     "remove-cell"
    ]
   },
   "outputs": [],
   "source": [
    "import at\n",
    "import sys\n",
    "if sys.version_info.minor < 9:\n",
    "    from importlib_resources import files, as_file\n",
    "else:\n",
    "    from importlib.resources import files, as_file"
   ]
  },
  {
   "cell_type": "code",
   "execution_count": 2,
   "id": "e9955365-2514-4915-a2e4-5a6b26c1beb0",
   "metadata": {
    "editable": true,
    "slideshow": {
     "slide_type": ""
    },
    "tags": [
     "remove-cell"
    ]
   },
   "outputs": [],
   "source": [
    "fname = 'hmba.mat'\n",
    "with as_file(files('machine_data') / fname) as path:\n",
    "    ring = at.load_lattice(path)"
   ]
  },
  {
   "cell_type": "code",
   "execution_count": 3,
   "id": "d993e922-806d-42fc-a793-51e8c5e82995",
   "metadata": {},
   "outputs": [],
   "source": [
    "from at.future import ElementVariable, RefptsVariable"
   ]
  },
  {
   "cell_type": "markdown",
   "id": "ba73f6c0-aa60-4ced-8158-dfddcade4bd9",
   "metadata": {
    "editable": true,
    "slideshow": {
     "slide_type": ""
    },
    "tags": []
   },
   "source": [
    "# Variables\n",
    "\n",
    "Variables are **references** to any scalar quantity. Predefined classes are available\n",
    "for accessing any scalar attribute of an element, or any item of an array attribute.\n",
    "\n",
    "Any other quantity may be accessed by either subclassing the {py:class}`~.variables.Variable`\n",
    "abstract base class, or using a {py:class}`~.variables.CustomVariable`.\n",
    "\n",
    "## {py:class}`~.element_variables.ElementVariable`\n",
    "\n",
    "An {py:class}`~.element_variables.ElementVariable` refers to a single attribute (or item of an array attribute) of one or several {py:class}`.Element` objects.\n",
    "\n",
    "We now create a variable pointing to the length of all QF1 magnets of *ring*:"
   ]
  },
  {
   "cell_type": "code",
   "execution_count": 4,
   "id": "15063c05-ef7f-43ec-88d3-0109c8ea0592",
   "metadata": {
    "editable": true,
    "slideshow": {
     "slide_type": ""
    },
    "tags": []
   },
   "outputs": [
    {
     "name": "stdout",
     "output_type": "stream",
     "text": [
      "lf1: ElementVariable(0.311896, name='lf1')\n",
      "0.311896\n"
     ]
    }
   ],
   "source": [
    "lf1 = ElementVariable(ring[\"QF1[AE]\"], \"Length\", name=\"lf1\")\n",
    "print(f\"lf1: {lf1}\")\n",
    "print(lf1.value)"
   ]
  },
  {
   "cell_type": "markdown",
   "id": "b1271329-08be-4655-8884-77d7eec67558",
   "metadata": {},
   "source": [
    "and another variable pointing to the strength of the same magnets:"
   ]
  },
  {
   "cell_type": "code",
   "execution_count": 5,
   "id": "db5c3831-467a-468b-aca7-648b45c90887",
   "metadata": {
    "editable": true,
    "slideshow": {
     "slide_type": ""
    },
    "tags": []
   },
   "outputs": [
    {
     "name": "stdout",
     "output_type": "stream",
     "text": [
      "kf1: ElementVariable(2.5394599781303304, name='kf1')\n",
      "2.5394599781303304\n"
     ]
    }
   ],
   "source": [
    "kf1 = ElementVariable(ring[\"QF1[AE]\"], \"PolynomB\", index=1, name=\"kf1\")\n",
    "print(\"kf1:\", kf1)\n",
    "print(kf1.value)"
   ]
  },
  {
   "cell_type": "markdown",
   "id": "0a3bf50d-8a18-4372-9d38-d5143da1807c",
   "metadata": {},
   "source": [
    "We can check which elements are concerned by the `kf1` variable. The element container is a set, so that no element may appear twice:"
   ]
  },
  {
   "cell_type": "code",
   "execution_count": 6,
   "id": "5fbe7aa7-3264-4de8-a8d7-439b9b7ace2f",
   "metadata": {},
   "outputs": [
    {
     "data": {
      "text/plain": [
       "{Quadrupole('QF1A', 0.311896, 2.5394599781303304, FringeQuadEntrance=1, FringeQuadExit=1, NumIntSteps=20),\n",
       " Quadrupole('QF1E', 0.311896, 2.5394599781303304, FringeQuadEntrance=1, FringeQuadExit=1, NumIntSteps=20)}"
      ]
     },
     "execution_count": 6,
     "metadata": {},
     "output_type": "execute_result"
    }
   ],
   "source": [
    "kf1.elements"
   ]
  },
  {
   "cell_type": "markdown",
   "id": "648083b2-b16c-44fc-9bf6-f6e79002d8f4",
   "metadata": {},
   "source": [
    "`kf1` drives 2 quadrupoles. Let's look at the 1{sup}`st` one:"
   ]
  },
  {
   "cell_type": "code",
   "execution_count": 7,
   "id": "d686f64a-1855-4b8a-a6f8-63c52ed038bf",
   "metadata": {},
   "outputs": [
    {
     "name": "stdout",
     "output_type": "stream",
     "text": [
      "Quadrupole:\n",
      "\tFamName : QF1A\n",
      "\tLength : 0.311896\n",
      "\tPassMethod : StrMPoleSymplectic4Pass\n",
      "\tNumIntSteps : 20\n",
      "\tFringeQuadEntrance : 1\n",
      "\tFringeQuadExit : 1\n",
      "\tMaxOrder : 1\n",
      "\tPolynomA : [0. 0.]\n",
      "\tPolynomB : [0.         2.53945998]\n",
      "\tK : 2.5394599781303304\n"
     ]
    }
   ],
   "source": [
    "print(ring[5])"
   ]
  },
  {
   "cell_type": "markdown",
   "id": "5dc6ea71-8d0a-4b8e-b00f-bebd0b09a874",
   "metadata": {
    "editable": true,
    "slideshow": {
     "slide_type": ""
    },
    "tags": []
   },
   "source": [
    "We can now change the strength of both QF1 magnets and check again the 1{sup}`st` one:"
   ]
  },
  {
   "cell_type": "code",
   "execution_count": 8,
   "id": "d74f4a63-bacf-4ee4-b42a-de75bfbea193",
   "metadata": {},
   "outputs": [
    {
     "name": "stdout",
     "output_type": "stream",
     "text": [
      "Quadrupole:\n",
      "\tFamName : QF1A\n",
      "\tLength : 0.311896\n",
      "\tPassMethod : StrMPoleSymplectic4Pass\n",
      "\tNumIntSteps : 20\n",
      "\tFringeQuadEntrance : 1\n",
      "\tFringeQuadExit : 1\n",
      "\tMaxOrder : 1\n",
      "\tPolynomA : [0. 0.]\n",
      "\tPolynomB : [0.  2.5]\n",
      "\tK : 2.5\n"
     ]
    }
   ],
   "source": [
    "kf1.set(2.5)\n",
    "print(ring[5])"
   ]
  },
  {
   "cell_type": "markdown",
   "id": "baed19af-fd43-44d3-a5df-965eed43f0eb",
   "metadata": {},
   "source": [
    "We can look at the history of `kf1` values"
   ]
  },
  {
   "cell_type": "code",
   "execution_count": 9,
   "id": "413145df-30e5-4601-b05a-df2b042028ff",
   "metadata": {},
   "outputs": [
    {
     "data": {
      "text/plain": [
       "[2.5394599781303304, 2.5]"
      ]
     },
     "execution_count": 9,
     "metadata": {},
     "output_type": "execute_result"
    }
   ],
   "source": [
    "kf1.history"
   ]
  },
  {
   "cell_type": "markdown",
   "id": "c9b693f9-a04e-4cb6-bbd2-37de0733ccb8",
   "metadata": {},
   "source": [
    "And revert to the initial or previous values:"
   ]
  },
  {
   "cell_type": "code",
   "execution_count": 10,
   "id": "70a1bca4-af2d-49b9-8462-989d47ad1efe",
   "metadata": {},
   "outputs": [
    {
     "name": "stdout",
     "output_type": "stream",
     "text": [
      "Quadrupole:\n",
      "\tFamName : QF1A\n",
      "\tLength : 0.311896\n",
      "\tPassMethod : StrMPoleSymplectic4Pass\n",
      "\tNumIntSteps : 20\n",
      "\tFringeQuadEntrance : 1\n",
      "\tFringeQuadExit : 1\n",
      "\tMaxOrder : 1\n",
      "\tPolynomA : [0. 0.]\n",
      "\tPolynomB : [0.         2.53945998]\n",
      "\tK : 2.5394599781303304\n"
     ]
    }
   ],
   "source": [
    "kf1.set_previous()\n",
    "print(ring[5])"
   ]
  },
  {
   "cell_type": "markdown",
   "id": "c650be51-228a-4ee0-ac73-d741601f992b",
   "metadata": {},
   "source": [
    "An {py:class}`~.element_variables.ElementVariable` is linked to Elements. It will not follow any copy of the element, neither shallow nor deep. So if we make a copy of ring:"
   ]
  },
  {
   "cell_type": "code",
   "execution_count": 11,
   "id": "314c398c-fbbc-43ce-abcc-76ba48cf3c03",
   "metadata": {},
   "outputs": [
    {
     "name": "stdout",
     "output_type": "stream",
     "text": [
      "ring:   2.5394599781303304\n",
      "newring: 2.5394599781303304\n"
     ]
    }
   ],
   "source": [
    "newring = ring.deepcopy()\n",
    "print(f\"ring:   {ring[5].PolynomB[1]}\")\n",
    "print(f\"newring: {newring[5].PolynomB[1]}\")"
   ]
  },
  {
   "cell_type": "markdown",
   "id": "5ea8a7fc-3bb6-4d18-8656-a8f45755c932",
   "metadata": {},
   "source": [
    "and modify the `kf1` variable:"
   ]
  },
  {
   "cell_type": "code",
   "execution_count": 12,
   "id": "8458ab19-3be1-427c-a55d-0ccb029c9f26",
   "metadata": {},
   "outputs": [],
   "source": [
    "kf1.set(2.6)"
   ]
  },
  {
   "cell_type": "code",
   "execution_count": 13,
   "id": "f4c1e653-eeaf-4fd5-be08-2a488bd7df9d",
   "metadata": {
    "editable": true,
    "slideshow": {
     "slide_type": ""
    },
    "tags": []
   },
   "outputs": [
    {
     "name": "stdout",
     "output_type": "stream",
     "text": [
      "ring:   2.6\n",
      "newring: 2.5394599781303304\n"
     ]
    }
   ],
   "source": [
    "print(f\"ring:   {ring[5].PolynomB[1]}\")\n",
    "print(f\"newring: {newring[5].PolynomB[1]}\")"
   ]
  },
  {
   "cell_type": "markdown",
   "id": "e2c5b959-448a-425f-bf54-f33b8d189330",
   "metadata": {
    "editable": true,
    "slideshow": {
     "slide_type": ""
    },
    "tags": []
   },
   "source": [
    "The QF1 in newring is not affected.\n",
    "\n",
    "One can set upper and lower bounds on a variable. Trying to set a value out of the bounds will raise a {py:obj}`ValueError`. The default is (-{py:obj}`numpy.inf`, {py:obj}`numpy.inf`)."
   ]
  },
  {
   "cell_type": "code",
   "execution_count": 14,
   "id": "738f6c51-2968-4d77-8599-261e7998d52b",
   "metadata": {
    "editable": true,
    "slideshow": {
     "slide_type": ""
    },
    "tags": []
   },
   "outputs": [],
   "source": [
    "lfbound = ElementVariable(ring[\"QF1[AE]\"], \"Length\", bounds=(0.30, 0.35))"
   ]
  },
  {
   "cell_type": "code",
   "execution_count": 15,
   "id": "ba4e728e-fa3e-4d71-9dcb-658d240fd61c",
   "metadata": {
    "editable": true,
    "slideshow": {
     "slide_type": ""
    },
    "tags": [
     "raises-exception"
    ]
   },
   "outputs": [
    {
     "ename": "ValueError",
     "evalue": "set value must be in (0.3, 0.35)",
     "output_type": "error",
     "traceback": [
      "\u001b[0;31m---------------------------------------------------------------------------\u001b[0m",
      "\u001b[0;31mValueError\u001b[0m                                Traceback (most recent call last)",
      "Cell \u001b[0;32mIn[15], line 1\u001b[0m\n\u001b[0;32m----> 1\u001b[0m \u001b[43mlfbound\u001b[49m\u001b[38;5;241;43m.\u001b[39;49m\u001b[43mset\u001b[49m\u001b[43m(\u001b[49m\u001b[38;5;241;43m0.2\u001b[39;49m\u001b[43m)\u001b[49m\n",
      "File \u001b[0;32m~/dev/libraries/at/pyat/at/lattice/variables.py:235\u001b[0m, in \u001b[0;36mVariable.set\u001b[0;34m(self, value, **kwargs)\u001b[0m\n\u001b[1;32m    229\u001b[0m \u001b[38;5;250m\u001b[39m\u001b[38;5;124;03m\"\"\"Set the variable value\u001b[39;00m\n\u001b[1;32m    230\u001b[0m \n\u001b[1;32m    231\u001b[0m \u001b[38;5;124;03mArgs:\u001b[39;00m\n\u001b[1;32m    232\u001b[0m \u001b[38;5;124;03m    value:  New value to be applied on the variable\u001b[39;00m\n\u001b[1;32m    233\u001b[0m \u001b[38;5;124;03m\"\"\"\u001b[39;00m\n\u001b[1;32m    234\u001b[0m \u001b[38;5;28;01mif\u001b[39;00m value \u001b[38;5;241m<\u001b[39m \u001b[38;5;28mself\u001b[39m\u001b[38;5;241m.\u001b[39mbounds[\u001b[38;5;241m0\u001b[39m] \u001b[38;5;129;01mor\u001b[39;00m value \u001b[38;5;241m>\u001b[39m \u001b[38;5;28mself\u001b[39m\u001b[38;5;241m.\u001b[39mbounds[\u001b[38;5;241m1\u001b[39m]:\n\u001b[0;32m--> 235\u001b[0m     \u001b[38;5;28;01mraise\u001b[39;00m \u001b[38;5;167;01mValueError\u001b[39;00m(\u001b[38;5;124mf\u001b[39m\u001b[38;5;124m\"\u001b[39m\u001b[38;5;124mset value must be in \u001b[39m\u001b[38;5;132;01m{\u001b[39;00m\u001b[38;5;28mself\u001b[39m\u001b[38;5;241m.\u001b[39mbounds\u001b[38;5;132;01m}\u001b[39;00m\u001b[38;5;124m\"\u001b[39m)\n\u001b[1;32m    236\u001b[0m \u001b[38;5;28mself\u001b[39m\u001b[38;5;241m.\u001b[39m_setfun(value, \u001b[38;5;241m*\u001b[39m\u001b[38;5;241m*\u001b[39mkwargs)\n\u001b[1;32m    237\u001b[0m \u001b[38;5;28mself\u001b[39m\u001b[38;5;241m.\u001b[39m_history\u001b[38;5;241m.\u001b[39mappend(value)\n",
      "\u001b[0;31mValueError\u001b[0m: set value must be in (0.3, 0.35)"
     ]
    }
   ],
   "source": [
    "lfbound.set(0.2)"
   ]
  },
  {
   "cell_type": "markdown",
   "id": "ef061e87-74e7-446d-b93c-a5c84269ce0c",
   "metadata": {
    "editable": true,
    "slideshow": {
     "slide_type": ""
    },
    "tags": []
   },
   "source": [
    "Variables also accept a *step* keyword argument. Its value is used as the initial step in matching, and in the {py:meth}`~.variables.Variable.step_up` and {py:meth}`~.variables.Variable.step_down` methods."
   ]
  },
  {
   "cell_type": "markdown",
   "id": "7ee77711-5ae6-4e9c-8fa6-78dcbf8d21ca",
   "metadata": {
    "editable": true,
    "slideshow": {
     "slide_type": ""
    },
    "tags": []
   },
   "source": [
    "## {py:class}`.RefptsVariable`\n",
    "\n",
    "An {py:class}`.RefptsVariable` is similar to an {py:class}`~.element_variables.ElementVariable` but it is not associated with an {py:class}`~.Element`\n",
    "itself, but with its location in a Lattice. So it will act on any lattice with the same elements.\n",
    "\n",
    "But it needs a *ring* keyword in its *set* and *get* methods, to identify the selected lattice."
   ]
  },
  {
   "cell_type": "code",
   "execution_count": 16,
   "id": "8cd07413-331c-4b93-b160-cb896c23cc1e",
   "metadata": {},
   "outputs": [],
   "source": [
    "kf2 = RefptsVariable(\"QF1[AE]\", \"PolynomB\", index=1, name=\"kf2\")"
   ]
  },
  {
   "cell_type": "markdown",
   "id": "fa01f10a-02d5-49f8-b00d-92651227db35",
   "metadata": {},
   "source": [
    "We can now use this variable on the two rings:"
   ]
  },
  {
   "cell_type": "code",
   "execution_count": 17,
   "id": "8f7b53ee-1d3a-4591-afa5-ec11fefcef8a",
   "metadata": {},
   "outputs": [],
   "source": [
    "kf2.set(2.55, ring=ring)\n",
    "kf2.set(2.45, ring=newring)"
   ]
  },
  {
   "cell_type": "code",
   "execution_count": 18,
   "id": "a2c16507-5153-4ff0-a27c-5a292c3b78f4",
   "metadata": {},
   "outputs": [
    {
     "name": "stdout",
     "output_type": "stream",
     "text": [
      "ring:   2.55\n",
      "newring: 2.45\n"
     ]
    }
   ],
   "source": [
    "print(f\"ring:   {ring[5].PolynomB[1]}\")\n",
    "print(f\"newring: {newring[5].PolynomB[1]}\")"
   ]
  },
  {
   "cell_type": "markdown",
   "id": "204d24e6-1e9b-4838-a950-3a8e1df5cac4",
   "metadata": {
    "editable": true,
    "slideshow": {
     "slide_type": ""
    },
    "tags": []
   },
   "source": [
    "## Custom variables"
   ]
  }
 ],
 "metadata": {
  "kernelspec": {
   "display_name": "Python 3 (ipykernel)",
   "language": "python",
   "name": "python3"
  },
  "language_info": {
   "codemirror_mode": {
    "name": "ipython",
    "version": 3
   },
   "file_extension": ".py",
   "mimetype": "text/x-python",
   "name": "python",
   "nbconvert_exporter": "python",
   "pygments_lexer": "ipython3",
   "version": "3.9.18"
  }
 },
 "nbformat": 4,
 "nbformat_minor": 5
}
