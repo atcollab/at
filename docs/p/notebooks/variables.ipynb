{
 "cells": [
  {
   "cell_type": "code",
   "execution_count": null,
   "id": "bc479f4a-a609-468f-a430-d71ad22b5cf2",
   "metadata": {},
   "outputs": [],
   "source": [
    "import at\n",
    "import sys\n",
    "if sys.version_info.minor < 9:\n",
    "    from importlib_resources import files, as_file\n",
    "else:\n",
    "    from importlib.resources import files, as_file"
   ]
  },
  {
   "cell_type": "code",
   "execution_count": null,
   "id": "e9955365-2514-4915-a2e4-5a6b26c1beb0",
   "metadata": {
    "editable": true,
    "slideshow": {
     "slide_type": ""
    },
    "tags": []
   },
   "outputs": [],
   "source": [
    "fname = 'hmba.mat'\n",
    "with as_file(files('machine_data') / fname) as path:\n",
    "    ring = at.load_lattice(path)"
   ]
  },
  {
   "cell_type": "markdown",
   "id": "ba73f6c0-aa60-4ced-8158-dfddcade4bd9",
   "metadata": {},
   "source": [
    "# Variables\n",
    "\n",
    "Variables are **references** to any scalar quantity."
   ]
  }
 ],
 "metadata": {
  "kernelspec": {
   "display_name": "Python 3 (ipykernel)",
   "language": "python",
   "name": "python3"
  },
  "language_info": {
   "codemirror_mode": {
    "name": "ipython",
    "version": 3
   },
   "file_extension": ".py",
   "mimetype": "text/x-python",
   "name": "python",
   "nbconvert_exporter": "python",
   "pygments_lexer": "ipython3",
   "version": "3.9.18"
  }
 },
 "nbformat": 4,
 "nbformat_minor": 5
}
