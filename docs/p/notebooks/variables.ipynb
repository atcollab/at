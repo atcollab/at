{
 "cells": [
  {
   "cell_type": "code",
   "execution_count": 1,
   "id": "bc479f4a-a609-468f-a430-d71ad22b5cf2",
   "metadata": {
    "editable": true,
    "slideshow": {
     "slide_type": ""
    },
    "tags": []
   },
   "outputs": [],
   "source": [
    "import at\n",
    "import sys\n",
    "from importlib.resources import files, as_file\n",
    "import numpy as np"
   ]
  },
  {
   "cell_type": "code",
   "execution_count": 2,
   "id": "d993e922-806d-42fc-a793-51e8c5e82995",
   "metadata": {},
   "outputs": [],
   "source": [
    "from at.future import VariableBase, ElementVariable, RefptsVariable, CustomVariable"
   ]
  },
  {
   "cell_type": "markdown",
   "id": "ba73f6c0-aa60-4ced-8158-dfddcade4bd9",
   "metadata": {
    "editable": true,
    "slideshow": {
     "slide_type": ""
    },
    "tags": []
   },
   "source": [
    "# Variables\n",
    "\n",
    "Variables are **references** to any scalar quantity. Predefined classes are available\n",
    "for accessing any scalar attribute of an element, or any item of an array attribute.\n",
    "\n",
    "Any other quantity may be accessed by either subclassing the {py:class}`~.variables.VariableBase`\n",
    "abstract base class, or by using a {py:class}`~.variables.CustomVariable`.\n",
    "\n",
    "## {py:class}`~.lattice_variables.ElementVariable`\n",
    "\n",
    "An {py:class}`~.lattice_variables.ElementVariable` refers to a single attribute (or item of an array attribute) of one or several {py:class}`.Element` objects.\n",
    "\n",
    "We now create a variable pointing to the length of a QF1 magnet:"
   ]
  },
  {
   "cell_type": "code",
   "execution_count": null,
   "id": "d42d5dc7-f40a-4d49-be7b-3fcf5e1e18ea",
   "metadata": {},
   "outputs": [],
   "source": []
  },
  {
   "cell_type": "code",
   "execution_count": 3,
   "id": "99fe5abf-a4d5-48c7-b99a-fb8fd8208699",
   "metadata": {
    "editable": true,
    "slideshow": {
     "slide_type": ""
    },
    "tags": []
   },
   "outputs": [
    {
     "name": "stdout",
     "output_type": "stream",
     "text": [
      "Quadrupole:\n",
      "\tFamName : QF1\n",
      "\tLength : 0.5\n",
      "\tPassMethod : StrMPoleSymplectic4Pass\n",
      "\tNumIntSteps : 10\n",
      "\tMaxOrder : 1\n",
      "\tPolynomA : [0. 0.]\n",
      "\tPolynomB : [0.  2.1]\n",
      "\tK : 2.1\n"
     ]
    }
   ],
   "source": [
    "qf1 = at.Quadrupole(\"QF1\", 0.5, 2.1)\n",
    "print(qf1)"
   ]
  },
  {
   "cell_type": "code",
   "execution_count": 4,
   "id": "e07cfef9-b821-4924-8032-112801723d53",
   "metadata": {
    "editable": true,
    "slideshow": {
     "slide_type": ""
    },
    "tags": []
   },
   "outputs": [
    {
     "name": "stdout",
     "output_type": "stream",
     "text": [
      "lf1: ElementVariable(0.5, name='lf1')\n",
      "0.5\n"
     ]
    }
   ],
   "source": [
    "lf1 = ElementVariable(qf1, \"Length\", name=\"lf1\")\n",
    "print(f\"lf1: {lf1}\")\n",
    "print(lf1.value)"
   ]
  },
  {
   "cell_type": "markdown",
   "id": "b1271329-08be-4655-8884-77d7eec67558",
   "metadata": {},
   "source": [
    "and another variable pointing to the strength of the same magnet:"
   ]
  },
  {
   "cell_type": "code",
   "execution_count": 5,
   "id": "db5c3831-467a-468b-aca7-648b45c90887",
   "metadata": {
    "editable": true,
    "slideshow": {
     "slide_type": ""
    },
    "tags": []
   },
   "outputs": [
    {
     "name": "stdout",
     "output_type": "stream",
     "text": [
      "kf1: ElementVariable(2.1, name='kf1')\n",
      "2.1\n"
     ]
    }
   ],
   "source": [
    "kf1 = ElementVariable(qf1, \"PolynomB\", index=1, name=\"kf1\")\n",
    "print(\"kf1:\", kf1)\n",
    "print(kf1.value)"
   ]
  },
  {
   "cell_type": "markdown",
   "id": "0a3bf50d-8a18-4372-9d38-d5143da1807c",
   "metadata": {},
   "source": [
    "We can check which elements are concerned by the `kf1` variable. The element container is a set, so that no element may appear twice:"
   ]
  },
  {
   "cell_type": "code",
   "execution_count": 6,
   "id": "5fbe7aa7-3264-4de8-a8d7-439b9b7ace2f",
   "metadata": {},
   "outputs": [
    {
     "data": {
      "text/plain": [
       "{Quadrupole('QF1', 0.5, 2.1)}"
      ]
     },
     "execution_count": 6,
     "metadata": {},
     "output_type": "execute_result"
    }
   ],
   "source": [
    "kf1.elements"
   ]
  },
  {
   "cell_type": "markdown",
   "id": "5dc6ea71-8d0a-4b8e-b00f-bebd0b09a874",
   "metadata": {
    "editable": true,
    "slideshow": {
     "slide_type": ""
    },
    "tags": []
   },
   "source": [
    "We can now change the strength of QF1 magnets and check again:"
   ]
  },
  {
   "cell_type": "code",
   "execution_count": 7,
   "id": "d74f4a63-bacf-4ee4-b42a-de75bfbea193",
   "metadata": {},
   "outputs": [
    {
     "name": "stdout",
     "output_type": "stream",
     "text": [
      "Quadrupole:\n",
      "\tFamName : QF1\n",
      "\tLength : 0.5\n",
      "\tPassMethod : StrMPoleSymplectic4Pass\n",
      "\tNumIntSteps : 10\n",
      "\tMaxOrder : 1\n",
      "\tPolynomA : [0. 0.]\n",
      "\tPolynomB : [0.  2.5]\n",
      "\tK : 2.5\n"
     ]
    }
   ],
   "source": [
    "kf1.set(2.5)\n",
    "print(qf1)"
   ]
  },
  {
   "cell_type": "markdown",
   "id": "baed19af-fd43-44d3-a5df-965eed43f0eb",
   "metadata": {},
   "source": [
    "We can look at the history of `kf1` values"
   ]
  },
  {
   "cell_type": "code",
   "execution_count": 8,
   "id": "413145df-30e5-4601-b05a-df2b042028ff",
   "metadata": {},
   "outputs": [
    {
     "data": {
      "text/plain": [
       "[2.1, 2.5]"
      ]
     },
     "execution_count": 8,
     "metadata": {},
     "output_type": "execute_result"
    }
   ],
   "source": [
    "kf1.history"
   ]
  },
  {
   "cell_type": "markdown",
   "id": "c9b693f9-a04e-4cb6-bbd2-37de0733ccb8",
   "metadata": {},
   "source": [
    "And revert to the initial or previous values:"
   ]
  },
  {
   "cell_type": "code",
   "execution_count": 9,
   "id": "70a1bca4-af2d-49b9-8462-989d47ad1efe",
   "metadata": {},
   "outputs": [
    {
     "name": "stdout",
     "output_type": "stream",
     "text": [
      "Quadrupole:\n",
      "\tFamName : QF1\n",
      "\tLength : 0.5\n",
      "\tPassMethod : StrMPoleSymplectic4Pass\n",
      "\tNumIntSteps : 10\n",
      "\tMaxOrder : 1\n",
      "\tPolynomA : [0. 0.]\n",
      "\tPolynomB : [0.  2.1]\n",
      "\tK : 2.1\n"
     ]
    }
   ],
   "source": [
    "kf1.set_previous()\n",
    "print(qf1)"
   ]
  },
  {
   "cell_type": "markdown",
   "id": "c650be51-228a-4ee0-ac73-d741601f992b",
   "metadata": {},
   "source": [
    "An {py:class}`~.lattice_variables.ElementVariable` is linked to Elements. It will apply wherever the element appears but it will not follow any copy of the element, neither shallow nor deep. So if we make a copy of QF1:"
   ]
  },
  {
   "cell_type": "code",
   "execution_count": 10,
   "id": "314c398c-fbbc-43ce-abcc-76ba48cf3c03",
   "metadata": {},
   "outputs": [
    {
     "name": "stdout",
     "output_type": "stream",
     "text": [
      "qf1: 2.1\n",
      "qf2: 2.1\n"
     ]
    }
   ],
   "source": [
    "qf2 = qf1.deepcopy()\n",
    "print(f\"qf1: {qf1.PolynomB[1]}\")\n",
    "print(f\"qf2: {qf2.PolynomB[1]}\")"
   ]
  },
  {
   "cell_type": "markdown",
   "id": "5ea8a7fc-3bb6-4d18-8656-a8f45755c932",
   "metadata": {},
   "source": [
    "and modify the `kf1` variable:"
   ]
  },
  {
   "cell_type": "code",
   "execution_count": 11,
   "id": "8458ab19-3be1-427c-a55d-0ccb029c9f26",
   "metadata": {},
   "outputs": [],
   "source": [
    "kf1.set(2.6)"
   ]
  },
  {
   "cell_type": "code",
   "execution_count": 12,
   "id": "f4c1e653-eeaf-4fd5-be08-2a488bd7df9d",
   "metadata": {
    "editable": true,
    "slideshow": {
     "slide_type": ""
    },
    "tags": []
   },
   "outputs": [
    {
     "name": "stdout",
     "output_type": "stream",
     "text": [
      "qf1: 2.6\n",
      "qf2: 2.1\n"
     ]
    }
   ],
   "source": [
    "print(f\"qf1: {qf1.PolynomB[1]}\")\n",
    "print(f\"qf2: {qf2.PolynomB[1]}\")"
   ]
  },
  {
   "cell_type": "markdown",
   "id": "e2c5b959-448a-425f-bf54-f33b8d189330",
   "metadata": {
    "editable": true,
    "slideshow": {
     "slide_type": ""
    },
    "tags": []
   },
   "source": [
    "The copy of QF1 in is not affected.\n",
    "\n",
    "One can set upper and lower bounds on a variable. Trying to set a value out of the bounds will raise a {py:obj}`ValueError`. The default is (-{py:obj}`numpy.inf`, {py:obj}`numpy.inf`)."
   ]
  },
  {
   "cell_type": "code",
   "execution_count": 13,
   "id": "738f6c51-2968-4d77-8599-261e7998d52b",
   "metadata": {
    "editable": true,
    "slideshow": {
     "slide_type": ""
    },
    "tags": []
   },
   "outputs": [],
   "source": [
    "lfbound = ElementVariable(qf1, \"Length\", bounds=(0.45, 0.55))"
   ]
  },
  {
   "cell_type": "code",
   "execution_count": 14,
   "id": "ba4e728e-fa3e-4d71-9dcb-658d240fd61c",
   "metadata": {
    "editable": true,
    "slideshow": {
     "slide_type": ""
    },
    "tags": [
     "raises-exception"
    ]
   },
   "outputs": [
    {
     "ename": "ValueError",
     "evalue": "set value must be in (0.45, 0.55)",
     "output_type": "error",
     "traceback": [
      "\u001b[0;31m---------------------------------------------------------------------------\u001b[0m",
      "\u001b[0;31mValueError\u001b[0m                                Traceback (most recent call last)",
      "Cell \u001b[0;32mIn[14], line 1\u001b[0m\n\u001b[0;32m----> 1\u001b[0m \u001b[43mlfbound\u001b[49m\u001b[38;5;241;43m.\u001b[39;49m\u001b[43mset\u001b[49m\u001b[43m(\u001b[49m\u001b[38;5;241;43m0.2\u001b[39;49m\u001b[43m)\u001b[49m\n",
      "File \u001b[0;32m~/dev/libraries/at/pyat/at/lattice/variables.py:202\u001b[0m, in \u001b[0;36mVariableBase.set\u001b[0;34m(self, value, ring)\u001b[0m\n\u001b[1;32m    194\u001b[0m \u001b[38;5;250m\u001b[39m\u001b[38;5;124;03m\"\"\"Set the variable value\u001b[39;00m\n\u001b[1;32m    195\u001b[0m \n\u001b[1;32m    196\u001b[0m \u001b[38;5;124;03mArgs:\u001b[39;00m\n\u001b[0;32m   (...)\u001b[0m\n\u001b[1;32m    199\u001b[0m \u001b[38;5;124;03m      may be necessary to set the variable.\u001b[39;00m\n\u001b[1;32m    200\u001b[0m \u001b[38;5;124;03m\"\"\"\u001b[39;00m\n\u001b[1;32m    201\u001b[0m \u001b[38;5;28;01mif\u001b[39;00m value \u001b[38;5;241m<\u001b[39m \u001b[38;5;28mself\u001b[39m\u001b[38;5;241m.\u001b[39mbounds[\u001b[38;5;241m0\u001b[39m] \u001b[38;5;129;01mor\u001b[39;00m value \u001b[38;5;241m>\u001b[39m \u001b[38;5;28mself\u001b[39m\u001b[38;5;241m.\u001b[39mbounds[\u001b[38;5;241m1\u001b[39m]:\n\u001b[0;32m--> 202\u001b[0m     \u001b[38;5;28;01mraise\u001b[39;00m \u001b[38;5;167;01mValueError\u001b[39;00m(\u001b[38;5;124mf\u001b[39m\u001b[38;5;124m\"\u001b[39m\u001b[38;5;124mset value must be in \u001b[39m\u001b[38;5;132;01m{\u001b[39;00m\u001b[38;5;28mself\u001b[39m\u001b[38;5;241m.\u001b[39mbounds\u001b[38;5;132;01m}\u001b[39;00m\u001b[38;5;124m\"\u001b[39m)\n\u001b[1;32m    203\u001b[0m \u001b[38;5;28mself\u001b[39m\u001b[38;5;241m.\u001b[39m_setfun(value, ring\u001b[38;5;241m=\u001b[39mring)\n\u001b[1;32m    204\u001b[0m \u001b[38;5;28;01mif\u001b[39;00m np\u001b[38;5;241m.\u001b[39misnan(\u001b[38;5;28mself\u001b[39m\u001b[38;5;241m.\u001b[39m_initial):\n",
      "\u001b[0;31mValueError\u001b[0m: set value must be in (0.45, 0.55)"
     ]
    }
   ],
   "source": [
    "lfbound.set(0.2)"
   ]
  },
  {
   "cell_type": "markdown",
   "id": "ef061e87-74e7-446d-b93c-a5c84269ce0c",
   "metadata": {
    "editable": true,
    "slideshow": {
     "slide_type": ""
    },
    "tags": []
   },
   "source": [
    "Variables also accept a *delta* keyword argument. Its value is used as the initial step in matching, and in the {py:meth}`~.variables.VariableBase.step_up` and {py:meth}`~.variables.VariableBase.step_down` methods."
   ]
  },
  {
   "cell_type": "markdown",
   "id": "7ee77711-5ae6-4e9c-8fa6-78dcbf8d21ca",
   "metadata": {
    "editable": true,
    "slideshow": {
     "slide_type": ""
    },
    "tags": []
   },
   "source": [
    "## {py:class}`.RefptsVariable`\n",
    "\n",
    "An {py:class}`.RefptsVariable` is similar to an {py:class}`~.lattice_variables.ElementVariable` but it is not associated with an {py:class}`~.Element`\n",
    "itself, but with its location in a Lattice. So it will act on any lattice with the same elements.\n",
    "\n",
    "But it needs a *ring* keyword in its *set* and *get* methods, to identify the selected lattice.\n",
    "\n",
    "Let's load a test ring and make a copy of it:"
   ]
  },
  {
   "cell_type": "code",
   "execution_count": 15,
   "id": "10bf3120-0126-484f-8704-1b8ee02eabe0",
   "metadata": {},
   "outputs": [],
   "source": [
    "fname = \"hmba.mat\"\n",
    "with as_file(files(\"machine_data\") / fname) as path:\n",
    "    ring = at.load_lattice(path)\n",
    "newring = ring.deepcopy()"
   ]
  },
  {
   "cell_type": "markdown",
   "id": "30f5880c-5473-4452-8d00-d4a0853e1562",
   "metadata": {},
   "source": [
    "and create a {py:class}`.RefptsVariable`"
   ]
  },
  {
   "cell_type": "code",
   "execution_count": 16,
   "id": "8cd07413-331c-4b93-b160-cb896c23cc1e",
   "metadata": {},
   "outputs": [],
   "source": [
    "kf2 = RefptsVariable(\"QF1[AE]\", \"PolynomB\", index=1, name=\"kf2\")"
   ]
  },
  {
   "cell_type": "markdown",
   "id": "fa01f10a-02d5-49f8-b00d-92651227db35",
   "metadata": {},
   "source": [
    "We can now use this variable on the two rings:"
   ]
  },
  {
   "cell_type": "code",
   "execution_count": 17,
   "id": "8f7b53ee-1d3a-4591-afa5-ec11fefcef8a",
   "metadata": {},
   "outputs": [],
   "source": [
    "kf2.set(2.55, ring=ring)\n",
    "kf2.set(2.45, ring=newring)"
   ]
  },
  {
   "cell_type": "code",
   "execution_count": 18,
   "id": "a2c16507-5153-4ff0-a27c-5a292c3b78f4",
   "metadata": {},
   "outputs": [
    {
     "name": "stdout",
     "output_type": "stream",
     "text": [
      "   ring:   2.55\n",
      "newring: 2.45\n"
     ]
    }
   ],
   "source": [
    "print(f\"   ring:   {ring[5].PolynomB[1]}\")\n",
    "print(f\"newring: {newring[5].PolynomB[1]}\")"
   ]
  },
  {
   "cell_type": "markdown",
   "id": "204d24e6-1e9b-4838-a950-3a8e1df5cac4",
   "metadata": {
    "editable": true,
    "slideshow": {
     "slide_type": ""
    },
    "tags": []
   },
   "source": [
    "## Custom variables\n",
    "Custom variables allow access to almost any quantity in AT. This can be achieved either by subclassing the {py:class}`~.variables.VariableBase` abstract base class, or by using a {py:class}`~.variables.CustomVariable`.\n",
    "\n",
    "We will take 2 examples:\n",
    "\n",
    "1. A variable accessing the *DPStep* parameter used in chromaticity computations. It does not look like a very\n",
    "   useful variable, it's for demonstration purpose,\n",
    "2. A variable accessing the energy of a given lattice\n",
    "\n",
    "### Using the {py:class}`~.variables.CustomVariable`\n",
    "\n",
    "Using a {py:class}`~.variables.CustomVariable` makes it very easy to define simple variables: we just need\n",
    "to define two functions for the \"get\" and \"set\" actions, and give them to the {py:class}`~.variables.CustomVariable` constructor.\n",
    "\n",
    "#### Example 1\n",
    "\n",
    "We define 2 functions for setting and getting the variable value:"
   ]
  },
  {
   "cell_type": "code",
   "execution_count": 19,
   "id": "55a35ed2-a93b-4611-8a57-d7bce36a39f3",
   "metadata": {},
   "outputs": [],
   "source": [
    "def setvar1(value, ring=None):\n",
    "    at.DConstant.DPStep = value\n",
    "\n",
    "\n",
    "def getvar1(ring=None):\n",
    "    return at.DConstant.DPStep"
   ]
  },
  {
   "cell_type": "code",
   "execution_count": 20,
   "id": "347abd5d-bfc9-469c-aae8-715fdfa11009",
   "metadata": {},
   "outputs": [
    {
     "name": "stdout",
     "output_type": "stream",
     "text": [
      "3e-06\n"
     ]
    }
   ],
   "source": [
    "dpstep_var = CustomVariable(setvar1, getvar1, bounds=(1.0e-12, 0.1))\n",
    "print(dpstep_var.value)"
   ]
  },
  {
   "cell_type": "code",
   "execution_count": 21,
   "id": "f563564d-a862-4a11-9e9d-2e8864fa082d",
   "metadata": {},
   "outputs": [
    {
     "name": "stdout",
     "output_type": "stream",
     "text": [
      "0.0002\n"
     ]
    }
   ],
   "source": [
    "dpstep_var.value = 2.0e-4\n",
    "print(at.DConstant.DPStep)"
   ]
  },
  {
   "cell_type": "markdown",
   "id": "a52236a1-bcc2-4040-811e-4a1aadc11a42",
   "metadata": {},
   "source": [
    "#### Example 2\n",
    "\n",
    "We can give to the {py:class}`~.variables.CustomVariable` constructor any positional or keyword argument\n",
    "necessary for the *set* and *get* functions. Here we will send the lattice as a positional argument:"
   ]
  },
  {
   "cell_type": "code",
   "execution_count": 22,
   "id": "8b5235c9-089d-46d2-a761-1044b445e583",
   "metadata": {
    "editable": true,
    "slideshow": {
     "slide_type": ""
    },
    "tags": []
   },
   "outputs": [],
   "source": [
    "def setvar2(value, lattice, ring=None):\n",
    "    lattice.energy = value\n",
    "\n",
    "\n",
    "def getvar2(lattice, ring=None):\n",
    "    return lattice.energy\n",
    "\n",
    "\n",
    "energy_var = CustomVariable(setvar2, getvar2, newring)"
   ]
  },
  {
   "cell_type": "markdown",
   "id": "24d9b25f-d712-4056-800f-7f9bca6b2749",
   "metadata": {},
   "source": [
    "Here, the *newring* positional argument given to the variable constructor is available as a positional argument\n",
    "in both the *set* and *get* functions."
   ]
  },
  {
   "cell_type": "code",
   "execution_count": 23,
   "id": "957c8990-d5e8-435d-959d-31109ff7cd17",
   "metadata": {},
   "outputs": [
    {
     "name": "stdout",
     "output_type": "stream",
     "text": [
      "6000000000.0\n"
     ]
    }
   ],
   "source": [
    "print(energy_var.value)"
   ]
  },
  {
   "cell_type": "code",
   "execution_count": 24,
   "id": "3db01f54-db31-4042-b8b3-ac3289591ccb",
   "metadata": {},
   "outputs": [
    {
     "name": "stdout",
     "output_type": "stream",
     "text": [
      "6100000000.0\n"
     ]
    }
   ],
   "source": [
    "energy_var.value = 6.1e9\n",
    "print(energy_var.value)"
   ]
  },
  {
   "cell_type": "markdown",
   "id": "70085e74-406b-450b-844b-5880a7847610",
   "metadata": {},
   "source": [
    "We can look at the history of the variable"
   ]
  },
  {
   "cell_type": "code",
   "execution_count": 25,
   "id": "786e4424-8840-490c-8ac0-1db350c0ef00",
   "metadata": {},
   "outputs": [
    {
     "data": {
      "text/plain": [
       "[6000000000.0, 6100000000.0]"
      ]
     },
     "execution_count": 25,
     "metadata": {},
     "output_type": "execute_result"
    }
   ],
   "source": [
    "energy_var.history"
   ]
  },
  {
   "cell_type": "markdown",
   "id": "4f158c03-f238-43c8-912f-8bbcdc98efb0",
   "metadata": {},
   "source": [
    "and go back to the initial value"
   ]
  },
  {
   "cell_type": "code",
   "execution_count": 26,
   "id": "9df21be4-0cf4-4499-aa0f-0fd7014f8934",
   "metadata": {},
   "outputs": [],
   "source": [
    "energy_var.reset()"
   ]
  },
  {
   "cell_type": "markdown",
   "id": "0dc64ddf-26fd-4c19-a76b-b55f79b89717",
   "metadata": {},
   "source": [
    "### By derivation of the {py:class}`~.variables.VariableBase` class\n",
    "\n",
    "The derivation of {py:class}`~.variables.VariableBase` allows more control on the created variable by using\n",
    "the class constuctor and its arguments to setup the variable.\n",
    "\n",
    "We will write a new variable class based on {py:class}`~.variables.VariableBase` abstract base class. The main task is to implement the `_setfun` and `_getfun` abstract methods.\n",
    "\n",
    "#### Example 1"
   ]
  },
  {
   "cell_type": "code",
   "execution_count": 27,
   "id": "7474764c-88ee-49df-9f85-b9e7f04aefbb",
   "metadata": {},
   "outputs": [],
   "source": [
    "class DPStepVariable(VariableBase):\n",
    "\n",
    "    def _setfun(self, value, ring=None):\n",
    "        at.DConstant.DPStep = value\n",
    "\n",
    "    def _getfun(self, ring=None):\n",
    "        return at.DConstant.DPStep"
   ]
  },
  {
   "cell_type": "code",
   "execution_count": 28,
   "id": "d838c699-8f99-4eb7-8784-acd503731888",
   "metadata": {},
   "outputs": [
    {
     "name": "stdout",
     "output_type": "stream",
     "text": [
      "0.0002\n"
     ]
    }
   ],
   "source": [
    "dpstep_var = DPStepVariable()\n",
    "print(dpstep_var.value)"
   ]
  },
  {
   "cell_type": "code",
   "execution_count": 29,
   "id": "13fcbedf-f2e8-46f5-ab01-5a8c80608c76",
   "metadata": {},
   "outputs": [
    {
     "name": "stdout",
     "output_type": "stream",
     "text": [
      "3e-06\n"
     ]
    }
   ],
   "source": [
    "dpstep_var.value = 3.0e-6\n",
    "print(dpstep_var.value)"
   ]
  },
  {
   "cell_type": "markdown",
   "id": "03d34984-79a4-4736-b902-7b77bdbd5a89",
   "metadata": {},
   "source": [
    "#### Example 2\n",
    "\n",
    "Here we will store the lattice as an instance variable in the class constructor:"
   ]
  },
  {
   "cell_type": "code",
   "execution_count": 30,
   "id": "547bdb0a-c1ea-4861-88d3-407329478391",
   "metadata": {},
   "outputs": [],
   "source": [
    "class EnergyVariable(VariableBase):\n",
    "    def __init__(self, lattice, *args, **kwargs):\n",
    "        # Store the lattice\n",
    "        self.lattice = lattice\n",
    "        # Initialise the parent class\n",
    "        super().__init__(*args, **kwargs)\n",
    "\n",
    "    def _setfun(self, value, ring=None):\n",
    "        self.lattice.energy = value\n",
    "\n",
    "    def _getfun(self, ring=None):\n",
    "        return self.lattice.energy"
   ]
  },
  {
   "cell_type": "markdown",
   "id": "4195859c-3455-46ae-a443-f905926c7517",
   "metadata": {},
   "source": [
    "We construct the variable:"
   ]
  },
  {
   "cell_type": "code",
   "execution_count": 31,
   "id": "2c61510b-3fab-4d1c-8dd3-5a0dc9e8659f",
   "metadata": {},
   "outputs": [],
   "source": [
    "energy_var = EnergyVariable(ring)"
   ]
  },
  {
   "cell_type": "markdown",
   "id": "bed78285-ae04-426a-9c04-b3796d80533b",
   "metadata": {},
   "source": [
    "Look at the initial state:"
   ]
  },
  {
   "cell_type": "code",
   "execution_count": 32,
   "id": "2f75312e-c088-43fb-b7f8-d0179363167d",
   "metadata": {},
   "outputs": [
    {
     "name": "stdout",
     "output_type": "stream",
     "text": [
      "6000000000.0\n"
     ]
    }
   ],
   "source": [
    "print(energy_var.value)"
   ]
  },
  {
   "cell_type": "code",
   "execution_count": 33,
   "id": "8fb40e51-9c5d-4f81-abfe-64e577a74656",
   "metadata": {},
   "outputs": [
    {
     "name": "stdout",
     "output_type": "stream",
     "text": [
      "6100000000.0\n"
     ]
    }
   ],
   "source": [
    "energy_var.value = 6.1e9\n",
    "print(energy_var.value)"
   ]
  },
  {
   "cell_type": "code",
   "execution_count": 34,
   "id": "54d43d08-0480-43bc-a260-631cf44f800a",
   "metadata": {},
   "outputs": [],
   "source": [
    "energy_var.reset()"
   ]
  }
 ],
 "metadata": {
  "kernelspec": {
   "display_name": "Python 3 (ipykernel)",
   "language": "python",
   "name": "python3"
  },
  "language_info": {
   "codemirror_mode": {
    "name": "ipython",
    "version": 3
   },
   "file_extension": ".py",
   "mimetype": "text/x-python",
   "name": "python",
   "nbconvert_exporter": "python",
   "pygments_lexer": "ipython3",
   "version": "3.9.19"
  }
 },
 "nbformat": 4,
 "nbformat_minor": 5
}
